{
 "cells": [
  {
   "cell_type": "code",
   "execution_count": 1,
   "metadata": {
    "collapsed": true
   },
   "outputs": [],
   "source": [
    "import seaborn as sns\n",
    "import csv\n",
    "import numpy as np\n",
    "import pandas as pd\n",
    "import matplotlib.pyplot as plt\n",
    "import zipfile\n",
    "from pathlib import Path\n",
    "from datetime import datetime"
   ]
  },
  {
   "cell_type": "markdown",
   "metadata": {},
   "source": [
    "# San Diego International Airport (SAN) Performance Analysis\n",
    "\n",
    "### Author: Shichao Han (schan21@berkeley.edu)\n",
    "**April 2, 2019**     "
   ]
  },
  {
   "cell_type": "markdown",
   "metadata": {},
   "source": [
    "# Introduction  \n",
    "### 1. Data Source:  \n",
    "(1) The 2011 and 2018 San Diego Airport Operation Data comes from the Department of Transportation's public data. No confidential data are involved in this analysis.   \n",
    "(2) Aircrafts' performance data are downloaded from [Beoing](https://www.boeing.com/commercial/airports/plan_manuals.page) and [Airbus](https://www.airbus.com/aircraft/support-services/airport-operations-and-technical-data/aircraft-characteristics.html )'s official website. (Click to see the link).  \n",
    "### 2. Objectives:  \n",
    "(1) Examine airports' operation data and analyze the trend; provide information about airport's performance \n",
    "(2) **Critical Aircraft** analysis (critical aircraft: the most demanding aircraft type, or grouping of aircraft with similar characteristics, that make the regular use of the airport (regualr use: > 500 anual operations)).   \n",
    "(3) **Runway requirements**  \n",
    "(4) **Average Weekday Peak Month(AWPM)** Analysis for 2011 data. AWPM: one weekday representative of the month with peak operation counts  \n",
    "(5) **Forcasting** the growth  \n",
    "(6) **2018** Paerformance Analysis  \n",
    "(7) **Discussion**: on possible influence seen by passengers, FAA and the airport\n",
    "\n"
   ]
  },
  {
   "cell_type": "markdown",
   "metadata": {},
   "source": [
    "### Data Preparation"
   ]
  },
  {
   "cell_type": "code",
   "execution_count": 3,
   "metadata": {
    "collapsed": true
   },
   "outputs": [],
   "source": [
    "san_old = pd.read_csv('2011_SAN_OAG.csv')\n",
    "san_new = pd.read_csv('2018_SAN_OAG.csv')"
   ]
  },
  {
   "cell_type": "code",
   "execution_count": 4,
   "metadata": {
    "collapsed": true
   },
   "outputs": [],
   "source": [
    "san_old['dt'] = pd.to_datetime(san_old['Dep_Date'] + \" \" + san_old['Dep_Time'])"
   ]
  },
  {
   "cell_type": "code",
   "execution_count": 5,
   "metadata": {
    "collapsed": true
   },
   "outputs": [],
   "source": [
    "san_old['at'] = pd.to_datetime(san_old['Arr_Date'] + \" \" + san_old['Arr_Time'])"
   ]
  },
  {
   "cell_type": "code",
   "execution_count": 6,
   "metadata": {
    "collapsed": true
   },
   "outputs": [],
   "source": [
    "san_old_dept = san_old[san_old['Dep Airport Code'] =='SAN']\n",
    "san_old_arr = san_old[san_old['Arr Airport Code'] =='SAN']\n",
    "san_old_dept_monthday = pd.read_csv('./output/san_old_dept_monthday.csv').iloc[:,1:]\n",
    "day_counts = pd.read_csv('./output/day_counts.csv').iloc[:,1:]\n",
    "day_counts = pd.read_csv('./output/day_counts.csv').iloc[:,1:]"
   ]
  },
  {
   "cell_type": "code",
   "execution_count": 7,
   "metadata": {
    "collapsed": true
   },
   "outputs": [],
   "source": [
    "rolling_18 = pd.read_csv('./output/rolling_18.csv').iloc[:,1:]"
   ]
  },
  {
   "cell_type": "code",
   "execution_count": 8,
   "metadata": {
    "collapsed": true
   },
   "outputs": [],
   "source": [
    "san_18_actype = pd.read_csv('./output/san_18_actype.csv')"
   ]
  },
  {
   "cell_type": "code",
   "execution_count": 9,
   "metadata": {
    "collapsed": true
   },
   "outputs": [],
   "source": [
    "aircraft_type_2011 = san_old['Specific Aircraft Name'].value_counts().to_frame()"
   ]
  },
  {
   "cell_type": "code",
   "execution_count": 10,
   "metadata": {
    "collapsed": true
   },
   "outputs": [],
   "source": [
    "san_2011_actype = pd.read_csv('./output/aircraft_type_2011.csv')"
   ]
  },
  {
   "cell_type": "code",
   "execution_count": 11,
   "metadata": {
    "collapsed": true
   },
   "outputs": [],
   "source": [
    "san_new_summ = pd.read_csv('./output/san_new_summ.csv').iloc[:,1:]"
   ]
  },
  {
   "cell_type": "code",
   "execution_count": 12,
   "metadata": {
    "collapsed": true
   },
   "outputs": [],
   "source": [
    "awpm_17_summ = pd.read_csv('./output/awpm_17_summ.csv').iloc[:,1:]"
   ]
  },
  {
   "cell_type": "code",
   "execution_count": 13,
   "metadata": {
    "collapsed": true
   },
   "outputs": [],
   "source": [
    "awpm_17_summ['total operation count'] = awpm_17_summ['dept count'] + awpm_17_summ['arr count']\n"
   ]
  },
  {
   "cell_type": "code",
   "execution_count": 14,
   "metadata": {
    "collapsed": true
   },
   "outputs": [],
   "source": [
    "grouped_seats = san_old['Seats'].value_counts().to_frame().rename(columns = {'Seats': 'Count'}).reset_index()\n",
    "grouped_seats = grouped_seats.rename(columns = {'index': 'Seats Number'})\n",
    "grouped_seats = grouped_seats.sort_values('Count', ascending = False)"
   ]
  },
  {
   "cell_type": "code",
   "execution_count": 15,
   "metadata": {
    "collapsed": true
   },
   "outputs": [],
   "source": [
    "by_seats_and_type = san_old[['Seats', 'Specific Aircraft Name']].groupby(['Seats', 'Specific Aircraft Name']).agg(len).to_frame()"
   ]
  },
  {
   "cell_type": "code",
   "execution_count": 16,
   "metadata": {
    "collapsed": true
   },
   "outputs": [],
   "source": [
    "by_seats_and_type = by_seats_and_type.rename(columns = {0: 'Counts'})"
   ]
  },
  {
   "cell_type": "code",
   "execution_count": 17,
   "metadata": {
    "collapsed": true
   },
   "outputs": [],
   "source": [
    "san_new_by_seats = pd.read_csv('./output/san_new_by_seats.csv').iloc[:,1:]"
   ]
  },
  {
   "cell_type": "markdown",
   "metadata": {},
   "source": [
    "## Part I: 2011 Design Aircraft "
   ]
  },
  {
   "cell_type": "markdown",
   "metadata": {},
   "source": [
    "**Definition** of **critical aircraft**: the most demanding aircraft type, or grouping of aircraft with similar characteristics, that make the regular use of the airport (regualr use: > 500 anual operations).  \n"
   ]
  },
  {
   "cell_type": "markdown",
   "metadata": {},
   "source": [
    "_MOTIVATION_: although it is reasonable to group the aircrafts by their total seats number, the aircraft producers (e.g. Boeing and Airbus) provide detailed data on aircraft characteristics based on aircraft type. The data source for the Rayload charts is also the motivation behind the grouping by aircraft type in order to determine deterministic aircraft type of airport planning. \n"
   ]
  },
  {
   "cell_type": "markdown",
   "metadata": {},
   "source": [
    "### 1. Number of operations by aircraft type"
   ]
  },
  {
   "cell_type": "code",
   "execution_count": 18,
   "metadata": {},
   "outputs": [
    {
     "data": {
      "text/html": [
       "<div>\n",
       "<style>\n",
       "    .dataframe thead tr:only-child th {\n",
       "        text-align: right;\n",
       "    }\n",
       "\n",
       "    .dataframe thead th {\n",
       "        text-align: left;\n",
       "    }\n",
       "\n",
       "    .dataframe tbody tr th {\n",
       "        vertical-align: top;\n",
       "    }\n",
       "</style>\n",
       "<table border=\"1\" class=\"dataframe\">\n",
       "  <thead>\n",
       "    <tr style=\"text-align: right;\">\n",
       "      <th></th>\n",
       "      <th>Aircraft Type</th>\n",
       "      <th>Count</th>\n",
       "    </tr>\n",
       "  </thead>\n",
       "  <tbody>\n",
       "    <tr>\n",
       "      <th>0</th>\n",
       "      <td>Boeing 737-700 Passenger</td>\n",
       "      <td>41928</td>\n",
       "    </tr>\n",
       "    <tr>\n",
       "      <th>1</th>\n",
       "      <td>Boeing 737-300 Passenger</td>\n",
       "      <td>22095</td>\n",
       "    </tr>\n",
       "    <tr>\n",
       "      <th>2</th>\n",
       "      <td>Airbus A320</td>\n",
       "      <td>16758</td>\n",
       "    </tr>\n",
       "    <tr>\n",
       "      <th>3</th>\n",
       "      <td>Boeing 737-800 Passenger</td>\n",
       "      <td>8594</td>\n",
       "    </tr>\n",
       "    <tr>\n",
       "      <th>4</th>\n",
       "      <td>Boeing 737-800 (winglets) Passenger</td>\n",
       "      <td>7939</td>\n",
       "    </tr>\n",
       "    <tr>\n",
       "      <th>5</th>\n",
       "      <td>Airbus A319</td>\n",
       "      <td>7429</td>\n",
       "    </tr>\n",
       "    <tr>\n",
       "      <th>6</th>\n",
       "      <td>Embraer RJ140</td>\n",
       "      <td>7144</td>\n",
       "    </tr>\n",
       "    <tr>\n",
       "      <th>7</th>\n",
       "      <td>Embraer 120 Brasilia</td>\n",
       "      <td>6344</td>\n",
       "    </tr>\n",
       "    <tr>\n",
       "      <th>8</th>\n",
       "      <td>Canadair Regional Jet</td>\n",
       "      <td>5370</td>\n",
       "    </tr>\n",
       "    <tr>\n",
       "      <th>9</th>\n",
       "      <td>Boeing 757-200 Passenger</td>\n",
       "      <td>4930</td>\n",
       "    </tr>\n",
       "    <tr>\n",
       "      <th>10</th>\n",
       "      <td>Boeing (douglas) MD-80</td>\n",
       "      <td>4359</td>\n",
       "    </tr>\n",
       "    <tr>\n",
       "      <th>11</th>\n",
       "      <td>Boeing 757 (Passenger)</td>\n",
       "      <td>4331</td>\n",
       "    </tr>\n",
       "    <tr>\n",
       "      <th>12</th>\n",
       "      <td>Airbus A321</td>\n",
       "      <td>4297</td>\n",
       "    </tr>\n",
       "    <tr>\n",
       "      <th>13</th>\n",
       "      <td>Boeing 737-500 Passenger</td>\n",
       "      <td>3759</td>\n",
       "    </tr>\n",
       "    <tr>\n",
       "      <th>14</th>\n",
       "      <td>Canadair Regional Jet 700</td>\n",
       "      <td>3086</td>\n",
       "    </tr>\n",
       "    <tr>\n",
       "      <th>15</th>\n",
       "      <td>Boeing 737-900 Passenger</td>\n",
       "      <td>2936</td>\n",
       "    </tr>\n",
       "    <tr>\n",
       "      <th>16</th>\n",
       "      <td>Boeing 737-400 Passenger</td>\n",
       "      <td>2191</td>\n",
       "    </tr>\n",
       "    <tr>\n",
       "      <th>17</th>\n",
       "      <td>Boeing (douglas) MD-83</td>\n",
       "      <td>1638</td>\n",
       "    </tr>\n",
       "    <tr>\n",
       "      <th>18</th>\n",
       "      <td>Canadair Regional Jet 900</td>\n",
       "      <td>1338</td>\n",
       "    </tr>\n",
       "    <tr>\n",
       "      <th>19</th>\n",
       "      <td>Boeing 767-300 Passenger</td>\n",
       "      <td>1284</td>\n",
       "    </tr>\n",
       "    <tr>\n",
       "      <th>20</th>\n",
       "      <td>Embraer 190</td>\n",
       "      <td>1116</td>\n",
       "    </tr>\n",
       "    <tr>\n",
       "      <th>21</th>\n",
       "      <td>Boeing (douglas) MD-90</td>\n",
       "      <td>591</td>\n",
       "    </tr>\n",
       "    <tr>\n",
       "      <th>22</th>\n",
       "      <td>Airbus A318</td>\n",
       "      <td>486</td>\n",
       "    </tr>\n",
       "    <tr>\n",
       "      <th>23</th>\n",
       "      <td>Boeing 777 Passenger</td>\n",
       "      <td>424</td>\n",
       "    </tr>\n",
       "    <tr>\n",
       "      <th>24</th>\n",
       "      <td>Boeing 737-700 (winglets) Passenger</td>\n",
       "      <td>424</td>\n",
       "    </tr>\n",
       "    <tr>\n",
       "      <th>25</th>\n",
       "      <td>Airbus A318 /319 /320 /321</td>\n",
       "      <td>269</td>\n",
       "    </tr>\n",
       "    <tr>\n",
       "      <th>26</th>\n",
       "      <td>Boeing 757-300 Passenger</td>\n",
       "      <td>48</td>\n",
       "    </tr>\n",
       "    <tr>\n",
       "      <th>27</th>\n",
       "      <td>Boeing 767-200 Passenger</td>\n",
       "      <td>36</td>\n",
       "    </tr>\n",
       "    <tr>\n",
       "      <th>28</th>\n",
       "      <td>Embraer 170</td>\n",
       "      <td>16</td>\n",
       "    </tr>\n",
       "    <tr>\n",
       "      <th>29</th>\n",
       "      <td>Boeing 767-400 Passenger</td>\n",
       "      <td>2</td>\n",
       "    </tr>\n",
       "    <tr>\n",
       "      <th>30</th>\n",
       "      <td>Boeing 737-600 Passenger</td>\n",
       "      <td>2</td>\n",
       "    </tr>\n",
       "  </tbody>\n",
       "</table>\n",
       "</div>"
      ],
      "text/plain": [
       "                          Aircraft Type  Count\n",
       "0              Boeing 737-700 Passenger  41928\n",
       "1              Boeing 737-300 Passenger  22095\n",
       "2                           Airbus A320  16758\n",
       "3              Boeing 737-800 Passenger   8594\n",
       "4   Boeing 737-800 (winglets) Passenger   7939\n",
       "5                           Airbus A319   7429\n",
       "6                         Embraer RJ140   7144\n",
       "7                  Embraer 120 Brasilia   6344\n",
       "8                 Canadair Regional Jet   5370\n",
       "9              Boeing 757-200 Passenger   4930\n",
       "10               Boeing (douglas) MD-80   4359\n",
       "11               Boeing 757 (Passenger)   4331\n",
       "12                          Airbus A321   4297\n",
       "13             Boeing 737-500 Passenger   3759\n",
       "14            Canadair Regional Jet 700   3086\n",
       "15             Boeing 737-900 Passenger   2936\n",
       "16             Boeing 737-400 Passenger   2191\n",
       "17               Boeing (douglas) MD-83   1638\n",
       "18            Canadair Regional Jet 900   1338\n",
       "19             Boeing 767-300 Passenger   1284\n",
       "20                          Embraer 190   1116\n",
       "21               Boeing (douglas) MD-90    591\n",
       "22                          Airbus A318    486\n",
       "23                 Boeing 777 Passenger    424\n",
       "24  Boeing 737-700 (winglets) Passenger    424\n",
       "25           Airbus A318 /319 /320 /321    269\n",
       "26             Boeing 757-300 Passenger     48\n",
       "27             Boeing 767-200 Passenger     36\n",
       "28                          Embraer 170     16\n",
       "29             Boeing 767-400 Passenger      2\n",
       "30             Boeing 737-600 Passenger      2"
      ]
     },
     "execution_count": 18,
     "metadata": {},
     "output_type": "execute_result"
    }
   ],
   "source": [
    "san_2011_actype"
   ]
  },
  {
   "cell_type": "markdown",
   "metadata": {},
   "source": [
    "### 2. Design aircraft"
   ]
  },
  {
   "cell_type": "markdown",
   "metadata": {},
   "source": [
    "#### Approach I: grouping by aircraft type   \n",
    "Answer: **Boeing 767-300 Passenger** (without grouping) and **Boeing 777 Passenger** (after grouping)"
   ]
  },
  {
   "cell_type": "markdown",
   "metadata": {},
   "source": [
    "_MOTIVATION_: Runway length requirements, Airport Design Group, and other airport design requirements are determined by aircraft type. Therefore, grouping by aircraft type might produce meaningful data summary that can be meaninigful to the airport planning decision making. "
   ]
  },
  {
   "cell_type": "code",
   "execution_count": 19,
   "metadata": {},
   "outputs": [
    {
     "data": {
      "text/html": [
       "<div>\n",
       "<style>\n",
       "    .dataframe thead tr:only-child th {\n",
       "        text-align: right;\n",
       "    }\n",
       "\n",
       "    .dataframe thead th {\n",
       "        text-align: left;\n",
       "    }\n",
       "\n",
       "    .dataframe tbody tr th {\n",
       "        vertical-align: top;\n",
       "    }\n",
       "</style>\n",
       "<table border=\"1\" class=\"dataframe\">\n",
       "  <thead>\n",
       "    <tr style=\"text-align: right;\">\n",
       "      <th></th>\n",
       "      <th>Aircraft Type</th>\n",
       "      <th>Count</th>\n",
       "      <th>Percentage(%)</th>\n",
       "    </tr>\n",
       "  </thead>\n",
       "  <tbody>\n",
       "    <tr>\n",
       "      <th>0</th>\n",
       "      <td>Boeing 737-700 Passenger</td>\n",
       "      <td>41928</td>\n",
       "      <td>26.015736</td>\n",
       "    </tr>\n",
       "    <tr>\n",
       "      <th>1</th>\n",
       "      <td>Boeing 737-300 Passenger</td>\n",
       "      <td>22095</td>\n",
       "      <td>13.709637</td>\n",
       "    </tr>\n",
       "    <tr>\n",
       "      <th>2</th>\n",
       "      <td>Airbus A320</td>\n",
       "      <td>16758</td>\n",
       "      <td>10.398104</td>\n",
       "    </tr>\n",
       "    <tr>\n",
       "      <th>3</th>\n",
       "      <td>Boeing 737-800 Passenger</td>\n",
       "      <td>8594</td>\n",
       "      <td>5.332456</td>\n",
       "    </tr>\n",
       "    <tr>\n",
       "      <th>4</th>\n",
       "      <td>Boeing 737-800 (winglets) Passenger</td>\n",
       "      <td>7939</td>\n",
       "      <td>4.926038</td>\n",
       "    </tr>\n",
       "    <tr>\n",
       "      <th>5</th>\n",
       "      <td>Airbus A319</td>\n",
       "      <td>7429</td>\n",
       "      <td>4.609590</td>\n",
       "    </tr>\n",
       "    <tr>\n",
       "      <th>6</th>\n",
       "      <td>Embraer RJ140</td>\n",
       "      <td>7144</td>\n",
       "      <td>4.432752</td>\n",
       "    </tr>\n",
       "    <tr>\n",
       "      <th>7</th>\n",
       "      <td>Embraer 120 Brasilia</td>\n",
       "      <td>6344</td>\n",
       "      <td>3.936363</td>\n",
       "    </tr>\n",
       "    <tr>\n",
       "      <th>8</th>\n",
       "      <td>Canadair Regional Jet</td>\n",
       "      <td>5370</td>\n",
       "      <td>3.332010</td>\n",
       "    </tr>\n",
       "    <tr>\n",
       "      <th>9</th>\n",
       "      <td>Boeing 757-200 Passenger</td>\n",
       "      <td>4930</td>\n",
       "      <td>3.058996</td>\n",
       "    </tr>\n",
       "    <tr>\n",
       "      <th>10</th>\n",
       "      <td>Boeing (douglas) MD-80</td>\n",
       "      <td>4359</td>\n",
       "      <td>2.704698</td>\n",
       "    </tr>\n",
       "    <tr>\n",
       "      <th>11</th>\n",
       "      <td>Boeing 757 (Passenger)</td>\n",
       "      <td>4331</td>\n",
       "      <td>2.687325</td>\n",
       "    </tr>\n",
       "    <tr>\n",
       "      <th>12</th>\n",
       "      <td>Airbus A321</td>\n",
       "      <td>4297</td>\n",
       "      <td>2.666228</td>\n",
       "    </tr>\n",
       "    <tr>\n",
       "      <th>13</th>\n",
       "      <td>Boeing 737-500 Passenger</td>\n",
       "      <td>3759</td>\n",
       "      <td>2.332407</td>\n",
       "    </tr>\n",
       "    <tr>\n",
       "      <th>14</th>\n",
       "      <td>Canadair Regional Jet 700</td>\n",
       "      <td>3086</td>\n",
       "      <td>1.914820</td>\n",
       "    </tr>\n",
       "    <tr>\n",
       "      <th>15</th>\n",
       "      <td>Boeing 737-900 Passenger</td>\n",
       "      <td>2936</td>\n",
       "      <td>1.821747</td>\n",
       "    </tr>\n",
       "    <tr>\n",
       "      <th>16</th>\n",
       "      <td>Boeing 737-400 Passenger</td>\n",
       "      <td>2191</td>\n",
       "      <td>1.359485</td>\n",
       "    </tr>\n",
       "    <tr>\n",
       "      <th>17</th>\n",
       "      <td>Boeing (douglas) MD-83</td>\n",
       "      <td>1638</td>\n",
       "      <td>1.016356</td>\n",
       "    </tr>\n",
       "    <tr>\n",
       "      <th>18</th>\n",
       "      <td>Canadair Regional Jet 900</td>\n",
       "      <td>1338</td>\n",
       "      <td>0.830210</td>\n",
       "    </tr>\n",
       "    <tr>\n",
       "      <th>19</th>\n",
       "      <td>Boeing 767-300 Passenger</td>\n",
       "      <td>1284</td>\n",
       "      <td>0.796704</td>\n",
       "    </tr>\n",
       "    <tr>\n",
       "      <th>20</th>\n",
       "      <td>Embraer 190</td>\n",
       "      <td>1116</td>\n",
       "      <td>0.692462</td>\n",
       "    </tr>\n",
       "    <tr>\n",
       "      <th>21</th>\n",
       "      <td>Boeing (douglas) MD-90</td>\n",
       "      <td>591</td>\n",
       "      <td>0.366707</td>\n",
       "    </tr>\n",
       "    <tr>\n",
       "      <th>22</th>\n",
       "      <td>Airbus A318</td>\n",
       "      <td>486</td>\n",
       "      <td>0.301556</td>\n",
       "    </tr>\n",
       "    <tr>\n",
       "      <th>23</th>\n",
       "      <td>Boeing 777 Passenger</td>\n",
       "      <td>424</td>\n",
       "      <td>0.263086</td>\n",
       "    </tr>\n",
       "    <tr>\n",
       "      <th>24</th>\n",
       "      <td>Boeing 737-700 (winglets) Passenger</td>\n",
       "      <td>424</td>\n",
       "      <td>0.263086</td>\n",
       "    </tr>\n",
       "    <tr>\n",
       "      <th>25</th>\n",
       "      <td>Airbus A318 /319 /320 /321</td>\n",
       "      <td>269</td>\n",
       "      <td>0.166911</td>\n",
       "    </tr>\n",
       "    <tr>\n",
       "      <th>26</th>\n",
       "      <td>Boeing 757-300 Passenger</td>\n",
       "      <td>48</td>\n",
       "      <td>0.029783</td>\n",
       "    </tr>\n",
       "    <tr>\n",
       "      <th>27</th>\n",
       "      <td>Boeing 767-200 Passenger</td>\n",
       "      <td>36</td>\n",
       "      <td>0.022337</td>\n",
       "    </tr>\n",
       "    <tr>\n",
       "      <th>28</th>\n",
       "      <td>Embraer 170</td>\n",
       "      <td>16</td>\n",
       "      <td>0.009928</td>\n",
       "    </tr>\n",
       "    <tr>\n",
       "      <th>29</th>\n",
       "      <td>Boeing 767-400 Passenger</td>\n",
       "      <td>2</td>\n",
       "      <td>0.001241</td>\n",
       "    </tr>\n",
       "    <tr>\n",
       "      <th>30</th>\n",
       "      <td>Boeing 737-600 Passenger</td>\n",
       "      <td>2</td>\n",
       "      <td>0.001241</td>\n",
       "    </tr>\n",
       "  </tbody>\n",
       "</table>\n",
       "</div>"
      ],
      "text/plain": [
       "                          Aircraft Type  Count  Percentage(%)\n",
       "0              Boeing 737-700 Passenger  41928      26.015736\n",
       "1              Boeing 737-300 Passenger  22095      13.709637\n",
       "2                           Airbus A320  16758      10.398104\n",
       "3              Boeing 737-800 Passenger   8594       5.332456\n",
       "4   Boeing 737-800 (winglets) Passenger   7939       4.926038\n",
       "5                           Airbus A319   7429       4.609590\n",
       "6                         Embraer RJ140   7144       4.432752\n",
       "7                  Embraer 120 Brasilia   6344       3.936363\n",
       "8                 Canadair Regional Jet   5370       3.332010\n",
       "9              Boeing 757-200 Passenger   4930       3.058996\n",
       "10               Boeing (douglas) MD-80   4359       2.704698\n",
       "11               Boeing 757 (Passenger)   4331       2.687325\n",
       "12                          Airbus A321   4297       2.666228\n",
       "13             Boeing 737-500 Passenger   3759       2.332407\n",
       "14            Canadair Regional Jet 700   3086       1.914820\n",
       "15             Boeing 737-900 Passenger   2936       1.821747\n",
       "16             Boeing 737-400 Passenger   2191       1.359485\n",
       "17               Boeing (douglas) MD-83   1638       1.016356\n",
       "18            Canadair Regional Jet 900   1338       0.830210\n",
       "19             Boeing 767-300 Passenger   1284       0.796704\n",
       "20                          Embraer 190   1116       0.692462\n",
       "21               Boeing (douglas) MD-90    591       0.366707\n",
       "22                          Airbus A318    486       0.301556\n",
       "23                 Boeing 777 Passenger    424       0.263086\n",
       "24  Boeing 737-700 (winglets) Passenger    424       0.263086\n",
       "25           Airbus A318 /319 /320 /321    269       0.166911\n",
       "26             Boeing 757-300 Passenger     48       0.029783\n",
       "27             Boeing 767-200 Passenger     36       0.022337\n",
       "28                          Embraer 170     16       0.009928\n",
       "29             Boeing 767-400 Passenger      2       0.001241\n",
       "30             Boeing 737-600 Passenger      2       0.001241"
      ]
     },
     "execution_count": 19,
     "metadata": {},
     "output_type": "execute_result"
    }
   ],
   "source": [
    "san_2011_actype['Percentage(%)'] = (san_2011_actype['Count']/len(san_old)) * 100\n",
    "san_2011_actype"
   ]
  },
  {
   "cell_type": "markdown",
   "metadata": {},
   "source": [
    "(1) **Without Grouping**  \n",
    "According to the data summary in Q1 and refering to the aircraft characteristics data, among all the aircraft types that excede an anual operations of more than 500, **Boeing 767-300 Passenger** would be the design aircraft.  \n",
    "\n",
    "(2) **Grouping**  \n",
    "However, there are several variants of Boeing 767 in the group. Also, the grouping will take the aircraft with similar features together. **Boeing 777 passenger**, with 424 total operations each year, will be included in this group for the following reason:  \n",
    "(1) Boeing 777 is larger in size and has more demanding requirements for airport design.  \n",
    "(2) Boeing 777 is designed as the enlarged version of 767. They share many similarity. [See the link](https://en.wikipedia.org/wiki/Boeing_777)  \n",
    "Although Boeing 777 alone does not achieve the 500 operations per year requirements, grouping Boeing 777 with 767 meet the 500 annual operations requirement by FAA. Therefore, after grouping, **Boeing 777** will be the desigh aircraft. "
   ]
  },
  {
   "cell_type": "markdown",
   "metadata": {},
   "source": [
    "The following is total number of operations by **Boeing 767-300**:"
   ]
  },
  {
   "cell_type": "code",
   "execution_count": 20,
   "metadata": {},
   "outputs": [
    {
     "data": {
      "text/plain": [
       "1284"
      ]
     },
     "execution_count": 20,
     "metadata": {},
     "output_type": "execute_result"
    }
   ],
   "source": [
    "sum(san_2011_actype[san_2011_actype['Aircraft Type'] == 'Boeing 767-300 Passenger']['Count']) "
   ]
  },
  {
   "cell_type": "markdown",
   "metadata": {},
   "source": [
    "The following is total number of operations by **Boeing 777 and Boeing 767**:"
   ]
  },
  {
   "cell_type": "code",
   "execution_count": 21,
   "metadata": {},
   "outputs": [
    {
     "data": {
      "text/plain": [
       "1746"
      ]
     },
     "execution_count": 21,
     "metadata": {},
     "output_type": "execute_result"
    }
   ],
   "source": [
    "sum(san_2011_actype[(san_2011_actype['Aircraft Type'] >= 'Boeing 767')&(san_2011_actype['Aircraft Type'] <= 'Boeing 777 Passenger')]['Count'])"
   ]
  },
  {
   "cell_type": "code",
   "execution_count": 22,
   "metadata": {},
   "outputs": [
    {
     "data": {
      "text/html": [
       "<div>\n",
       "<style>\n",
       "    .dataframe thead tr:only-child th {\n",
       "        text-align: right;\n",
       "    }\n",
       "\n",
       "    .dataframe thead th {\n",
       "        text-align: left;\n",
       "    }\n",
       "\n",
       "    .dataframe tbody tr th {\n",
       "        vertical-align: top;\n",
       "    }\n",
       "</style>\n",
       "<table border=\"1\" class=\"dataframe\">\n",
       "  <thead>\n",
       "    <tr style=\"text-align: right;\">\n",
       "      <th></th>\n",
       "      <th>Aircraft Type</th>\n",
       "      <th>Count</th>\n",
       "      <th>Percentage(%)</th>\n",
       "    </tr>\n",
       "  </thead>\n",
       "  <tbody>\n",
       "    <tr>\n",
       "      <th>19</th>\n",
       "      <td>Boeing 767-300 Passenger</td>\n",
       "      <td>1284</td>\n",
       "      <td>0.796704</td>\n",
       "    </tr>\n",
       "    <tr>\n",
       "      <th>23</th>\n",
       "      <td>Boeing 777 Passenger</td>\n",
       "      <td>424</td>\n",
       "      <td>0.263086</td>\n",
       "    </tr>\n",
       "    <tr>\n",
       "      <th>27</th>\n",
       "      <td>Boeing 767-200 Passenger</td>\n",
       "      <td>36</td>\n",
       "      <td>0.022337</td>\n",
       "    </tr>\n",
       "    <tr>\n",
       "      <th>29</th>\n",
       "      <td>Boeing 767-400 Passenger</td>\n",
       "      <td>2</td>\n",
       "      <td>0.001241</td>\n",
       "    </tr>\n",
       "  </tbody>\n",
       "</table>\n",
       "</div>"
      ],
      "text/plain": [
       "               Aircraft Type  Count  Percentage(%)\n",
       "19  Boeing 767-300 Passenger   1284       0.796704\n",
       "23      Boeing 777 Passenger    424       0.263086\n",
       "27  Boeing 767-200 Passenger     36       0.022337\n",
       "29  Boeing 767-400 Passenger      2       0.001241"
      ]
     },
     "execution_count": 22,
     "metadata": {},
     "output_type": "execute_result"
    }
   ],
   "source": [
    "san_2011_actype[(san_2011_actype['Aircraft Type'] >= 'Boeing 767')&(san_2011_actype['Aircraft Type'] <= 'Boeing 777 Passenger')]"
   ]
  },
  {
   "cell_type": "markdown",
   "metadata": {},
   "source": [
    "#### Approach II: grouping by seats number "
   ]
  },
  {
   "cell_type": "markdown",
   "metadata": {},
   "source": [
    "_MOTIVATION_: It is reasonable to draw a positive correlation between total number of seats on the aircraft and the airport planning requirements. "
   ]
  },
  {
   "cell_type": "markdown",
   "metadata": {},
   "source": [
    "In the data visualization below, we can observe that there is a peak in the operation counts for aircraft with around 140 seats. "
   ]
  },
  {
   "cell_type": "code",
   "execution_count": 23,
   "metadata": {},
   "outputs": [
    {
     "data": {
      "image/png": "[encoded data removed]",
      "text/plain": [
       "<matplotlib.figure.Figure at 0x1a15cdc160>"
      ]
     },
     "metadata": {},
     "output_type": "display_data"
    }
   ],
   "source": [
    "san_old[['Seats']].hist()\n",
    "plt.xlabel('Number of Seats')\n",
    "plt.ylabel('Anual Operation Counts')\n",
    "plt.title('Distribution of Number of Seats, SAN 2011')\n",
    "plt.show()"
   ]
  },
  {
   "cell_type": "markdown",
   "metadata": {},
   "source": [
    "According to the data visualization, there are group of aircrafts with more than 250 seats. Do they exceed the total operations of 500 per year? **Yes**"
   ]
  },
  {
   "cell_type": "code",
   "execution_count": 38,
   "metadata": {},
   "outputs": [
    {
     "data": {
      "text/html": [
       "<div>\n",
       "<style>\n",
       "    .dataframe thead tr:only-child th {\n",
       "        text-align: right;\n",
       "    }\n",
       "\n",
       "    .dataframe thead th {\n",
       "        text-align: left;\n",
       "    }\n",
       "\n",
       "    .dataframe tbody tr th {\n",
       "        vertical-align: top;\n",
       "    }\n",
       "</style>\n",
       "<table border=\"1\" class=\"dataframe\">\n",
       "  <thead>\n",
       "    <tr style=\"text-align: right;\">\n",
       "      <th></th>\n",
       "      <th>Seats</th>\n",
       "      <th>Specific Aircraft Name</th>\n",
       "      <th>Counts</th>\n",
       "    </tr>\n",
       "  </thead>\n",
       "  <tbody>\n",
       "    <tr>\n",
       "      <th>0</th>\n",
       "      <td>30</td>\n",
       "      <td>Embraer 120 Brasilia</td>\n",
       "      <td>6344</td>\n",
       "    </tr>\n",
       "    <tr>\n",
       "      <th>1</th>\n",
       "      <td>44</td>\n",
       "      <td>Embraer RJ140</td>\n",
       "      <td>7144</td>\n",
       "    </tr>\n",
       "    <tr>\n",
       "      <th>2</th>\n",
       "      <td>50</td>\n",
       "      <td>Canadair Regional Jet</td>\n",
       "      <td>5370</td>\n",
       "    </tr>\n",
       "    <tr>\n",
       "      <th>3</th>\n",
       "      <td>66</td>\n",
       "      <td>Canadair Regional Jet 700</td>\n",
       "      <td>2266</td>\n",
       "    </tr>\n",
       "    <tr>\n",
       "      <th>4</th>\n",
       "      <td>70</td>\n",
       "      <td>Canadair Regional Jet 700</td>\n",
       "      <td>820</td>\n",
       "    </tr>\n",
       "    <tr>\n",
       "      <th>5</th>\n",
       "      <td>70</td>\n",
       "      <td>Canadair Regional Jet 900</td>\n",
       "      <td>288</td>\n",
       "    </tr>\n",
       "    <tr>\n",
       "      <th>6</th>\n",
       "      <td>76</td>\n",
       "      <td>Canadair Regional Jet 900</td>\n",
       "      <td>1050</td>\n",
       "    </tr>\n",
       "    <tr>\n",
       "      <th>7</th>\n",
       "      <td>76</td>\n",
       "      <td>Embraer 170</td>\n",
       "      <td>16</td>\n",
       "    </tr>\n",
       "    <tr>\n",
       "      <th>8</th>\n",
       "      <td>93</td>\n",
       "      <td>Embraer 190</td>\n",
       "      <td>730</td>\n",
       "    </tr>\n",
       "    <tr>\n",
       "      <th>9</th>\n",
       "      <td>98</td>\n",
       "      <td>Embraer 190</td>\n",
       "      <td>370</td>\n",
       "    </tr>\n",
       "    <tr>\n",
       "      <th>10</th>\n",
       "      <td>99</td>\n",
       "      <td>Embraer 190</td>\n",
       "      <td>16</td>\n",
       "    </tr>\n",
       "    <tr>\n",
       "      <th>11</th>\n",
       "      <td>114</td>\n",
       "      <td>Airbus A318</td>\n",
       "      <td>478</td>\n",
       "    </tr>\n",
       "    <tr>\n",
       "      <th>12</th>\n",
       "      <td>114</td>\n",
       "      <td>Boeing 737-500 Passenger</td>\n",
       "      <td>152</td>\n",
       "    </tr>\n",
       "    <tr>\n",
       "      <th>13</th>\n",
       "      <td>119</td>\n",
       "      <td>Airbus A319</td>\n",
       "      <td>70</td>\n",
       "    </tr>\n",
       "    <tr>\n",
       "      <th>14</th>\n",
       "      <td>119</td>\n",
       "      <td>Boeing 737-600 Passenger</td>\n",
       "      <td>2</td>\n",
       "    </tr>\n",
       "    <tr>\n",
       "      <th>15</th>\n",
       "      <td>120</td>\n",
       "      <td>Airbus A318</td>\n",
       "      <td>8</td>\n",
       "    </tr>\n",
       "    <tr>\n",
       "      <th>16</th>\n",
       "      <td>120</td>\n",
       "      <td>Airbus A319</td>\n",
       "      <td>2477</td>\n",
       "    </tr>\n",
       "    <tr>\n",
       "      <th>17</th>\n",
       "      <td>122</td>\n",
       "      <td>Boeing 737-500 Passenger</td>\n",
       "      <td>3607</td>\n",
       "    </tr>\n",
       "    <tr>\n",
       "      <th>18</th>\n",
       "      <td>124</td>\n",
       "      <td>Airbus A319</td>\n",
       "      <td>406</td>\n",
       "    </tr>\n",
       "    <tr>\n",
       "      <th>19</th>\n",
       "      <td>124</td>\n",
       "      <td>Boeing 737-700 (winglets) Passenger</td>\n",
       "      <td>2</td>\n",
       "    </tr>\n",
       "    <tr>\n",
       "      <th>20</th>\n",
       "      <td>124</td>\n",
       "      <td>Boeing 737-700 Passenger</td>\n",
       "      <td>1250</td>\n",
       "    </tr>\n",
       "    <tr>\n",
       "      <th>21</th>\n",
       "      <td>126</td>\n",
       "      <td>Airbus A319</td>\n",
       "      <td>1011</td>\n",
       "    </tr>\n",
       "    <tr>\n",
       "      <th>22</th>\n",
       "      <td>126</td>\n",
       "      <td>Boeing 737-700 Passenger</td>\n",
       "      <td>234</td>\n",
       "    </tr>\n",
       "    <tr>\n",
       "      <th>23</th>\n",
       "      <td>129</td>\n",
       "      <td>Boeing 737-700 Passenger</td>\n",
       "      <td>34</td>\n",
       "    </tr>\n",
       "    <tr>\n",
       "      <th>24</th>\n",
       "      <td>132</td>\n",
       "      <td>Airbus A319</td>\n",
       "      <td>1819</td>\n",
       "    </tr>\n",
       "    <tr>\n",
       "      <th>25</th>\n",
       "      <td>134</td>\n",
       "      <td>Boeing 737-300 Passenger</td>\n",
       "      <td>12</td>\n",
       "    </tr>\n",
       "    <tr>\n",
       "      <th>26</th>\n",
       "      <td>136</td>\n",
       "      <td>Boeing 737-700 (winglets) Passenger</td>\n",
       "      <td>422</td>\n",
       "    </tr>\n",
       "    <tr>\n",
       "      <th>27</th>\n",
       "      <td>136</td>\n",
       "      <td>Boeing 737-700 Passenger</td>\n",
       "      <td>10036</td>\n",
       "    </tr>\n",
       "    <tr>\n",
       "      <th>28</th>\n",
       "      <td>137</td>\n",
       "      <td>Boeing 737-300 Passenger</td>\n",
       "      <td>22083</td>\n",
       "    </tr>\n",
       "    <tr>\n",
       "      <th>29</th>\n",
       "      <td>137</td>\n",
       "      <td>Boeing 737-700 Passenger</td>\n",
       "      <td>30374</td>\n",
       "    </tr>\n",
       "    <tr>\n",
       "      <th>...</th>\n",
       "      <td>...</td>\n",
       "      <td>...</td>\n",
       "      <td>...</td>\n",
       "    </tr>\n",
       "    <tr>\n",
       "      <th>47</th>\n",
       "      <td>150</td>\n",
       "      <td>Boeing (douglas) MD-90</td>\n",
       "      <td>591</td>\n",
       "    </tr>\n",
       "    <tr>\n",
       "      <th>48</th>\n",
       "      <td>157</td>\n",
       "      <td>Boeing 737-800 (winglets) Passenger</td>\n",
       "      <td>3212</td>\n",
       "    </tr>\n",
       "    <tr>\n",
       "      <th>49</th>\n",
       "      <td>157</td>\n",
       "      <td>Boeing 737-800 Passenger</td>\n",
       "      <td>4180</td>\n",
       "    </tr>\n",
       "    <tr>\n",
       "      <th>50</th>\n",
       "      <td>160</td>\n",
       "      <td>Boeing 737-800 (winglets) Passenger</td>\n",
       "      <td>2475</td>\n",
       "    </tr>\n",
       "    <tr>\n",
       "      <th>51</th>\n",
       "      <td>160</td>\n",
       "      <td>Boeing 737-800 Passenger</td>\n",
       "      <td>745</td>\n",
       "    </tr>\n",
       "    <tr>\n",
       "      <th>52</th>\n",
       "      <td>162</td>\n",
       "      <td>Airbus A320</td>\n",
       "      <td>98</td>\n",
       "    </tr>\n",
       "    <tr>\n",
       "      <th>53</th>\n",
       "      <td>162</td>\n",
       "      <td>Boeing 737-800 Passenger</td>\n",
       "      <td>22</td>\n",
       "    </tr>\n",
       "    <tr>\n",
       "      <th>54</th>\n",
       "      <td>166</td>\n",
       "      <td>Boeing 757-200 Passenger</td>\n",
       "      <td>22</td>\n",
       "    </tr>\n",
       "    <tr>\n",
       "      <th>55</th>\n",
       "      <td>168</td>\n",
       "      <td>Boeing 767-200 Passenger</td>\n",
       "      <td>36</td>\n",
       "    </tr>\n",
       "    <tr>\n",
       "      <th>56</th>\n",
       "      <td>172</td>\n",
       "      <td>Boeing 737-900 Passenger</td>\n",
       "      <td>636</td>\n",
       "    </tr>\n",
       "    <tr>\n",
       "      <th>57</th>\n",
       "      <td>173</td>\n",
       "      <td>Boeing 737-900 Passenger</td>\n",
       "      <td>2300</td>\n",
       "    </tr>\n",
       "    <tr>\n",
       "      <th>58</th>\n",
       "      <td>174</td>\n",
       "      <td>Airbus A320</td>\n",
       "      <td>6</td>\n",
       "    </tr>\n",
       "    <tr>\n",
       "      <th>59</th>\n",
       "      <td>175</td>\n",
       "      <td>Boeing 757-200 Passenger</td>\n",
       "      <td>4</td>\n",
       "    </tr>\n",
       "    <tr>\n",
       "      <th>60</th>\n",
       "      <td>180</td>\n",
       "      <td>Boeing 737-800 (winglets) Passenger</td>\n",
       "      <td>3</td>\n",
       "    </tr>\n",
       "    <tr>\n",
       "      <th>61</th>\n",
       "      <td>182</td>\n",
       "      <td>Boeing 757-200 Passenger</td>\n",
       "      <td>4240</td>\n",
       "    </tr>\n",
       "    <tr>\n",
       "      <th>62</th>\n",
       "      <td>183</td>\n",
       "      <td>Airbus A321</td>\n",
       "      <td>4297</td>\n",
       "    </tr>\n",
       "    <tr>\n",
       "      <th>63</th>\n",
       "      <td>183</td>\n",
       "      <td>Boeing 757 (Passenger)</td>\n",
       "      <td>3532</td>\n",
       "    </tr>\n",
       "    <tr>\n",
       "      <th>64</th>\n",
       "      <td>183</td>\n",
       "      <td>Boeing 757-200 Passenger</td>\n",
       "      <td>2</td>\n",
       "    </tr>\n",
       "    <tr>\n",
       "      <th>65</th>\n",
       "      <td>183</td>\n",
       "      <td>Boeing 767-300 Passenger</td>\n",
       "      <td>1</td>\n",
       "    </tr>\n",
       "    <tr>\n",
       "      <th>66</th>\n",
       "      <td>188</td>\n",
       "      <td>Boeing 757 (Passenger)</td>\n",
       "      <td>799</td>\n",
       "    </tr>\n",
       "    <tr>\n",
       "      <th>67</th>\n",
       "      <td>190</td>\n",
       "      <td>Boeing 757-200 Passenger</td>\n",
       "      <td>662</td>\n",
       "    </tr>\n",
       "    <tr>\n",
       "      <th>68</th>\n",
       "      <td>216</td>\n",
       "      <td>Boeing 757-300 Passenger</td>\n",
       "      <td>44</td>\n",
       "    </tr>\n",
       "    <tr>\n",
       "      <th>69</th>\n",
       "      <td>216</td>\n",
       "      <td>Boeing 767-300 Passenger</td>\n",
       "      <td>172</td>\n",
       "    </tr>\n",
       "    <tr>\n",
       "      <th>70</th>\n",
       "      <td>224</td>\n",
       "      <td>Boeing 757-300 Passenger</td>\n",
       "      <td>2</td>\n",
       "    </tr>\n",
       "    <tr>\n",
       "      <th>71</th>\n",
       "      <td>235</td>\n",
       "      <td>Boeing 767-400 Passenger</td>\n",
       "      <td>2</td>\n",
       "    </tr>\n",
       "    <tr>\n",
       "      <th>72</th>\n",
       "      <td>244</td>\n",
       "      <td>Boeing 767-300 Passenger</td>\n",
       "      <td>5</td>\n",
       "    </tr>\n",
       "    <tr>\n",
       "      <th>73</th>\n",
       "      <td>252</td>\n",
       "      <td>Boeing 757-300 Passenger</td>\n",
       "      <td>2</td>\n",
       "    </tr>\n",
       "    <tr>\n",
       "      <th>74</th>\n",
       "      <td>252</td>\n",
       "      <td>Boeing 767-300 Passenger</td>\n",
       "      <td>730</td>\n",
       "    </tr>\n",
       "    <tr>\n",
       "      <th>75</th>\n",
       "      <td>262</td>\n",
       "      <td>Boeing 767-300 Passenger</td>\n",
       "      <td>376</td>\n",
       "    </tr>\n",
       "    <tr>\n",
       "      <th>76</th>\n",
       "      <td>267</td>\n",
       "      <td>Boeing 777 Passenger</td>\n",
       "      <td>424</td>\n",
       "    </tr>\n",
       "  </tbody>\n",
       "</table>\n",
       "<p>77 rows × 3 columns</p>\n",
       "</div>"
      ],
      "text/plain": [
       "    Seats               Specific Aircraft Name  Counts\n",
       "0      30                 Embraer 120 Brasilia    6344\n",
       "1      44                        Embraer RJ140    7144\n",
       "2      50                Canadair Regional Jet    5370\n",
       "3      66            Canadair Regional Jet 700    2266\n",
       "4      70            Canadair Regional Jet 700     820\n",
       "5      70            Canadair Regional Jet 900     288\n",
       "6      76            Canadair Regional Jet 900    1050\n",
       "7      76                          Embraer 170      16\n",
       "8      93                          Embraer 190     730\n",
       "9      98                          Embraer 190     370\n",
       "10     99                          Embraer 190      16\n",
       "11    114                          Airbus A318     478\n",
       "12    114             Boeing 737-500 Passenger     152\n",
       "13    119                          Airbus A319      70\n",
       "14    119             Boeing 737-600 Passenger       2\n",
       "15    120                          Airbus A318       8\n",
       "16    120                          Airbus A319    2477\n",
       "17    122             Boeing 737-500 Passenger    3607\n",
       "18    124                          Airbus A319     406\n",
       "19    124  Boeing 737-700 (winglets) Passenger       2\n",
       "20    124             Boeing 737-700 Passenger    1250\n",
       "21    126                          Airbus A319    1011\n",
       "22    126             Boeing 737-700 Passenger     234\n",
       "23    129             Boeing 737-700 Passenger      34\n",
       "24    132                          Airbus A319    1819\n",
       "25    134             Boeing 737-300 Passenger      12\n",
       "26    136  Boeing 737-700 (winglets) Passenger     422\n",
       "27    136             Boeing 737-700 Passenger   10036\n",
       "28    137             Boeing 737-300 Passenger   22083\n",
       "29    137             Boeing 737-700 Passenger   30374\n",
       "..    ...                                  ...     ...\n",
       "47    150               Boeing (douglas) MD-90     591\n",
       "48    157  Boeing 737-800 (winglets) Passenger    3212\n",
       "49    157             Boeing 737-800 Passenger    4180\n",
       "50    160  Boeing 737-800 (winglets) Passenger    2475\n",
       "51    160             Boeing 737-800 Passenger     745\n",
       "52    162                          Airbus A320      98\n",
       "53    162             Boeing 737-800 Passenger      22\n",
       "54    166             Boeing 757-200 Passenger      22\n",
       "55    168             Boeing 767-200 Passenger      36\n",
       "56    172             Boeing 737-900 Passenger     636\n",
       "57    173             Boeing 737-900 Passenger    2300\n",
       "58    174                          Airbus A320       6\n",
       "59    175             Boeing 757-200 Passenger       4\n",
       "60    180  Boeing 737-800 (winglets) Passenger       3\n",
       "61    182             Boeing 757-200 Passenger    4240\n",
       "62    183                          Airbus A321    4297\n",
       "63    183               Boeing 757 (Passenger)    3532\n",
       "64    183             Boeing 757-200 Passenger       2\n",
       "65    183             Boeing 767-300 Passenger       1\n",
       "66    188               Boeing 757 (Passenger)     799\n",
       "67    190             Boeing 757-200 Passenger     662\n",
       "68    216             Boeing 757-300 Passenger      44\n",
       "69    216             Boeing 767-300 Passenger     172\n",
       "70    224             Boeing 757-300 Passenger       2\n",
       "71    235             Boeing 767-400 Passenger       2\n",
       "72    244             Boeing 767-300 Passenger       5\n",
       "73    252             Boeing 757-300 Passenger       2\n",
       "74    252             Boeing 767-300 Passenger     730\n",
       "75    262             Boeing 767-300 Passenger     376\n",
       "76    267                 Boeing 777 Passenger     424\n",
       "\n",
       "[77 rows x 3 columns]"
      ]
     },
     "execution_count": 38,
     "metadata": {},
     "output_type": "execute_result"
    }
   ],
   "source": [
    "by_seats_and_type1 = san_old.groupby(['Seats','Specific Aircraft Name']).agg(len)['Flight No'].reset_index()\n",
    "by_seats_and_type1 = by_seats_and_type1.rename(columns = {'Flight No': 'Counts'})\n",
    "by_seats_and_type1"
   ]
  },
  {
   "cell_type": "code",
   "execution_count": 39,
   "metadata": {},
   "outputs": [
    {
     "data": {
      "text/plain": [
       "1532"
      ]
     },
     "execution_count": 39,
     "metadata": {},
     "output_type": "execute_result"
    }
   ],
   "source": [
    "sum(by_seats_and_type1[by_seats_and_type1['Seats']>250]['Counts'])"
   ]
  },
  {
   "cell_type": "markdown",
   "metadata": {},
   "source": [
    "Therefore, the design aircraft if we group using number of seats is the aircraft that is most demanding among the group of aircrafts **with more than 250 seats**; there are **1532** operations at total. "
   ]
  },
  {
   "cell_type": "code",
   "execution_count": 40,
   "metadata": {},
   "outputs": [
    {
     "data": {
      "text/html": [
       "<div>\n",
       "<style>\n",
       "    .dataframe thead tr:only-child th {\n",
       "        text-align: right;\n",
       "    }\n",
       "\n",
       "    .dataframe thead th {\n",
       "        text-align: left;\n",
       "    }\n",
       "\n",
       "    .dataframe tbody tr th {\n",
       "        vertical-align: top;\n",
       "    }\n",
       "</style>\n",
       "<table border=\"1\" class=\"dataframe\">\n",
       "  <thead>\n",
       "    <tr style=\"text-align: right;\">\n",
       "      <th></th>\n",
       "      <th>Seats</th>\n",
       "      <th>Specific Aircraft Name</th>\n",
       "      <th>Counts</th>\n",
       "    </tr>\n",
       "  </thead>\n",
       "  <tbody>\n",
       "    <tr>\n",
       "      <th>73</th>\n",
       "      <td>252</td>\n",
       "      <td>Boeing 757-300 Passenger</td>\n",
       "      <td>2</td>\n",
       "    </tr>\n",
       "    <tr>\n",
       "      <th>74</th>\n",
       "      <td>252</td>\n",
       "      <td>Boeing 767-300 Passenger</td>\n",
       "      <td>730</td>\n",
       "    </tr>\n",
       "    <tr>\n",
       "      <th>75</th>\n",
       "      <td>262</td>\n",
       "      <td>Boeing 767-300 Passenger</td>\n",
       "      <td>376</td>\n",
       "    </tr>\n",
       "    <tr>\n",
       "      <th>76</th>\n",
       "      <td>267</td>\n",
       "      <td>Boeing 777 Passenger</td>\n",
       "      <td>424</td>\n",
       "    </tr>\n",
       "  </tbody>\n",
       "</table>\n",
       "</div>"
      ],
      "text/plain": [
       "    Seats    Specific Aircraft Name  Counts\n",
       "73    252  Boeing 757-300 Passenger       2\n",
       "74    252  Boeing 767-300 Passenger     730\n",
       "75    262  Boeing 767-300 Passenger     376\n",
       "76    267      Boeing 777 Passenger     424"
      ]
     },
     "execution_count": 40,
     "metadata": {},
     "output_type": "execute_result"
    }
   ],
   "source": [
    "by_seats_and_type1[by_seats_and_type1['Seats']>250]"
   ]
  },
  {
   "cell_type": "markdown",
   "metadata": {},
   "source": [
    "Among the group, **Boeing 777** is the most demanding aircraft, with a total anual operation of **424**."
   ]
  },
  {
   "cell_type": "markdown",
   "metadata": {},
   "source": [
    "**Both approaches** produce the same results. Therefore, we can use **Boeing 777** as our desigh aircraft. "
   ]
  },
  {
   "cell_type": "markdown",
   "metadata": {},
   "source": [
    "### 3. Key Dimensions of Aircrafts"
   ]
  },
  {
   "cell_type": "markdown",
   "metadata": {},
   "source": [
    "**Four key dimensions: ** (1) Wingspan (2) Tail height (3) Fulselage length (4) Wheel span"
   ]
  },
  {
   "cell_type": "markdown",
   "metadata": {},
   "source": [
    "_According to the document AC 150/5000-17_, if there are variants within the group, take the maximal of each dimensions for consideration."
   ]
  },
  {
   "cell_type": "markdown",
   "metadata": {},
   "source": [
    "Using **Boeing 777** as the design aircraft, we examine the variant in Boeing 777 that has the largest dimension requirement. "
   ]
  },
  {
   "cell_type": "markdown",
   "metadata": {},
   "source": [
    "**Max Wingspan:** 64.80 m (212 ft 7 in) (from 777-300ER)   \n",
    "**Tail height:** 18.85 m (61 ft 10 in) (from 777-300ER)       \n",
    "**Length:** 73.86 m (242 ft 4 in) (from 777-300ER)  \n",
    "**Wheel span:** 10.97 m (36 ft 0 in)  "
   ]
  },
  {
   "cell_type": "markdown",
   "metadata": {},
   "source": [
    "**ADG Group for Boeing 777(-300ER)**  \n",
    "by **FAA**: **V**  \n",
    "by **ICAO**: **E**"
   ]
  },
  {
   "cell_type": "markdown",
   "metadata": {},
   "source": [
    "### 4. Discussion"
   ]
  },
  {
   "cell_type": "markdown",
   "metadata": {},
   "source": [
    "The results using the official definition of design aircraft would be the same as the result of using seats, as shwon in part 2. That is, the design aircraft determined by aircraft type or total seats number are the same. "
   ]
  },
  {
   "cell_type": "markdown",
   "metadata": {},
   "source": [
    "---\n",
    "## II Runway requirements for 2011  \n",
    "### 5. Determine the runway length requirements "
   ]
  },
  {
   "cell_type": "markdown",
   "metadata": {},
   "source": [
    "Use **Boeing 777-300ER** as the design aircraft. "
   ]
  },
  {
   "cell_type": "markdown",
   "metadata": {},
   "source": [
    "Because **SAN** is roughly at sea level, when taking look at the Payload chart for **Runway Length Requirement** at Maximum Take Off Weight, the 777-300ER variant with the greatest runway length requirement is roughly 3200 m (10,500 ft)."
   ]
  },
  {
   "cell_type": "code",
   "execution_count": 41,
   "metadata": {
    "collapsed": true
   },
   "outputs": [],
   "source": [
    "from IPython.display import Image"
   ]
  },
  {
   "cell_type": "code",
   "execution_count": 42,
   "metadata": {},
   "outputs": [
    {
     "data": {
      "image/png": "[encoded data removed]",
      "text/plain": [
       "<IPython.core.display.Image object>"
      ]
     },
     "execution_count": 42,
     "metadata": {},
     "output_type": "execute_result"
    }
   ],
   "source": [
    "Image('./output/runwaylength.png')"
   ]
  },
  {
   "cell_type": "markdown",
   "metadata": {
    "collapsed": true
   },
   "source": [
    "### 6. Determining the Runway Length Requirement "
   ]
  },
  {
   "cell_type": "code",
   "execution_count": 43,
   "metadata": {},
   "outputs": [
    {
     "data": {
      "image/png": "[encoded data removed]",
      "text/plain": [
       "<IPython.core.display.Image object>"
      ]
     },
     "execution_count": 43,
     "metadata": {},
     "output_type": "execute_result"
    }
   ],
   "source": [
    "Image('./output/q9.png')"
   ]
  },
  {
   "cell_type": "markdown",
   "metadata": {},
   "source": [
    "No, it is not sufficient for the **Boeing 777-300ER** to take off at its MTOW. The maximum take off weight that this runway can accomodate is **730,000 pounds**. "
   ]
  },
  {
   "cell_type": "markdown",
   "metadata": {},
   "source": [
    "---\n",
    "## III Calculation for the average weekday peak month for 2011\n",
    "### 7. 2011 SAN Operations Summary"
   ]
  },
  {
   "cell_type": "code",
   "execution_count": 44,
   "metadata": {
    "collapsed": true
   },
   "outputs": [],
   "source": [
    "monthly_dept = san_old[san_old['Dep Airport Code'] =='SAN'].groupby(san_old['dt'].dt.month)['Flight No'].agg(len).to_frame()"
   ]
  },
  {
   "cell_type": "code",
   "execution_count": 45,
   "metadata": {
    "collapsed": true
   },
   "outputs": [],
   "source": [
    "san_old_dept = san_old[san_old['Dep Airport Code'] =='SAN']\n",
    "san_old_arr = san_old[san_old['Arr Airport Code'] == 'SAN']"
   ]
  },
  {
   "cell_type": "code",
   "execution_count": 46,
   "metadata": {
    "collapsed": true
   },
   "outputs": [],
   "source": [
    "san_old_dept_count = san_old_dept.groupby(san_old_dept['dt'].dt.month)['dt'].agg(len)"
   ]
  },
  {
   "cell_type": "code",
   "execution_count": 47,
   "metadata": {
    "collapsed": true
   },
   "outputs": [],
   "source": [
    "san_old_dept_count = san_old_dept_count.to_frame().rename(columns = {'dt':'Departure Count'})"
   ]
  },
  {
   "cell_type": "code",
   "execution_count": 48,
   "metadata": {
    "collapsed": true
   },
   "outputs": [],
   "source": [
    "san_old_arr_count = san_old_arr.groupby(san_old_arr['at'].dt.month)['at'].agg(len)"
   ]
  },
  {
   "cell_type": "code",
   "execution_count": 49,
   "metadata": {
    "collapsed": true
   },
   "outputs": [],
   "source": [
    "san_old_arr_count = san_old_arr_count.to_frame().rename(columns = {'at':'Arrival Count'})"
   ]
  },
  {
   "cell_type": "code",
   "execution_count": 50,
   "metadata": {
    "collapsed": true
   },
   "outputs": [],
   "source": [
    "san_old_count_summary = san_old_dept_count.merge(san_old_arr_count, left_index=True, right_index = True)"
   ]
  },
  {
   "cell_type": "code",
   "execution_count": 51,
   "metadata": {
    "collapsed": true
   },
   "outputs": [],
   "source": [
    "san_old_count_summary = san_old_count_summary.reset_index().rename(columns = {'dt':'Month'})"
   ]
  },
  {
   "cell_type": "code",
   "execution_count": 52,
   "metadata": {
    "collapsed": true
   },
   "outputs": [],
   "source": [
    "san_old_count_summary['Total Operation Count'] = san_old_count_summary['Departure Count'] + san_old_count_summary['Arrival Count']"
   ]
  },
  {
   "cell_type": "code",
   "execution_count": 53,
   "metadata": {},
   "outputs": [
    {
     "data": {
      "text/html": [
       "<div>\n",
       "<style>\n",
       "    .dataframe thead tr:only-child th {\n",
       "        text-align: right;\n",
       "    }\n",
       "\n",
       "    .dataframe thead th {\n",
       "        text-align: left;\n",
       "    }\n",
       "\n",
       "    .dataframe tbody tr th {\n",
       "        vertical-align: top;\n",
       "    }\n",
       "</style>\n",
       "<table border=\"1\" class=\"dataframe\">\n",
       "  <thead>\n",
       "    <tr style=\"text-align: right;\">\n",
       "      <th></th>\n",
       "      <th>Month</th>\n",
       "      <th>Departure Count</th>\n",
       "      <th>Arrival Count</th>\n",
       "      <th>Total Operation Count</th>\n",
       "    </tr>\n",
       "  </thead>\n",
       "  <tbody>\n",
       "    <tr>\n",
       "      <th>0</th>\n",
       "      <td>1</td>\n",
       "      <td>6562</td>\n",
       "      <td>6559</td>\n",
       "      <td>13121</td>\n",
       "    </tr>\n",
       "    <tr>\n",
       "      <th>1</th>\n",
       "      <td>2</td>\n",
       "      <td>5983</td>\n",
       "      <td>5982</td>\n",
       "      <td>11965</td>\n",
       "    </tr>\n",
       "    <tr>\n",
       "      <th>2</th>\n",
       "      <td>3</td>\n",
       "      <td>6806</td>\n",
       "      <td>6806</td>\n",
       "      <td>13612</td>\n",
       "    </tr>\n",
       "    <tr>\n",
       "      <th>3</th>\n",
       "      <td>4</td>\n",
       "      <td>6512</td>\n",
       "      <td>6515</td>\n",
       "      <td>13027</td>\n",
       "    </tr>\n",
       "    <tr>\n",
       "      <th>4</th>\n",
       "      <td>5</td>\n",
       "      <td>6846</td>\n",
       "      <td>6841</td>\n",
       "      <td>13687</td>\n",
       "    </tr>\n",
       "    <tr>\n",
       "      <th>5</th>\n",
       "      <td>6</td>\n",
       "      <td>6964</td>\n",
       "      <td>6965</td>\n",
       "      <td>13929</td>\n",
       "    </tr>\n",
       "    <tr>\n",
       "      <th>6</th>\n",
       "      <td>7</td>\n",
       "      <td>7233</td>\n",
       "      <td>7234</td>\n",
       "      <td>14467</td>\n",
       "    </tr>\n",
       "    <tr>\n",
       "      <th>7</th>\n",
       "      <td>8</td>\n",
       "      <td>7164</td>\n",
       "      <td>7164</td>\n",
       "      <td>14328</td>\n",
       "    </tr>\n",
       "    <tr>\n",
       "      <th>8</th>\n",
       "      <td>9</td>\n",
       "      <td>6558</td>\n",
       "      <td>6562</td>\n",
       "      <td>13120</td>\n",
       "    </tr>\n",
       "    <tr>\n",
       "      <th>9</th>\n",
       "      <td>10</td>\n",
       "      <td>6752</td>\n",
       "      <td>6752</td>\n",
       "      <td>13504</td>\n",
       "    </tr>\n",
       "    <tr>\n",
       "      <th>10</th>\n",
       "      <td>11</td>\n",
       "      <td>6417</td>\n",
       "      <td>6419</td>\n",
       "      <td>12836</td>\n",
       "    </tr>\n",
       "    <tr>\n",
       "      <th>11</th>\n",
       "      <td>12</td>\n",
       "      <td>6783</td>\n",
       "      <td>6785</td>\n",
       "      <td>13568</td>\n",
       "    </tr>\n",
       "  </tbody>\n",
       "</table>\n",
       "</div>"
      ],
      "text/plain": [
       "    Month  Departure Count  Arrival Count  Total Operation Count\n",
       "0       1             6562           6559                  13121\n",
       "1       2             5983           5982                  11965\n",
       "2       3             6806           6806                  13612\n",
       "3       4             6512           6515                  13027\n",
       "4       5             6846           6841                  13687\n",
       "5       6             6964           6965                  13929\n",
       "6       7             7233           7234                  14467\n",
       "7       8             7164           7164                  14328\n",
       "8       9             6558           6562                  13120\n",
       "9      10             6752           6752                  13504\n",
       "10     11             6417           6419                  12836\n",
       "11     12             6783           6785                  13568"
      ]
     },
     "execution_count": 53,
     "metadata": {},
     "output_type": "execute_result"
    }
   ],
   "source": [
    "san_old_count_summary"
   ]
  },
  {
   "cell_type": "code",
   "execution_count": 54,
   "metadata": {
    "collapsed": true
   },
   "outputs": [],
   "source": [
    "hourly_summary = san_old_dept.groupby(san_old['dt'].dt.hour)['dt'].agg(len).to_frame().rename(columns = {'dt' : 'departure count'})\n",
    "hourly_summary = hourly_summary.reset_index().rename(columns = {'dt': 'departure hour'})"
   ]
  },
  {
   "cell_type": "code",
   "execution_count": 55,
   "metadata": {
    "collapsed": true
   },
   "outputs": [],
   "source": [
    "hourly_summary = hourly_summary.set_index('departure hour')"
   ]
  },
  {
   "cell_type": "code",
   "execution_count": 56,
   "metadata": {
    "collapsed": true
   },
   "outputs": [],
   "source": [
    "arrival_summary = san_old_arr.groupby(san_old['at'].dt.hour)['at'].agg(len).to_frame().rename(columns = {'at' : 'arrival count'})\n",
    "arrival_summary = arrival_summary.reset_index().rename(columns = {'at': 'arrival hour'})\n",
    "arrival_summary = arrival_summary.set_index('arrival hour')"
   ]
  },
  {
   "cell_type": "markdown",
   "metadata": {},
   "source": [
    "### 8. Peak Month"
   ]
  },
  {
   "cell_type": "code",
   "execution_count": 57,
   "metadata": {},
   "outputs": [
    {
     "data": {
      "text/html": [
       "<div>\n",
       "<style>\n",
       "    .dataframe thead tr:only-child th {\n",
       "        text-align: right;\n",
       "    }\n",
       "\n",
       "    .dataframe thead th {\n",
       "        text-align: left;\n",
       "    }\n",
       "\n",
       "    .dataframe tbody tr th {\n",
       "        vertical-align: top;\n",
       "    }\n",
       "</style>\n",
       "<table border=\"1\" class=\"dataframe\">\n",
       "  <thead>\n",
       "    <tr style=\"text-align: right;\">\n",
       "      <th></th>\n",
       "      <th>Month</th>\n",
       "      <th>Departure Count</th>\n",
       "      <th>Arrival Count</th>\n",
       "      <th>Total Operation Count</th>\n",
       "      <th>Departure Per Day</th>\n",
       "      <th>Arrivals Per Day</th>\n",
       "      <th>Operation Per Day</th>\n",
       "    </tr>\n",
       "  </thead>\n",
       "  <tbody>\n",
       "    <tr>\n",
       "      <th>0</th>\n",
       "      <td>1</td>\n",
       "      <td>6562</td>\n",
       "      <td>6559</td>\n",
       "      <td>13121</td>\n",
       "      <td>211.677419</td>\n",
       "      <td>211.580645</td>\n",
       "      <td>423.258065</td>\n",
       "    </tr>\n",
       "    <tr>\n",
       "      <th>1</th>\n",
       "      <td>2</td>\n",
       "      <td>5983</td>\n",
       "      <td>5982</td>\n",
       "      <td>11965</td>\n",
       "      <td>213.678571</td>\n",
       "      <td>213.642857</td>\n",
       "      <td>427.321429</td>\n",
       "    </tr>\n",
       "    <tr>\n",
       "      <th>2</th>\n",
       "      <td>3</td>\n",
       "      <td>6806</td>\n",
       "      <td>6806</td>\n",
       "      <td>13612</td>\n",
       "      <td>219.548387</td>\n",
       "      <td>219.548387</td>\n",
       "      <td>439.096774</td>\n",
       "    </tr>\n",
       "    <tr>\n",
       "      <th>3</th>\n",
       "      <td>4</td>\n",
       "      <td>6512</td>\n",
       "      <td>6515</td>\n",
       "      <td>13027</td>\n",
       "      <td>217.066667</td>\n",
       "      <td>217.166667</td>\n",
       "      <td>434.233333</td>\n",
       "    </tr>\n",
       "    <tr>\n",
       "      <th>4</th>\n",
       "      <td>5</td>\n",
       "      <td>6846</td>\n",
       "      <td>6841</td>\n",
       "      <td>13687</td>\n",
       "      <td>220.838710</td>\n",
       "      <td>220.677419</td>\n",
       "      <td>441.516129</td>\n",
       "    </tr>\n",
       "    <tr>\n",
       "      <th>5</th>\n",
       "      <td>6</td>\n",
       "      <td>6964</td>\n",
       "      <td>6965</td>\n",
       "      <td>13929</td>\n",
       "      <td>232.133333</td>\n",
       "      <td>232.166667</td>\n",
       "      <td>464.300000</td>\n",
       "    </tr>\n",
       "    <tr>\n",
       "      <th>6</th>\n",
       "      <td>7</td>\n",
       "      <td>7233</td>\n",
       "      <td>7234</td>\n",
       "      <td>14467</td>\n",
       "      <td>233.322581</td>\n",
       "      <td>233.354839</td>\n",
       "      <td>466.677419</td>\n",
       "    </tr>\n",
       "    <tr>\n",
       "      <th>7</th>\n",
       "      <td>8</td>\n",
       "      <td>7164</td>\n",
       "      <td>7164</td>\n",
       "      <td>14328</td>\n",
       "      <td>231.096774</td>\n",
       "      <td>231.096774</td>\n",
       "      <td>462.193548</td>\n",
       "    </tr>\n",
       "    <tr>\n",
       "      <th>8</th>\n",
       "      <td>9</td>\n",
       "      <td>6558</td>\n",
       "      <td>6562</td>\n",
       "      <td>13120</td>\n",
       "      <td>218.600000</td>\n",
       "      <td>218.733333</td>\n",
       "      <td>437.333333</td>\n",
       "    </tr>\n",
       "    <tr>\n",
       "      <th>9</th>\n",
       "      <td>10</td>\n",
       "      <td>6752</td>\n",
       "      <td>6752</td>\n",
       "      <td>13504</td>\n",
       "      <td>217.806452</td>\n",
       "      <td>217.806452</td>\n",
       "      <td>435.612903</td>\n",
       "    </tr>\n",
       "    <tr>\n",
       "      <th>10</th>\n",
       "      <td>11</td>\n",
       "      <td>6417</td>\n",
       "      <td>6419</td>\n",
       "      <td>12836</td>\n",
       "      <td>213.900000</td>\n",
       "      <td>213.966667</td>\n",
       "      <td>427.866667</td>\n",
       "    </tr>\n",
       "    <tr>\n",
       "      <th>11</th>\n",
       "      <td>12</td>\n",
       "      <td>6783</td>\n",
       "      <td>6785</td>\n",
       "      <td>13568</td>\n",
       "      <td>218.806452</td>\n",
       "      <td>218.870968</td>\n",
       "      <td>437.677419</td>\n",
       "    </tr>\n",
       "  </tbody>\n",
       "</table>\n",
       "</div>"
      ],
      "text/plain": [
       "    Month  Departure Count  Arrival Count  Total Operation Count  \\\n",
       "0       1             6562           6559                  13121   \n",
       "1       2             5983           5982                  11965   \n",
       "2       3             6806           6806                  13612   \n",
       "3       4             6512           6515                  13027   \n",
       "4       5             6846           6841                  13687   \n",
       "5       6             6964           6965                  13929   \n",
       "6       7             7233           7234                  14467   \n",
       "7       8             7164           7164                  14328   \n",
       "8       9             6558           6562                  13120   \n",
       "9      10             6752           6752                  13504   \n",
       "10     11             6417           6419                  12836   \n",
       "11     12             6783           6785                  13568   \n",
       "\n",
       "    Departure Per Day  Arrivals Per Day  Operation Per Day  \n",
       "0          211.677419        211.580645         423.258065  \n",
       "1          213.678571        213.642857         427.321429  \n",
       "2          219.548387        219.548387         439.096774  \n",
       "3          217.066667        217.166667         434.233333  \n",
       "4          220.838710        220.677419         441.516129  \n",
       "5          232.133333        232.166667         464.300000  \n",
       "6          233.322581        233.354839         466.677419  \n",
       "7          231.096774        231.096774         462.193548  \n",
       "8          218.600000        218.733333         437.333333  \n",
       "9          217.806452        217.806452         435.612903  \n",
       "10         213.900000        213.966667         427.866667  \n",
       "11         218.806452        218.870968         437.677419  "
      ]
     },
     "execution_count": 57,
     "metadata": {},
     "output_type": "execute_result"
    }
   ],
   "source": [
    "san_old_count_summary = pd.read_csv('./output/q8_summary.csv')\n",
    "san_old_count_summary['Operation Per Day'] = san_old_count_summary['Total Operation Count']/ day_counts['day']\n",
    "san_old_count_summary.iloc[:, 2:]"
   ]
  },
  {
   "cell_type": "markdown",
   "metadata": {},
   "source": [
    "The month with the greatest number of daily operations is **July**"
   ]
  },
  {
   "cell_type": "markdown",
   "metadata": {},
   "source": [
    "### Q9 Opeartion Summary for the Peak Month: July"
   ]
  },
  {
   "cell_type": "code",
   "execution_count": 58,
   "metadata": {
    "collapsed": true
   },
   "outputs": [],
   "source": [
    "july_daily_sum = pd.read_csv('./output/q9_daily_sum_july.csv')"
   ]
  },
  {
   "cell_type": "code",
   "execution_count": 59,
   "metadata": {},
   "outputs": [
    {
     "data": {
      "text/html": [
       "<div>\n",
       "<style>\n",
       "    .dataframe thead tr:only-child th {\n",
       "        text-align: right;\n",
       "    }\n",
       "\n",
       "    .dataframe thead th {\n",
       "        text-align: left;\n",
       "    }\n",
       "\n",
       "    .dataframe tbody tr th {\n",
       "        vertical-align: top;\n",
       "    }\n",
       "</style>\n",
       "<table border=\"1\" class=\"dataframe\">\n",
       "  <thead>\n",
       "    <tr style=\"text-align: right;\">\n",
       "      <th></th>\n",
       "      <th>day</th>\n",
       "      <th>daily arrival count</th>\n",
       "      <th>daily departure count</th>\n",
       "      <th>total operation daily count</th>\n",
       "    </tr>\n",
       "  </thead>\n",
       "  <tbody>\n",
       "    <tr>\n",
       "      <th>0</th>\n",
       "      <td>1</td>\n",
       "      <td>239</td>\n",
       "      <td>239</td>\n",
       "      <td>478</td>\n",
       "    </tr>\n",
       "    <tr>\n",
       "      <th>1</th>\n",
       "      <td>2</td>\n",
       "      <td>212</td>\n",
       "      <td>211</td>\n",
       "      <td>423</td>\n",
       "    </tr>\n",
       "    <tr>\n",
       "      <th>2</th>\n",
       "      <td>3</td>\n",
       "      <td>177</td>\n",
       "      <td>178</td>\n",
       "      <td>355</td>\n",
       "    </tr>\n",
       "    <tr>\n",
       "      <th>3</th>\n",
       "      <td>4</td>\n",
       "      <td>220</td>\n",
       "      <td>220</td>\n",
       "      <td>440</td>\n",
       "    </tr>\n",
       "    <tr>\n",
       "      <th>4</th>\n",
       "      <td>5</td>\n",
       "      <td>239</td>\n",
       "      <td>239</td>\n",
       "      <td>478</td>\n",
       "    </tr>\n",
       "    <tr>\n",
       "      <th>5</th>\n",
       "      <td>6</td>\n",
       "      <td>240</td>\n",
       "      <td>240</td>\n",
       "      <td>480</td>\n",
       "    </tr>\n",
       "    <tr>\n",
       "      <th>6</th>\n",
       "      <td>7</td>\n",
       "      <td>242</td>\n",
       "      <td>242</td>\n",
       "      <td>484</td>\n",
       "    </tr>\n",
       "    <tr>\n",
       "      <th>7</th>\n",
       "      <td>8</td>\n",
       "      <td>239</td>\n",
       "      <td>239</td>\n",
       "      <td>478</td>\n",
       "    </tr>\n",
       "    <tr>\n",
       "      <th>8</th>\n",
       "      <td>9</td>\n",
       "      <td>214</td>\n",
       "      <td>213</td>\n",
       "      <td>427</td>\n",
       "    </tr>\n",
       "    <tr>\n",
       "      <th>9</th>\n",
       "      <td>10</td>\n",
       "      <td>233</td>\n",
       "      <td>234</td>\n",
       "      <td>467</td>\n",
       "    </tr>\n",
       "    <tr>\n",
       "      <th>10</th>\n",
       "      <td>11</td>\n",
       "      <td>242</td>\n",
       "      <td>242</td>\n",
       "      <td>484</td>\n",
       "    </tr>\n",
       "    <tr>\n",
       "      <th>11</th>\n",
       "      <td>12</td>\n",
       "      <td>239</td>\n",
       "      <td>239</td>\n",
       "      <td>478</td>\n",
       "    </tr>\n",
       "    <tr>\n",
       "      <th>12</th>\n",
       "      <td>13</td>\n",
       "      <td>240</td>\n",
       "      <td>240</td>\n",
       "      <td>480</td>\n",
       "    </tr>\n",
       "    <tr>\n",
       "      <th>13</th>\n",
       "      <td>14</td>\n",
       "      <td>242</td>\n",
       "      <td>242</td>\n",
       "      <td>484</td>\n",
       "    </tr>\n",
       "    <tr>\n",
       "      <th>14</th>\n",
       "      <td>15</td>\n",
       "      <td>241</td>\n",
       "      <td>241</td>\n",
       "      <td>482</td>\n",
       "    </tr>\n",
       "    <tr>\n",
       "      <th>15</th>\n",
       "      <td>16</td>\n",
       "      <td>216</td>\n",
       "      <td>215</td>\n",
       "      <td>431</td>\n",
       "    </tr>\n",
       "    <tr>\n",
       "      <th>16</th>\n",
       "      <td>17</td>\n",
       "      <td>235</td>\n",
       "      <td>235</td>\n",
       "      <td>470</td>\n",
       "    </tr>\n",
       "    <tr>\n",
       "      <th>17</th>\n",
       "      <td>18</td>\n",
       "      <td>243</td>\n",
       "      <td>243</td>\n",
       "      <td>486</td>\n",
       "    </tr>\n",
       "    <tr>\n",
       "      <th>18</th>\n",
       "      <td>19</td>\n",
       "      <td>241</td>\n",
       "      <td>241</td>\n",
       "      <td>482</td>\n",
       "    </tr>\n",
       "    <tr>\n",
       "      <th>19</th>\n",
       "      <td>20</td>\n",
       "      <td>242</td>\n",
       "      <td>242</td>\n",
       "      <td>484</td>\n",
       "    </tr>\n",
       "    <tr>\n",
       "      <th>20</th>\n",
       "      <td>21</td>\n",
       "      <td>244</td>\n",
       "      <td>244</td>\n",
       "      <td>488</td>\n",
       "    </tr>\n",
       "    <tr>\n",
       "      <th>21</th>\n",
       "      <td>22</td>\n",
       "      <td>241</td>\n",
       "      <td>241</td>\n",
       "      <td>482</td>\n",
       "    </tr>\n",
       "    <tr>\n",
       "      <th>22</th>\n",
       "      <td>23</td>\n",
       "      <td>216</td>\n",
       "      <td>215</td>\n",
       "      <td>431</td>\n",
       "    </tr>\n",
       "    <tr>\n",
       "      <th>23</th>\n",
       "      <td>24</td>\n",
       "      <td>235</td>\n",
       "      <td>236</td>\n",
       "      <td>471</td>\n",
       "    </tr>\n",
       "    <tr>\n",
       "      <th>24</th>\n",
       "      <td>25</td>\n",
       "      <td>243</td>\n",
       "      <td>243</td>\n",
       "      <td>486</td>\n",
       "    </tr>\n",
       "    <tr>\n",
       "      <th>25</th>\n",
       "      <td>26</td>\n",
       "      <td>241</td>\n",
       "      <td>241</td>\n",
       "      <td>482</td>\n",
       "    </tr>\n",
       "    <tr>\n",
       "      <th>26</th>\n",
       "      <td>27</td>\n",
       "      <td>242</td>\n",
       "      <td>242</td>\n",
       "      <td>484</td>\n",
       "    </tr>\n",
       "    <tr>\n",
       "      <th>27</th>\n",
       "      <td>28</td>\n",
       "      <td>244</td>\n",
       "      <td>244</td>\n",
       "      <td>488</td>\n",
       "    </tr>\n",
       "    <tr>\n",
       "      <th>28</th>\n",
       "      <td>29</td>\n",
       "      <td>241</td>\n",
       "      <td>241</td>\n",
       "      <td>482</td>\n",
       "    </tr>\n",
       "    <tr>\n",
       "      <th>29</th>\n",
       "      <td>30</td>\n",
       "      <td>216</td>\n",
       "      <td>215</td>\n",
       "      <td>431</td>\n",
       "    </tr>\n",
       "    <tr>\n",
       "      <th>30</th>\n",
       "      <td>31</td>\n",
       "      <td>235</td>\n",
       "      <td>236</td>\n",
       "      <td>471</td>\n",
       "    </tr>\n",
       "  </tbody>\n",
       "</table>\n",
       "</div>"
      ],
      "text/plain": [
       "    day  daily arrival count  daily departure count  \\\n",
       "0     1                  239                    239   \n",
       "1     2                  212                    211   \n",
       "2     3                  177                    178   \n",
       "3     4                  220                    220   \n",
       "4     5                  239                    239   \n",
       "5     6                  240                    240   \n",
       "6     7                  242                    242   \n",
       "7     8                  239                    239   \n",
       "8     9                  214                    213   \n",
       "9    10                  233                    234   \n",
       "10   11                  242                    242   \n",
       "11   12                  239                    239   \n",
       "12   13                  240                    240   \n",
       "13   14                  242                    242   \n",
       "14   15                  241                    241   \n",
       "15   16                  216                    215   \n",
       "16   17                  235                    235   \n",
       "17   18                  243                    243   \n",
       "18   19                  241                    241   \n",
       "19   20                  242                    242   \n",
       "20   21                  244                    244   \n",
       "21   22                  241                    241   \n",
       "22   23                  216                    215   \n",
       "23   24                  235                    236   \n",
       "24   25                  243                    243   \n",
       "25   26                  241                    241   \n",
       "26   27                  242                    242   \n",
       "27   28                  244                    244   \n",
       "28   29                  241                    241   \n",
       "29   30                  216                    215   \n",
       "30   31                  235                    236   \n",
       "\n",
       "    total operation daily count  \n",
       "0                           478  \n",
       "1                           423  \n",
       "2                           355  \n",
       "3                           440  \n",
       "4                           478  \n",
       "5                           480  \n",
       "6                           484  \n",
       "7                           478  \n",
       "8                           427  \n",
       "9                           467  \n",
       "10                          484  \n",
       "11                          478  \n",
       "12                          480  \n",
       "13                          484  \n",
       "14                          482  \n",
       "15                          431  \n",
       "16                          470  \n",
       "17                          486  \n",
       "18                          482  \n",
       "19                          484  \n",
       "20                          488  \n",
       "21                          482  \n",
       "22                          431  \n",
       "23                          471  \n",
       "24                          486  \n",
       "25                          482  \n",
       "26                          484  \n",
       "27                          488  \n",
       "28                          482  \n",
       "29                          431  \n",
       "30                          471  "
      ]
     },
     "execution_count": 59,
     "metadata": {},
     "output_type": "execute_result"
    }
   ],
   "source": [
    "july_daily_sum"
   ]
  },
  {
   "cell_type": "markdown",
   "metadata": {},
   "source": [
    "### 10. Average of Daily Operation"
   ]
  },
  {
   "cell_type": "code",
   "execution_count": 60,
   "metadata": {
    "collapsed": true
   },
   "outputs": [],
   "source": [
    "july_days = san_old[san_old['dt'].dt.month == 7].loc[:,['dt']]\n",
    "july_days['weekday'] = july_days['dt'].dt.weekday\n",
    "july_days['day'] = july_days['dt'].dt.day\n",
    "july_days = july_days.iloc[:, 1:]\n",
    "july_day = july_days.groupby('day').agg(np.mean)\n",
    "july_weekday = july_day.iloc[:, 0]\n",
    "july_daily_sum['weekday'] = july_weekday.reset_index()['weekday']"
   ]
  },
  {
   "cell_type": "markdown",
   "metadata": {},
   "source": [
    "**(1) All days**\n",
    "Average Daily Arrival: 233.3548387096774  \n",
    "Average Daily Departure: 233.32258064516128  \n",
    "Average Daily Total Operation: 466.6774193548387  \n",
    "\n",
    "**(2) Weekdays**\n",
    "Average Daily Arrival: 240.23809523809524   \n",
    "Average Daily Departure: 240.23809523809524    \n",
    "Average Daily Total Operation: 480.4761904761905  \n"
   ]
  },
  {
   "cell_type": "code",
   "execution_count": 61,
   "metadata": {},
   "outputs": [
    {
     "data": {
      "text/html": [
       "<div>\n",
       "<style>\n",
       "    .dataframe thead tr:only-child th {\n",
       "        text-align: right;\n",
       "    }\n",
       "\n",
       "    .dataframe thead th {\n",
       "        text-align: left;\n",
       "    }\n",
       "\n",
       "    .dataframe tbody tr th {\n",
       "        vertical-align: top;\n",
       "    }\n",
       "</style>\n",
       "<table border=\"1\" class=\"dataframe\">\n",
       "  <thead>\n",
       "    <tr style=\"text-align: right;\">\n",
       "      <th></th>\n",
       "      <th>day</th>\n",
       "      <th>daily arrival count</th>\n",
       "      <th>daily departure count</th>\n",
       "      <th>total operation daily count</th>\n",
       "      <th>weekday</th>\n",
       "    </tr>\n",
       "  </thead>\n",
       "  <tbody>\n",
       "    <tr>\n",
       "      <th>0</th>\n",
       "      <td>1</td>\n",
       "      <td>239</td>\n",
       "      <td>239</td>\n",
       "      <td>478</td>\n",
       "      <td>4</td>\n",
       "    </tr>\n",
       "    <tr>\n",
       "      <th>3</th>\n",
       "      <td>4</td>\n",
       "      <td>220</td>\n",
       "      <td>220</td>\n",
       "      <td>440</td>\n",
       "      <td>0</td>\n",
       "    </tr>\n",
       "    <tr>\n",
       "      <th>4</th>\n",
       "      <td>5</td>\n",
       "      <td>239</td>\n",
       "      <td>239</td>\n",
       "      <td>478</td>\n",
       "      <td>1</td>\n",
       "    </tr>\n",
       "    <tr>\n",
       "      <th>5</th>\n",
       "      <td>6</td>\n",
       "      <td>240</td>\n",
       "      <td>240</td>\n",
       "      <td>480</td>\n",
       "      <td>2</td>\n",
       "    </tr>\n",
       "    <tr>\n",
       "      <th>6</th>\n",
       "      <td>7</td>\n",
       "      <td>242</td>\n",
       "      <td>242</td>\n",
       "      <td>484</td>\n",
       "      <td>3</td>\n",
       "    </tr>\n",
       "    <tr>\n",
       "      <th>7</th>\n",
       "      <td>8</td>\n",
       "      <td>239</td>\n",
       "      <td>239</td>\n",
       "      <td>478</td>\n",
       "      <td>4</td>\n",
       "    </tr>\n",
       "    <tr>\n",
       "      <th>10</th>\n",
       "      <td>11</td>\n",
       "      <td>242</td>\n",
       "      <td>242</td>\n",
       "      <td>484</td>\n",
       "      <td>0</td>\n",
       "    </tr>\n",
       "    <tr>\n",
       "      <th>11</th>\n",
       "      <td>12</td>\n",
       "      <td>239</td>\n",
       "      <td>239</td>\n",
       "      <td>478</td>\n",
       "      <td>1</td>\n",
       "    </tr>\n",
       "    <tr>\n",
       "      <th>12</th>\n",
       "      <td>13</td>\n",
       "      <td>240</td>\n",
       "      <td>240</td>\n",
       "      <td>480</td>\n",
       "      <td>2</td>\n",
       "    </tr>\n",
       "    <tr>\n",
       "      <th>13</th>\n",
       "      <td>14</td>\n",
       "      <td>242</td>\n",
       "      <td>242</td>\n",
       "      <td>484</td>\n",
       "      <td>3</td>\n",
       "    </tr>\n",
       "    <tr>\n",
       "      <th>14</th>\n",
       "      <td>15</td>\n",
       "      <td>241</td>\n",
       "      <td>241</td>\n",
       "      <td>482</td>\n",
       "      <td>4</td>\n",
       "    </tr>\n",
       "    <tr>\n",
       "      <th>17</th>\n",
       "      <td>18</td>\n",
       "      <td>243</td>\n",
       "      <td>243</td>\n",
       "      <td>486</td>\n",
       "      <td>0</td>\n",
       "    </tr>\n",
       "    <tr>\n",
       "      <th>18</th>\n",
       "      <td>19</td>\n",
       "      <td>241</td>\n",
       "      <td>241</td>\n",
       "      <td>482</td>\n",
       "      <td>1</td>\n",
       "    </tr>\n",
       "    <tr>\n",
       "      <th>19</th>\n",
       "      <td>20</td>\n",
       "      <td>242</td>\n",
       "      <td>242</td>\n",
       "      <td>484</td>\n",
       "      <td>2</td>\n",
       "    </tr>\n",
       "    <tr>\n",
       "      <th>20</th>\n",
       "      <td>21</td>\n",
       "      <td>244</td>\n",
       "      <td>244</td>\n",
       "      <td>488</td>\n",
       "      <td>3</td>\n",
       "    </tr>\n",
       "    <tr>\n",
       "      <th>21</th>\n",
       "      <td>22</td>\n",
       "      <td>241</td>\n",
       "      <td>241</td>\n",
       "      <td>482</td>\n",
       "      <td>4</td>\n",
       "    </tr>\n",
       "    <tr>\n",
       "      <th>24</th>\n",
       "      <td>25</td>\n",
       "      <td>243</td>\n",
       "      <td>243</td>\n",
       "      <td>486</td>\n",
       "      <td>0</td>\n",
       "    </tr>\n",
       "    <tr>\n",
       "      <th>25</th>\n",
       "      <td>26</td>\n",
       "      <td>241</td>\n",
       "      <td>241</td>\n",
       "      <td>482</td>\n",
       "      <td>1</td>\n",
       "    </tr>\n",
       "    <tr>\n",
       "      <th>26</th>\n",
       "      <td>27</td>\n",
       "      <td>242</td>\n",
       "      <td>242</td>\n",
       "      <td>484</td>\n",
       "      <td>2</td>\n",
       "    </tr>\n",
       "    <tr>\n",
       "      <th>27</th>\n",
       "      <td>28</td>\n",
       "      <td>244</td>\n",
       "      <td>244</td>\n",
       "      <td>488</td>\n",
       "      <td>3</td>\n",
       "    </tr>\n",
       "    <tr>\n",
       "      <th>28</th>\n",
       "      <td>29</td>\n",
       "      <td>241</td>\n",
       "      <td>241</td>\n",
       "      <td>482</td>\n",
       "      <td>4</td>\n",
       "    </tr>\n",
       "  </tbody>\n",
       "</table>\n",
       "</div>"
      ],
      "text/plain": [
       "    day  daily arrival count  daily departure count  \\\n",
       "0     1                  239                    239   \n",
       "3     4                  220                    220   \n",
       "4     5                  239                    239   \n",
       "5     6                  240                    240   \n",
       "6     7                  242                    242   \n",
       "7     8                  239                    239   \n",
       "10   11                  242                    242   \n",
       "11   12                  239                    239   \n",
       "12   13                  240                    240   \n",
       "13   14                  242                    242   \n",
       "14   15                  241                    241   \n",
       "17   18                  243                    243   \n",
       "18   19                  241                    241   \n",
       "19   20                  242                    242   \n",
       "20   21                  244                    244   \n",
       "21   22                  241                    241   \n",
       "24   25                  243                    243   \n",
       "25   26                  241                    241   \n",
       "26   27                  242                    242   \n",
       "27   28                  244                    244   \n",
       "28   29                  241                    241   \n",
       "\n",
       "    total operation daily count  weekday  \n",
       "0                           478        4  \n",
       "3                           440        0  \n",
       "4                           478        1  \n",
       "5                           480        2  \n",
       "6                           484        3  \n",
       "7                           478        4  \n",
       "10                          484        0  \n",
       "11                          478        1  \n",
       "12                          480        2  \n",
       "13                          484        3  \n",
       "14                          482        4  \n",
       "17                          486        0  \n",
       "18                          482        1  \n",
       "19                          484        2  \n",
       "20                          488        3  \n",
       "21                          482        4  \n",
       "24                          486        0  \n",
       "25                          482        1  \n",
       "26                          484        2  \n",
       "27                          488        3  \n",
       "28                          482        4  "
      ]
     },
     "execution_count": 61,
     "metadata": {},
     "output_type": "execute_result"
    }
   ],
   "source": [
    "july_daily_sum[july_daily_sum['weekday'] < 5]"
   ]
  },
  {
   "cell_type": "markdown",
   "metadata": {},
   "source": [
    "### 11. AWPM"
   ]
  },
  {
   "cell_type": "markdown",
   "metadata": {},
   "source": [
    "The day would be **July 13** because it has daily arrival counts, departure counts and total oepration counts very close to the average of weekdays. "
   ]
  },
  {
   "cell_type": "markdown",
   "metadata": {},
   "source": [
    "---\n",
    "## PART IV AWPM Analysis"
   ]
  },
  {
   "cell_type": "markdown",
   "metadata": {},
   "source": [
    "### 12. Operations by Hour"
   ]
  },
  {
   "cell_type": "markdown",
   "metadata": {},
   "source": [
    "Before diving into the answer, first take a look at the overall data summary for the whole year. "
   ]
  },
  {
   "cell_type": "code",
   "execution_count": 62,
   "metadata": {},
   "outputs": [
    {
     "data": {
      "text/html": [
       "<div>\n",
       "<style>\n",
       "    .dataframe thead tr:only-child th {\n",
       "        text-align: right;\n",
       "    }\n",
       "\n",
       "    .dataframe thead th {\n",
       "        text-align: left;\n",
       "    }\n",
       "\n",
       "    .dataframe tbody tr th {\n",
       "        vertical-align: top;\n",
       "    }\n",
       "</style>\n",
       "<table border=\"1\" class=\"dataframe\">\n",
       "  <thead>\n",
       "    <tr style=\"text-align: right;\">\n",
       "      <th></th>\n",
       "      <th>Hour</th>\n",
       "      <th>departure count</th>\n",
       "      <th>arrival count</th>\n",
       "      <th>total operations count</th>\n",
       "    </tr>\n",
       "  </thead>\n",
       "  <tbody>\n",
       "    <tr>\n",
       "      <th>0</th>\n",
       "      <td>0</td>\n",
       "      <td>0</td>\n",
       "      <td>100</td>\n",
       "      <td>100</td>\n",
       "    </tr>\n",
       "    <tr>\n",
       "      <th>1</th>\n",
       "      <td>6</td>\n",
       "      <td>8849</td>\n",
       "      <td>111</td>\n",
       "      <td>8960</td>\n",
       "    </tr>\n",
       "    <tr>\n",
       "      <th>2</th>\n",
       "      <td>7</td>\n",
       "      <td>6185</td>\n",
       "      <td>2323</td>\n",
       "      <td>8508</td>\n",
       "    </tr>\n",
       "    <tr>\n",
       "      <th>3</th>\n",
       "      <td>8</td>\n",
       "      <td>4058</td>\n",
       "      <td>3093</td>\n",
       "      <td>7151</td>\n",
       "    </tr>\n",
       "    <tr>\n",
       "      <th>4</th>\n",
       "      <td>9</td>\n",
       "      <td>5109</td>\n",
       "      <td>5158</td>\n",
       "      <td>10267</td>\n",
       "    </tr>\n",
       "    <tr>\n",
       "      <th>5</th>\n",
       "      <td>10</td>\n",
       "      <td>5027</td>\n",
       "      <td>6020</td>\n",
       "      <td>11047</td>\n",
       "    </tr>\n",
       "    <tr>\n",
       "      <th>6</th>\n",
       "      <td>11</td>\n",
       "      <td>6249</td>\n",
       "      <td>5661</td>\n",
       "      <td>11910</td>\n",
       "    </tr>\n",
       "    <tr>\n",
       "      <th>7</th>\n",
       "      <td>12</td>\n",
       "      <td>5669</td>\n",
       "      <td>6337</td>\n",
       "      <td>12006</td>\n",
       "    </tr>\n",
       "    <tr>\n",
       "      <th>8</th>\n",
       "      <td>13</td>\n",
       "      <td>6242</td>\n",
       "      <td>4547</td>\n",
       "      <td>10789</td>\n",
       "    </tr>\n",
       "    <tr>\n",
       "      <th>9</th>\n",
       "      <td>14</td>\n",
       "      <td>4960</td>\n",
       "      <td>4939</td>\n",
       "      <td>9899</td>\n",
       "    </tr>\n",
       "    <tr>\n",
       "      <th>10</th>\n",
       "      <td>15</td>\n",
       "      <td>3969</td>\n",
       "      <td>3706</td>\n",
       "      <td>7675</td>\n",
       "    </tr>\n",
       "    <tr>\n",
       "      <th>11</th>\n",
       "      <td>16</td>\n",
       "      <td>3744</td>\n",
       "      <td>3888</td>\n",
       "      <td>7632</td>\n",
       "    </tr>\n",
       "    <tr>\n",
       "      <th>12</th>\n",
       "      <td>17</td>\n",
       "      <td>4291</td>\n",
       "      <td>4533</td>\n",
       "      <td>8824</td>\n",
       "    </tr>\n",
       "    <tr>\n",
       "      <th>13</th>\n",
       "      <td>18</td>\n",
       "      <td>3781</td>\n",
       "      <td>5379</td>\n",
       "      <td>9160</td>\n",
       "    </tr>\n",
       "    <tr>\n",
       "      <th>14</th>\n",
       "      <td>19</td>\n",
       "      <td>4012</td>\n",
       "      <td>4999</td>\n",
       "      <td>9011</td>\n",
       "    </tr>\n",
       "    <tr>\n",
       "      <th>15</th>\n",
       "      <td>20</td>\n",
       "      <td>3074</td>\n",
       "      <td>6402</td>\n",
       "      <td>9476</td>\n",
       "    </tr>\n",
       "    <tr>\n",
       "      <th>16</th>\n",
       "      <td>21</td>\n",
       "      <td>2960</td>\n",
       "      <td>5114</td>\n",
       "      <td>8074</td>\n",
       "    </tr>\n",
       "    <tr>\n",
       "      <th>17</th>\n",
       "      <td>22</td>\n",
       "      <td>2397</td>\n",
       "      <td>5114</td>\n",
       "      <td>7511</td>\n",
       "    </tr>\n",
       "    <tr>\n",
       "      <th>18</th>\n",
       "      <td>23</td>\n",
       "      <td>4</td>\n",
       "      <td>3160</td>\n",
       "      <td>3164</td>\n",
       "    </tr>\n",
       "  </tbody>\n",
       "</table>\n",
       "</div>"
      ],
      "text/plain": [
       "    Hour  departure count  arrival count  total operations count\n",
       "0      0                0            100                     100\n",
       "1      6             8849            111                    8960\n",
       "2      7             6185           2323                    8508\n",
       "3      8             4058           3093                    7151\n",
       "4      9             5109           5158                   10267\n",
       "5     10             5027           6020                   11047\n",
       "6     11             6249           5661                   11910\n",
       "7     12             5669           6337                   12006\n",
       "8     13             6242           4547                   10789\n",
       "9     14             4960           4939                    9899\n",
       "10    15             3969           3706                    7675\n",
       "11    16             3744           3888                    7632\n",
       "12    17             4291           4533                    8824\n",
       "13    18             3781           5379                    9160\n",
       "14    19             4012           4999                    9011\n",
       "15    20             3074           6402                    9476\n",
       "16    21             2960           5114                    8074\n",
       "17    22             2397           5114                    7511\n",
       "18    23                4           3160                    3164"
      ]
     },
     "execution_count": 62,
     "metadata": {},
     "output_type": "execute_result"
    }
   ],
   "source": [
    "by_hr = hourly_summary.join(arrival_summary, how = 'outer').reset_index().rename(columns = {'index': 'Hour'})\n",
    "by_hr['departure count'] = by_hr['departure count'].fillna(0.0).astype(int)\n",
    "by_hr['total operations count'] = by_hr['departure count'] + by_hr['arrival count']\n",
    "by_hr"
   ]
  },
  {
   "cell_type": "code",
   "execution_count": 63,
   "metadata": {},
   "outputs": [
    {
     "data": {
      "image/png": "[encoded data removed]",
      "text/plain": [
       "<matplotlib.figure.Figure at 0x1a14ae4240>"
      ]
     },
     "metadata": {},
     "output_type": "display_data"
    }
   ],
   "source": [
    "plt.plot(hourly_summary['departure count'])\n",
    "plt.plot(arrival_summary['arrival count'])\n",
    "plt.xticks([0, 1, 2, 3, 4, 5, 6, 7, 8, 9, 10, 11, 12, 13, 14, 15, 16, 17, 18, 19, 20, 21, 22, 23])\n",
    "plt.legend()\n",
    "plt.xlabel('Hour')\n",
    "plt.ylabel('Operation Counts')\n",
    "plt.title('Operation Summary by Hour (total count of the year)')\n",
    "plt.show()"
   ]
  },
  {
   "cell_type": "markdown",
   "metadata": {},
   "source": [
    "**Key obeservation**: Departure peaks at early morning(around 6 and 7) and the arrival seems to peak around noon and night (8 pm to 9 pm)."
   ]
  },
  {
   "cell_type": "markdown",
   "metadata": {},
   "source": [
    "**Now: focus on July 13**"
   ]
  },
  {
   "cell_type": "code",
   "execution_count": 64,
   "metadata": {
    "collapsed": true
   },
   "outputs": [],
   "source": [
    "july_13_daily_summ = pd.read_csv('./output/july_13_daily_summ.csv').iloc[:,1:]"
   ]
  },
  {
   "cell_type": "code",
   "execution_count": 65,
   "metadata": {},
   "outputs": [
    {
     "data": {
      "text/html": [
       "<div>\n",
       "<style>\n",
       "    .dataframe thead tr:only-child th {\n",
       "        text-align: right;\n",
       "    }\n",
       "\n",
       "    .dataframe thead th {\n",
       "        text-align: left;\n",
       "    }\n",
       "\n",
       "    .dataframe tbody tr th {\n",
       "        vertical-align: top;\n",
       "    }\n",
       "</style>\n",
       "<table border=\"1\" class=\"dataframe\">\n",
       "  <thead>\n",
       "    <tr style=\"text-align: right;\">\n",
       "      <th></th>\n",
       "      <th>hour</th>\n",
       "      <th>departure count</th>\n",
       "      <th>arrival count</th>\n",
       "      <th>opeartion count</th>\n",
       "    </tr>\n",
       "  </thead>\n",
       "  <tbody>\n",
       "    <tr>\n",
       "      <th>0</th>\n",
       "      <td>5</td>\n",
       "      <td>0</td>\n",
       "      <td>1</td>\n",
       "      <td>1</td>\n",
       "    </tr>\n",
       "    <tr>\n",
       "      <th>1</th>\n",
       "      <td>6</td>\n",
       "      <td>28</td>\n",
       "      <td>9</td>\n",
       "      <td>37</td>\n",
       "    </tr>\n",
       "    <tr>\n",
       "      <th>2</th>\n",
       "      <td>7</td>\n",
       "      <td>17</td>\n",
       "      <td>18</td>\n",
       "      <td>35</td>\n",
       "    </tr>\n",
       "    <tr>\n",
       "      <th>3</th>\n",
       "      <td>8</td>\n",
       "      <td>10</td>\n",
       "      <td>20</td>\n",
       "      <td>30</td>\n",
       "    </tr>\n",
       "    <tr>\n",
       "      <th>4</th>\n",
       "      <td>9</td>\n",
       "      <td>15</td>\n",
       "      <td>15</td>\n",
       "      <td>30</td>\n",
       "    </tr>\n",
       "    <tr>\n",
       "      <th>5</th>\n",
       "      <td>10</td>\n",
       "      <td>14</td>\n",
       "      <td>13</td>\n",
       "      <td>27</td>\n",
       "    </tr>\n",
       "    <tr>\n",
       "      <th>6</th>\n",
       "      <td>11</td>\n",
       "      <td>23</td>\n",
       "      <td>13</td>\n",
       "      <td>36</td>\n",
       "    </tr>\n",
       "    <tr>\n",
       "      <th>7</th>\n",
       "      <td>12</td>\n",
       "      <td>10</td>\n",
       "      <td>15</td>\n",
       "      <td>25</td>\n",
       "    </tr>\n",
       "    <tr>\n",
       "      <th>8</th>\n",
       "      <td>13</td>\n",
       "      <td>19</td>\n",
       "      <td>13</td>\n",
       "      <td>32</td>\n",
       "    </tr>\n",
       "    <tr>\n",
       "      <th>9</th>\n",
       "      <td>14</td>\n",
       "      <td>15</td>\n",
       "      <td>12</td>\n",
       "      <td>27</td>\n",
       "    </tr>\n",
       "    <tr>\n",
       "      <th>10</th>\n",
       "      <td>15</td>\n",
       "      <td>12</td>\n",
       "      <td>19</td>\n",
       "      <td>31</td>\n",
       "    </tr>\n",
       "    <tr>\n",
       "      <th>11</th>\n",
       "      <td>16</td>\n",
       "      <td>13</td>\n",
       "      <td>13</td>\n",
       "      <td>26</td>\n",
       "    </tr>\n",
       "    <tr>\n",
       "      <th>12</th>\n",
       "      <td>17</td>\n",
       "      <td>14</td>\n",
       "      <td>18</td>\n",
       "      <td>32</td>\n",
       "    </tr>\n",
       "    <tr>\n",
       "      <th>13</th>\n",
       "      <td>18</td>\n",
       "      <td>9</td>\n",
       "      <td>13</td>\n",
       "      <td>22</td>\n",
       "    </tr>\n",
       "    <tr>\n",
       "      <th>14</th>\n",
       "      <td>19</td>\n",
       "      <td>11</td>\n",
       "      <td>16</td>\n",
       "      <td>27</td>\n",
       "    </tr>\n",
       "    <tr>\n",
       "      <th>15</th>\n",
       "      <td>20</td>\n",
       "      <td>9</td>\n",
       "      <td>11</td>\n",
       "      <td>20</td>\n",
       "    </tr>\n",
       "    <tr>\n",
       "      <th>16</th>\n",
       "      <td>21</td>\n",
       "      <td>11</td>\n",
       "      <td>13</td>\n",
       "      <td>24</td>\n",
       "    </tr>\n",
       "    <tr>\n",
       "      <th>17</th>\n",
       "      <td>22</td>\n",
       "      <td>10</td>\n",
       "      <td>7</td>\n",
       "      <td>17</td>\n",
       "    </tr>\n",
       "    <tr>\n",
       "      <th>18</th>\n",
       "      <td>23</td>\n",
       "      <td>0</td>\n",
       "      <td>1</td>\n",
       "      <td>1</td>\n",
       "    </tr>\n",
       "  </tbody>\n",
       "</table>\n",
       "</div>"
      ],
      "text/plain": [
       "    hour  departure count  arrival count  opeartion count\n",
       "0      5                0              1                1\n",
       "1      6               28              9               37\n",
       "2      7               17             18               35\n",
       "3      8               10             20               30\n",
       "4      9               15             15               30\n",
       "5     10               14             13               27\n",
       "6     11               23             13               36\n",
       "7     12               10             15               25\n",
       "8     13               19             13               32\n",
       "9     14               15             12               27\n",
       "10    15               12             19               31\n",
       "11    16               13             13               26\n",
       "12    17               14             18               32\n",
       "13    18                9             13               22\n",
       "14    19               11             16               27\n",
       "15    20                9             11               20\n",
       "16    21               11             13               24\n",
       "17    22               10              7               17\n",
       "18    23                0              1                1"
      ]
     },
     "execution_count": 65,
     "metadata": {},
     "output_type": "execute_result"
    }
   ],
   "source": [
    "july_13_daily_summ"
   ]
  },
  {
   "cell_type": "code",
   "execution_count": 66,
   "metadata": {},
   "outputs": [
    {
     "data": {
      "image/png": "[encoded data removed]",
      "text/plain": [
       "<matplotlib.figure.Figure at 0x1a14ae4358>"
      ]
     },
     "metadata": {},
     "output_type": "display_data"
    }
   ],
   "source": [
    "plt.plot(july_13_daily_summ['hour'], july_13_daily_summ['departure count'])\n",
    "plt.plot(july_13_daily_summ['hour'], july_13_daily_summ['arrival count'])\n",
    "plt.xticks([5, 6, 7, 8, 9, 10, 11, 12, 13, 14, 15, 16, 17, 18, 19, 20, 21, 22, 23])\n",
    "plt.legend()\n",
    "plt.xlabel('Hour')\n",
    "plt.ylabel('Operation Counts')\n",
    "plt.title('Operation Summary by Hour (July 13)')\n",
    "plt.show()"
   ]
  },
  {
   "cell_type": "markdown",
   "metadata": {},
   "source": [
    "### 13. Peak Counts "
   ]
  },
  {
   "cell_type": "markdown",
   "metadata": {},
   "source": [
    "**Maximum Departure Count**: 28 happen in **6am**    \n",
    "**Maximum Arrival Count**: 10 happen in **8am**   \n",
    "**Maximum Total Operation Count**: 37 happen in **6am**   "
   ]
  },
  {
   "cell_type": "markdown",
   "metadata": {},
   "source": [
    "_The trend and the peak for AWPM is consistent with the trend and peak for total count over the year of 2011_. "
   ]
  },
  {
   "cell_type": "markdown",
   "metadata": {},
   "source": [
    "### 14. Rolling hour"
   ]
  },
  {
   "cell_type": "code",
   "execution_count": 67,
   "metadata": {
    "collapsed": true
   },
   "outputs": [],
   "source": [
    "import datetime"
   ]
  },
  {
   "cell_type": "code",
   "execution_count": 68,
   "metadata": {},
   "outputs": [
    {
     "data": {
      "text/plain": [
       "datetime.timedelta(0, 3600)"
      ]
     },
     "execution_count": 68,
     "metadata": {},
     "output_type": "execute_result"
    }
   ],
   "source": [
    "datetime.timedelta(minutes=60)"
   ]
  },
  {
   "cell_type": "code",
   "execution_count": 69,
   "metadata": {
    "collapsed": true
   },
   "outputs": [],
   "source": [
    "july_13_opt = san_old[san_old['dt'].dt.month == 7]\n",
    "july_13_opt = july_13_opt[july_13_opt['dt'].dt.day == 13]    "
   ]
  },
  {
   "cell_type": "code",
   "execution_count": 70,
   "metadata": {
    "collapsed": true
   },
   "outputs": [],
   "source": [
    "hour = []\n",
    "minute = []"
   ]
  },
  {
   "cell_type": "code",
   "execution_count": 71,
   "metadata": {
    "collapsed": true
   },
   "outputs": [],
   "source": [
    "for i in range(24):\n",
    "    for j in range(60):\n",
    "        hour = np.append(hour, i)\n",
    "        minute = np.append(minute, j)"
   ]
  },
  {
   "cell_type": "code",
   "execution_count": 72,
   "metadata": {
    "collapsed": true
   },
   "outputs": [],
   "source": [
    "rolling = pd.DataFrame(hour).astype(int)\n",
    "rolling['min'] = minute.astype(int)\n",
    "rolling = rolling.rename(columns = {0:'h'})"
   ]
  },
  {
   "cell_type": "code",
   "execution_count": 73,
   "metadata": {
    "collapsed": true
   },
   "outputs": [],
   "source": [
    "san_july13_dept = san_old_dept[san_old_dept['dt'].dt.month == 7]\n",
    "san_july13_dept = san_july13_dept[san_july13_dept['dt'].dt.day == 13]\n",
    "san_july13_arr = san_old_arr[san_old_arr['at'].dt.month == 7]\n",
    "san_july13_arr = san_july13_arr[san_july13_arr['at'].dt.day == 13]"
   ]
  },
  {
   "cell_type": "code",
   "execution_count": 74,
   "metadata": {
    "collapsed": true
   },
   "outputs": [],
   "source": [
    "san_july13_dept['hour'] = san_july13_dept['dt'].dt.hour\n",
    "san_july13_dept['min'] = san_july13_dept['dt'].dt.minute"
   ]
  },
  {
   "cell_type": "code",
   "execution_count": 75,
   "metadata": {
    "collapsed": true
   },
   "outputs": [],
   "source": [
    "san_july13_arr['hour'] = san_july13_arr['at'].dt.hour\n",
    "san_july13_arr['min'] = san_july13_arr['at'].dt.minute"
   ]
  },
  {
   "cell_type": "code",
   "execution_count": 76,
   "metadata": {
    "collapsed": true
   },
   "outputs": [],
   "source": [
    "rolling = pd.read_csv('./output/rolling.csv').iloc[:,1:]"
   ]
  },
  {
   "cell_type": "code",
   "execution_count": 77,
   "metadata": {
    "collapsed": true
   },
   "outputs": [],
   "source": [
    "dtobj = []\n",
    "for i in range(len(rolling)):\n",
    "    dth = hour[i]\n",
    "    dtm = minute[i]\n",
    "    dtobject = datetime.timedelta(minutes = dtm, hours = dth)\n",
    "    dtobj = np.append(dtobj, dtobject)"
   ]
  },
  {
   "cell_type": "code",
   "execution_count": 78,
   "metadata": {
    "collapsed": true
   },
   "outputs": [],
   "source": [
    "rolling['time'] = dtobj"
   ]
  },
  {
   "cell_type": "code",
   "execution_count": 79,
   "metadata": {},
   "outputs": [
    {
     "data": {
      "image/png": "[encoded data removed]",
      "text/plain": [
       "<matplotlib.figure.Figure at 0x1137fd128>"
      ]
     },
     "metadata": {},
     "output_type": "display_data"
    }
   ],
   "source": [
    "plt.plot(rolling['time'], rolling['Operation Count'], label = 'Total Operation')\n",
    "plt.plot(rolling['time'], rolling['Arrival Count'], label = 'Arrival')\n",
    "plt.plot(rolling['time'], rolling['Departure Count'], label = 'Departure')\n",
    "plt.xticks([])\n",
    "plt.title('Rolling Hour Count for July 13, 2011')\n",
    "plt.ylabel('Count')\n",
    "plt.xlabel('Time')\n",
    "plt.legend()\n",
    "plt.show()\n"
   ]
  },
  {
   "cell_type": "markdown",
   "metadata": {},
   "source": [
    "### 15. Peak Counts "
   ]
  },
  {
   "cell_type": "markdown",
   "metadata": {},
   "source": [
    "**Maximum Departure: ** 31 from **07:05** to **07:14**  \n",
    "**Maximum Arrival: ** 22 from **10:35** to **10:41**  \n",
    "**Maximum Total Opeartions: ** 40 from **11:25** to **11:26**, **11:29**, **11:34** and **11:51** to **11:52**"
   ]
  },
  {
   "cell_type": "markdown",
   "metadata": {},
   "source": [
    "---\n",
    "## Part V Forecasting Growth in 2018"
   ]
  },
  {
   "cell_type": "markdown",
   "metadata": {},
   "source": [
    "### a)"
   ]
  },
  {
   "cell_type": "code",
   "execution_count": 80,
   "metadata": {
    "collapsed": true
   },
   "outputs": [],
   "source": [
    "base_year_dept = len(san_old[san_old['Dep Airport Code'] == 'SAN'])"
   ]
  },
  {
   "cell_type": "code",
   "execution_count": 81,
   "metadata": {
    "collapsed": true
   },
   "outputs": [],
   "source": [
    "base_year_arr = len(san_old[san_old['Arr Airport Code'] == 'SAN'])"
   ]
  },
  {
   "cell_type": "code",
   "execution_count": 82,
   "metadata": {
    "collapsed": true
   },
   "outputs": [],
   "source": [
    "year_list = np.arange(2011, 2019)"
   ]
  },
  {
   "cell_type": "code",
   "execution_count": 83,
   "metadata": {},
   "outputs": [
    {
     "data": {
      "text/plain": [
       "array([2011, 2012, 2013, 2014, 2015, 2016, 2017, 2018])"
      ]
     },
     "execution_count": 83,
     "metadata": {},
     "output_type": "execute_result"
    }
   ],
   "source": [
    "year_list"
   ]
  },
  {
   "cell_type": "code",
   "execution_count": 84,
   "metadata": {
    "collapsed": true
   },
   "outputs": [],
   "source": [
    "forcasting = pd.DataFrame(year_list).rename(columns = {0: 'Year'})"
   ]
  },
  {
   "cell_type": "code",
   "execution_count": 85,
   "metadata": {
    "collapsed": true
   },
   "outputs": [],
   "source": [
    "dept_for = []\n",
    "arr_for = []\n",
    "\n",
    "for i in range(len(forcasting)):\n",
    "    multiplier = 1.028 ** i \n",
    "    dept_for = np.append(dept_for, multiplier * base_year_dept)\n",
    "    arr_for = np.append(arr_for, multiplier * base_year_arr)"
   ]
  },
  {
   "cell_type": "code",
   "execution_count": 86,
   "metadata": {
    "collapsed": true
   },
   "outputs": [],
   "source": [
    "forcasting['departure forecasting'] = dept_for \n",
    "forcasting['arrival forecasting'] = arr_for"
   ]
  },
  {
   "cell_type": "code",
   "execution_count": 87,
   "metadata": {
    "collapsed": true
   },
   "outputs": [],
   "source": [
    "forcasting['total operation forecasting'] = forcasting['departure forecasting'] + forcasting['arrival forecasting']"
   ]
  },
  {
   "cell_type": "code",
   "execution_count": 88,
   "metadata": {},
   "outputs": [
    {
     "data": {
      "text/html": [
       "<div>\n",
       "<style>\n",
       "    .dataframe thead tr:only-child th {\n",
       "        text-align: right;\n",
       "    }\n",
       "\n",
       "    .dataframe thead th {\n",
       "        text-align: left;\n",
       "    }\n",
       "\n",
       "    .dataframe tbody tr th {\n",
       "        vertical-align: top;\n",
       "    }\n",
       "</style>\n",
       "<table border=\"1\" class=\"dataframe\">\n",
       "  <thead>\n",
       "    <tr style=\"text-align: right;\">\n",
       "      <th></th>\n",
       "      <th>Year</th>\n",
       "      <th>departure forecasting</th>\n",
       "      <th>arrival forecasting</th>\n",
       "      <th>total operation forecasting</th>\n",
       "    </tr>\n",
       "  </thead>\n",
       "  <tbody>\n",
       "    <tr>\n",
       "      <th>0</th>\n",
       "      <td>2011</td>\n",
       "      <td>80580.000000</td>\n",
       "      <td>80584.000000</td>\n",
       "      <td>161164.000000</td>\n",
       "    </tr>\n",
       "    <tr>\n",
       "      <th>1</th>\n",
       "      <td>2012</td>\n",
       "      <td>82836.240000</td>\n",
       "      <td>82840.352000</td>\n",
       "      <td>165676.592000</td>\n",
       "    </tr>\n",
       "    <tr>\n",
       "      <th>2</th>\n",
       "      <td>2013</td>\n",
       "      <td>85155.654720</td>\n",
       "      <td>85159.881856</td>\n",
       "      <td>170315.536576</td>\n",
       "    </tr>\n",
       "    <tr>\n",
       "      <th>3</th>\n",
       "      <td>2014</td>\n",
       "      <td>87540.013052</td>\n",
       "      <td>87544.358548</td>\n",
       "      <td>175084.371600</td>\n",
       "    </tr>\n",
       "    <tr>\n",
       "      <th>4</th>\n",
       "      <td>2015</td>\n",
       "      <td>89991.133418</td>\n",
       "      <td>89995.600587</td>\n",
       "      <td>179986.734005</td>\n",
       "    </tr>\n",
       "    <tr>\n",
       "      <th>5</th>\n",
       "      <td>2016</td>\n",
       "      <td>92510.885153</td>\n",
       "      <td>92515.477404</td>\n",
       "      <td>185026.362557</td>\n",
       "    </tr>\n",
       "    <tr>\n",
       "      <th>6</th>\n",
       "      <td>2017</td>\n",
       "      <td>95101.189938</td>\n",
       "      <td>95105.910771</td>\n",
       "      <td>190207.100709</td>\n",
       "    </tr>\n",
       "    <tr>\n",
       "      <th>7</th>\n",
       "      <td>2018</td>\n",
       "      <td>97764.023256</td>\n",
       "      <td>97768.876273</td>\n",
       "      <td>195532.899529</td>\n",
       "    </tr>\n",
       "  </tbody>\n",
       "</table>\n",
       "</div>"
      ],
      "text/plain": [
       "   Year  departure forecasting  arrival forecasting  \\\n",
       "0  2011           80580.000000         80584.000000   \n",
       "1  2012           82836.240000         82840.352000   \n",
       "2  2013           85155.654720         85159.881856   \n",
       "3  2014           87540.013052         87544.358548   \n",
       "4  2015           89991.133418         89995.600587   \n",
       "5  2016           92510.885153         92515.477404   \n",
       "6  2017           95101.189938         95105.910771   \n",
       "7  2018           97764.023256         97768.876273   \n",
       "\n",
       "   total operation forecasting  \n",
       "0                161164.000000  \n",
       "1                165676.592000  \n",
       "2                170315.536576  \n",
       "3                175084.371600  \n",
       "4                179986.734005  \n",
       "5                185026.362557  \n",
       "6                190207.100709  \n",
       "7                195532.899529  "
      ]
     },
     "execution_count": 88,
     "metadata": {},
     "output_type": "execute_result"
    }
   ],
   "source": [
    "forcasting"
   ]
  },
  {
   "cell_type": "markdown",
   "metadata": {},
   "source": [
    "### b)"
   ]
  },
  {
   "cell_type": "code",
   "execution_count": 89,
   "metadata": {
    "collapsed": true
   },
   "outputs": [],
   "source": [
    "san_2012_actype = san_2011_actype\n",
    "san_2012_actype['Count'] = san_2011_actype['Count'] * 1.028"
   ]
  },
  {
   "cell_type": "code",
   "execution_count": 90,
   "metadata": {
    "collapsed": true
   },
   "outputs": [],
   "source": [
    "san_2013_actype = san_2012_actype\n",
    "san_2013_actype['Count'] = san_2012_actype['Count'] * 1.028"
   ]
  },
  {
   "cell_type": "code",
   "execution_count": 91,
   "metadata": {
    "collapsed": true
   },
   "outputs": [],
   "source": [
    "san_2014_actype = san_2013_actype\n",
    "san_2014_actype['Count'] = san_2014_actype['Count'] * 1.028"
   ]
  },
  {
   "cell_type": "code",
   "execution_count": 92,
   "metadata": {
    "collapsed": true
   },
   "outputs": [],
   "source": [
    "san_2015_actype = san_2014_actype\n",
    "san_2015_actype['Count'] = san_2015_actype['Count'] * 1.028"
   ]
  },
  {
   "cell_type": "code",
   "execution_count": 93,
   "metadata": {
    "collapsed": true
   },
   "outputs": [],
   "source": [
    "san_2016_actype = san_2015_actype\n",
    "san_2016_actype['Count'] = san_2016_actype['Count'] * 1.028"
   ]
  },
  {
   "cell_type": "code",
   "execution_count": 94,
   "metadata": {
    "collapsed": true
   },
   "outputs": [],
   "source": [
    "san_2017_actype = san_2016_actype\n",
    "san_2017_actype['Count'] = san_2017_actype['Count'] * 1.028"
   ]
  },
  {
   "cell_type": "code",
   "execution_count": 95,
   "metadata": {
    "collapsed": true
   },
   "outputs": [],
   "source": [
    "san_2018_actype_f = san_2017_actype\n",
    "san_2018_actype_f['Count'] = san_2018_actype_f['Count'] * 1.028"
   ]
  },
  {
   "cell_type": "code",
   "execution_count": 96,
   "metadata": {},
   "outputs": [
    {
     "data": {
      "text/html": [
       "<div>\n",
       "<style>\n",
       "    .dataframe thead tr:only-child th {\n",
       "        text-align: right;\n",
       "    }\n",
       "\n",
       "    .dataframe thead th {\n",
       "        text-align: left;\n",
       "    }\n",
       "\n",
       "    .dataframe tbody tr th {\n",
       "        vertical-align: top;\n",
       "    }\n",
       "</style>\n",
       "<table border=\"1\" class=\"dataframe\">\n",
       "  <thead>\n",
       "    <tr style=\"text-align: right;\">\n",
       "      <th></th>\n",
       "      <th>Aircraft Type</th>\n",
       "      <th>Count</th>\n",
       "      <th>Percentage(%)</th>\n",
       "    </tr>\n",
       "  </thead>\n",
       "  <tbody>\n",
       "    <tr>\n",
       "      <th>0</th>\n",
       "      <td>Boeing 737-700 Passenger</td>\n",
       "      <td>50869.322004</td>\n",
       "      <td>26.015736</td>\n",
       "    </tr>\n",
       "    <tr>\n",
       "      <th>1</th>\n",
       "      <td>Boeing 737-300 Passenger</td>\n",
       "      <td>26806.851500</td>\n",
       "      <td>13.709637</td>\n",
       "    </tr>\n",
       "    <tr>\n",
       "      <th>2</th>\n",
       "      <td>Airbus A320</td>\n",
       "      <td>20331.713846</td>\n",
       "      <td>10.398104</td>\n",
       "    </tr>\n",
       "    <tr>\n",
       "      <th>3</th>\n",
       "      <td>Boeing 737-800 Passenger</td>\n",
       "      <td>10426.706576</td>\n",
       "      <td>5.332456</td>\n",
       "    </tr>\n",
       "    <tr>\n",
       "      <th>4</th>\n",
       "      <td>Boeing 737-800 (winglets) Passenger</td>\n",
       "      <td>9632.025076</td>\n",
       "      <td>4.926038</td>\n",
       "    </tr>\n",
       "    <tr>\n",
       "      <th>5</th>\n",
       "      <td>Airbus A319</td>\n",
       "      <td>9013.265435</td>\n",
       "      <td>4.609590</td>\n",
       "    </tr>\n",
       "    <tr>\n",
       "      <th>6</th>\n",
       "      <td>Embraer RJ140</td>\n",
       "      <td>8667.487989</td>\n",
       "      <td>4.432752</td>\n",
       "    </tr>\n",
       "    <tr>\n",
       "      <th>7</th>\n",
       "      <td>Embraer 120 Brasilia</td>\n",
       "      <td>7696.884631</td>\n",
       "      <td>3.936363</td>\n",
       "    </tr>\n",
       "    <tr>\n",
       "      <th>8</th>\n",
       "      <td>Canadair Regional Jet</td>\n",
       "      <td>6515.175042</td>\n",
       "      <td>3.332010</td>\n",
       "    </tr>\n",
       "    <tr>\n",
       "      <th>9</th>\n",
       "      <td>Boeing 757-200 Passenger</td>\n",
       "      <td>5981.343195</td>\n",
       "      <td>3.058996</td>\n",
       "    </tr>\n",
       "    <tr>\n",
       "      <th>10</th>\n",
       "      <td>Boeing (douglas) MD-80</td>\n",
       "      <td>5288.575048</td>\n",
       "      <td>2.704698</td>\n",
       "    </tr>\n",
       "    <tr>\n",
       "      <th>11</th>\n",
       "      <td>Boeing 757 (Passenger)</td>\n",
       "      <td>5254.603931</td>\n",
       "      <td>2.687325</td>\n",
       "    </tr>\n",
       "    <tr>\n",
       "      <th>12</th>\n",
       "      <td>Airbus A321</td>\n",
       "      <td>5213.353288</td>\n",
       "      <td>2.666228</td>\n",
       "    </tr>\n",
       "    <tr>\n",
       "      <th>13</th>\n",
       "      <td>Boeing 737-500 Passenger</td>\n",
       "      <td>4560.622529</td>\n",
       "      <td>2.332407</td>\n",
       "    </tr>\n",
       "    <tr>\n",
       "      <th>14</th>\n",
       "      <td>Canadair Regional Jet 700</td>\n",
       "      <td>3744.102454</td>\n",
       "      <td>1.914820</td>\n",
       "    </tr>\n",
       "    <tr>\n",
       "      <th>15</th>\n",
       "      <td>Boeing 737-900 Passenger</td>\n",
       "      <td>3562.114325</td>\n",
       "      <td>1.821747</td>\n",
       "    </tr>\n",
       "    <tr>\n",
       "      <th>16</th>\n",
       "      <td>Boeing 737-400 Passenger</td>\n",
       "      <td>2658.239947</td>\n",
       "      <td>1.359485</td>\n",
       "    </tr>\n",
       "    <tr>\n",
       "      <th>17</th>\n",
       "      <td>Boeing (douglas) MD-83</td>\n",
       "      <td>1987.310376</td>\n",
       "      <td>1.016356</td>\n",
       "    </tr>\n",
       "    <tr>\n",
       "      <th>18</th>\n",
       "      <td>Canadair Regional Jet 900</td>\n",
       "      <td>1623.334117</td>\n",
       "      <td>0.830210</td>\n",
       "    </tr>\n",
       "    <tr>\n",
       "      <th>19</th>\n",
       "      <td>Boeing 767-300 Passenger</td>\n",
       "      <td>1557.818390</td>\n",
       "      <td>0.796704</td>\n",
       "    </tr>\n",
       "    <tr>\n",
       "      <th>20</th>\n",
       "      <td>Embraer 190</td>\n",
       "      <td>1353.991685</td>\n",
       "      <td>0.692462</td>\n",
       "    </tr>\n",
       "    <tr>\n",
       "      <th>21</th>\n",
       "      <td>Boeing (douglas) MD-90</td>\n",
       "      <td>717.033231</td>\n",
       "      <td>0.366707</td>\n",
       "    </tr>\n",
       "    <tr>\n",
       "      <th>22</th>\n",
       "      <td>Airbus A318</td>\n",
       "      <td>589.641540</td>\n",
       "      <td>0.301556</td>\n",
       "    </tr>\n",
       "    <tr>\n",
       "      <th>23</th>\n",
       "      <td>Boeing 777 Passenger</td>\n",
       "      <td>514.419780</td>\n",
       "      <td>0.263086</td>\n",
       "    </tr>\n",
       "    <tr>\n",
       "      <th>24</th>\n",
       "      <td>Boeing 737-700 (winglets) Passenger</td>\n",
       "      <td>514.419780</td>\n",
       "      <td>0.263086</td>\n",
       "    </tr>\n",
       "    <tr>\n",
       "      <th>25</th>\n",
       "      <td>Airbus A318 /319 /320 /321</td>\n",
       "      <td>326.365379</td>\n",
       "      <td>0.166911</td>\n",
       "    </tr>\n",
       "    <tr>\n",
       "      <th>26</th>\n",
       "      <td>Boeing 757-300 Passenger</td>\n",
       "      <td>58.236201</td>\n",
       "      <td>0.029783</td>\n",
       "    </tr>\n",
       "    <tr>\n",
       "      <th>27</th>\n",
       "      <td>Boeing 767-200 Passenger</td>\n",
       "      <td>43.677151</td>\n",
       "      <td>0.022337</td>\n",
       "    </tr>\n",
       "    <tr>\n",
       "      <th>28</th>\n",
       "      <td>Embraer 170</td>\n",
       "      <td>19.412067</td>\n",
       "      <td>0.009928</td>\n",
       "    </tr>\n",
       "    <tr>\n",
       "      <th>29</th>\n",
       "      <td>Boeing 767-400 Passenger</td>\n",
       "      <td>2.426508</td>\n",
       "      <td>0.001241</td>\n",
       "    </tr>\n",
       "    <tr>\n",
       "      <th>30</th>\n",
       "      <td>Boeing 737-600 Passenger</td>\n",
       "      <td>2.426508</td>\n",
       "      <td>0.001241</td>\n",
       "    </tr>\n",
       "  </tbody>\n",
       "</table>\n",
       "</div>"
      ],
      "text/plain": [
       "                          Aircraft Type         Count  Percentage(%)\n",
       "0              Boeing 737-700 Passenger  50869.322004      26.015736\n",
       "1              Boeing 737-300 Passenger  26806.851500      13.709637\n",
       "2                           Airbus A320  20331.713846      10.398104\n",
       "3              Boeing 737-800 Passenger  10426.706576       5.332456\n",
       "4   Boeing 737-800 (winglets) Passenger   9632.025076       4.926038\n",
       "5                           Airbus A319   9013.265435       4.609590\n",
       "6                         Embraer RJ140   8667.487989       4.432752\n",
       "7                  Embraer 120 Brasilia   7696.884631       3.936363\n",
       "8                 Canadair Regional Jet   6515.175042       3.332010\n",
       "9              Boeing 757-200 Passenger   5981.343195       3.058996\n",
       "10               Boeing (douglas) MD-80   5288.575048       2.704698\n",
       "11               Boeing 757 (Passenger)   5254.603931       2.687325\n",
       "12                          Airbus A321   5213.353288       2.666228\n",
       "13             Boeing 737-500 Passenger   4560.622529       2.332407\n",
       "14            Canadair Regional Jet 700   3744.102454       1.914820\n",
       "15             Boeing 737-900 Passenger   3562.114325       1.821747\n",
       "16             Boeing 737-400 Passenger   2658.239947       1.359485\n",
       "17               Boeing (douglas) MD-83   1987.310376       1.016356\n",
       "18            Canadair Regional Jet 900   1623.334117       0.830210\n",
       "19             Boeing 767-300 Passenger   1557.818390       0.796704\n",
       "20                          Embraer 190   1353.991685       0.692462\n",
       "21               Boeing (douglas) MD-90    717.033231       0.366707\n",
       "22                          Airbus A318    589.641540       0.301556\n",
       "23                 Boeing 777 Passenger    514.419780       0.263086\n",
       "24  Boeing 737-700 (winglets) Passenger    514.419780       0.263086\n",
       "25           Airbus A318 /319 /320 /321    326.365379       0.166911\n",
       "26             Boeing 757-300 Passenger     58.236201       0.029783\n",
       "27             Boeing 767-200 Passenger     43.677151       0.022337\n",
       "28                          Embraer 170     19.412067       0.009928\n",
       "29             Boeing 767-400 Passenger      2.426508       0.001241\n",
       "30             Boeing 737-600 Passenger      2.426508       0.001241"
      ]
     },
     "execution_count": 96,
     "metadata": {},
     "output_type": "execute_result"
    }
   ],
   "source": [
    "san_2018_actype_f"
   ]
  },
  {
   "cell_type": "markdown",
   "metadata": {},
   "source": [
    "Without grouping, according to the above forecasting, **Boeing 777 passenger** surpass the 500 annual operation floor and it should be considered the design aircraft (the same reason as for Q3). The design aircraft does not change according to the forecasting. "
   ]
  },
  {
   "cell_type": "markdown",
   "metadata": {},
   "source": [
    "### c) "
   ]
  },
  {
   "cell_type": "code",
   "execution_count": 98,
   "metadata": {
    "collapsed": true
   },
   "outputs": [],
   "source": [
    "awpm_2012 = july_13_daily_summ\n",
    "awpm_2012['forecasted departure'] = awpm_2012['departure count'] * 1.028\n",
    "awpm_2012['forecasted arrival'] = awpm_2012['arrival count'] * 1.028\n",
    "awpm_2012['forecasted total'] = awpm_2012['opeartion count'] * 1.028\n",
    "awpm_2012 = awpm_2012.iloc[:, 4:7]"
   ]
  },
  {
   "cell_type": "code",
   "execution_count": 99,
   "metadata": {
    "collapsed": true
   },
   "outputs": [],
   "source": [
    "awpm_2013 = awpm_2012 \n",
    "awpm_2013['forecasted departure'] = awpm_2013['forecasted departure'] * 1.028 \n",
    "awpm_2013['forecasted arrival'] = awpm_2013['forecasted arrival'] * 1.028 \n",
    "awpm_2013['forecasted total'] = awpm_2013['forecasted total'] * 1.028 \n"
   ]
  },
  {
   "cell_type": "code",
   "execution_count": 100,
   "metadata": {
    "collapsed": true
   },
   "outputs": [],
   "source": [
    "awpm_2014 = awpm_2013 \n",
    "awpm_2014['forecasted departure'] = awpm_2014['forecasted departure'] * 1.028 \n",
    "awpm_2014['forecasted arrival'] = awpm_2014['forecasted arrival'] * 1.028 \n",
    "awpm_2014['forecasted total'] = awpm_2014['forecasted total'] * 1.028 "
   ]
  },
  {
   "cell_type": "code",
   "execution_count": 101,
   "metadata": {
    "collapsed": true
   },
   "outputs": [],
   "source": [
    "awpm_2015 = awpm_2014 \n",
    "awpm_2015['forecasted departure'] = awpm_2015['forecasted departure'] * 1.028 \n",
    "awpm_2015['forecasted arrival'] = awpm_2015['forecasted arrival'] * 1.028 \n",
    "awpm_2015['forecasted total'] = awpm_2015['forecasted total'] * 1.028 "
   ]
  },
  {
   "cell_type": "code",
   "execution_count": 102,
   "metadata": {
    "collapsed": true
   },
   "outputs": [],
   "source": [
    "awpm_2016 = awpm_2015 \n",
    "awpm_2016['forecasted departure'] = awpm_2016['forecasted departure'] * 1.028 \n",
    "awpm_2016['forecasted arrival'] = awpm_2016['forecasted arrival'] * 1.028 \n",
    "awpm_2016['forecasted total'] = awpm_2016['forecasted total'] * 1.028 "
   ]
  },
  {
   "cell_type": "code",
   "execution_count": 103,
   "metadata": {
    "collapsed": true
   },
   "outputs": [],
   "source": [
    "awpm_2017 = awpm_2016 \n",
    "awpm_2017['forecasted departure'] = awpm_2017['forecasted departure'] * 1.028 \n",
    "awpm_2017['forecasted arrival'] = awpm_2017['forecasted arrival'] * 1.028 \n",
    "awpm_2017['forecasted total'] = awpm_2017['forecasted total'] * 1.028 "
   ]
  },
  {
   "cell_type": "code",
   "execution_count": 104,
   "metadata": {
    "collapsed": true
   },
   "outputs": [],
   "source": [
    "awpm_2018_f = awpm_2017 \n",
    "awpm_2018_f['forecasted departure'] = awpm_2018_f['forecasted departure'] * 1.028 \n",
    "awpm_2018_f['forecasted arrival'] = awpm_2018_f['forecasted arrival'] * 1.028 \n",
    "awpm_2018_f['forecasted total'] = awpm_2018_f['forecasted total'] * 1.028 "
   ]
  },
  {
   "cell_type": "code",
   "execution_count": 105,
   "metadata": {},
   "outputs": [
    {
     "data": {
      "text/html": [
       "<div>\n",
       "<style>\n",
       "    .dataframe thead tr:only-child th {\n",
       "        text-align: right;\n",
       "    }\n",
       "\n",
       "    .dataframe thead th {\n",
       "        text-align: left;\n",
       "    }\n",
       "\n",
       "    .dataframe tbody tr th {\n",
       "        vertical-align: top;\n",
       "    }\n",
       "</style>\n",
       "<table border=\"1\" class=\"dataframe\">\n",
       "  <thead>\n",
       "    <tr style=\"text-align: right;\">\n",
       "      <th></th>\n",
       "      <th>forecasted departure</th>\n",
       "      <th>forecasted arrival</th>\n",
       "      <th>forecasted total</th>\n",
       "    </tr>\n",
       "  </thead>\n",
       "  <tbody>\n",
       "    <tr>\n",
       "      <th>0</th>\n",
       "      <td>0.000000</td>\n",
       "      <td>1.213254</td>\n",
       "      <td>1.213254</td>\n",
       "    </tr>\n",
       "    <tr>\n",
       "      <th>1</th>\n",
       "      <td>33.971118</td>\n",
       "      <td>10.919288</td>\n",
       "      <td>44.890405</td>\n",
       "    </tr>\n",
       "    <tr>\n",
       "      <th>2</th>\n",
       "      <td>20.625321</td>\n",
       "      <td>21.838576</td>\n",
       "      <td>42.463897</td>\n",
       "    </tr>\n",
       "    <tr>\n",
       "      <th>3</th>\n",
       "      <td>12.132542</td>\n",
       "      <td>24.265084</td>\n",
       "      <td>36.397626</td>\n",
       "    </tr>\n",
       "    <tr>\n",
       "      <th>4</th>\n",
       "      <td>18.198813</td>\n",
       "      <td>18.198813</td>\n",
       "      <td>36.397626</td>\n",
       "    </tr>\n",
       "    <tr>\n",
       "      <th>5</th>\n",
       "      <td>16.985559</td>\n",
       "      <td>15.772305</td>\n",
       "      <td>32.757863</td>\n",
       "    </tr>\n",
       "    <tr>\n",
       "      <th>6</th>\n",
       "      <td>27.904847</td>\n",
       "      <td>15.772305</td>\n",
       "      <td>43.677151</td>\n",
       "    </tr>\n",
       "    <tr>\n",
       "      <th>7</th>\n",
       "      <td>12.132542</td>\n",
       "      <td>18.198813</td>\n",
       "      <td>30.331355</td>\n",
       "    </tr>\n",
       "    <tr>\n",
       "      <th>8</th>\n",
       "      <td>23.051830</td>\n",
       "      <td>15.772305</td>\n",
       "      <td>38.824134</td>\n",
       "    </tr>\n",
       "    <tr>\n",
       "      <th>9</th>\n",
       "      <td>18.198813</td>\n",
       "      <td>14.559050</td>\n",
       "      <td>32.757863</td>\n",
       "    </tr>\n",
       "    <tr>\n",
       "      <th>10</th>\n",
       "      <td>14.559050</td>\n",
       "      <td>23.051830</td>\n",
       "      <td>37.610880</td>\n",
       "    </tr>\n",
       "    <tr>\n",
       "      <th>11</th>\n",
       "      <td>15.772305</td>\n",
       "      <td>15.772305</td>\n",
       "      <td>31.544609</td>\n",
       "    </tr>\n",
       "    <tr>\n",
       "      <th>12</th>\n",
       "      <td>16.985559</td>\n",
       "      <td>21.838576</td>\n",
       "      <td>38.824134</td>\n",
       "    </tr>\n",
       "    <tr>\n",
       "      <th>13</th>\n",
       "      <td>10.919288</td>\n",
       "      <td>15.772305</td>\n",
       "      <td>26.691592</td>\n",
       "    </tr>\n",
       "    <tr>\n",
       "      <th>14</th>\n",
       "      <td>13.345796</td>\n",
       "      <td>19.412067</td>\n",
       "      <td>32.757863</td>\n",
       "    </tr>\n",
       "    <tr>\n",
       "      <th>15</th>\n",
       "      <td>10.919288</td>\n",
       "      <td>13.345796</td>\n",
       "      <td>24.265084</td>\n",
       "    </tr>\n",
       "    <tr>\n",
       "      <th>16</th>\n",
       "      <td>13.345796</td>\n",
       "      <td>15.772305</td>\n",
       "      <td>29.118101</td>\n",
       "    </tr>\n",
       "    <tr>\n",
       "      <th>17</th>\n",
       "      <td>12.132542</td>\n",
       "      <td>8.492779</td>\n",
       "      <td>20.625321</td>\n",
       "    </tr>\n",
       "    <tr>\n",
       "      <th>18</th>\n",
       "      <td>0.000000</td>\n",
       "      <td>1.213254</td>\n",
       "      <td>1.213254</td>\n",
       "    </tr>\n",
       "  </tbody>\n",
       "</table>\n",
       "</div>"
      ],
      "text/plain": [
       "    forecasted departure  forecasted arrival  forecasted total\n",
       "0               0.000000            1.213254          1.213254\n",
       "1              33.971118           10.919288         44.890405\n",
       "2              20.625321           21.838576         42.463897\n",
       "3              12.132542           24.265084         36.397626\n",
       "4              18.198813           18.198813         36.397626\n",
       "5              16.985559           15.772305         32.757863\n",
       "6              27.904847           15.772305         43.677151\n",
       "7              12.132542           18.198813         30.331355\n",
       "8              23.051830           15.772305         38.824134\n",
       "9              18.198813           14.559050         32.757863\n",
       "10             14.559050           23.051830         37.610880\n",
       "11             15.772305           15.772305         31.544609\n",
       "12             16.985559           21.838576         38.824134\n",
       "13             10.919288           15.772305         26.691592\n",
       "14             13.345796           19.412067         32.757863\n",
       "15             10.919288           13.345796         24.265084\n",
       "16             13.345796           15.772305         29.118101\n",
       "17             12.132542            8.492779         20.625321\n",
       "18              0.000000            1.213254          1.213254"
      ]
     },
     "execution_count": 105,
     "metadata": {},
     "output_type": "execute_result"
    }
   ],
   "source": [
    "awpm_2012"
   ]
  },
  {
   "cell_type": "code",
   "execution_count": 106,
   "metadata": {},
   "outputs": [
    {
     "data": {
      "text/html": [
       "<div>\n",
       "<style>\n",
       "    .dataframe thead tr:only-child th {\n",
       "        text-align: right;\n",
       "    }\n",
       "\n",
       "    .dataframe thead th {\n",
       "        text-align: left;\n",
       "    }\n",
       "\n",
       "    .dataframe tbody tr th {\n",
       "        vertical-align: top;\n",
       "    }\n",
       "</style>\n",
       "<table border=\"1\" class=\"dataframe\">\n",
       "  <thead>\n",
       "    <tr style=\"text-align: right;\">\n",
       "      <th></th>\n",
       "      <th>forecasted departure</th>\n",
       "      <th>forecasted arrival</th>\n",
       "      <th>forecasted total</th>\n",
       "    </tr>\n",
       "  </thead>\n",
       "  <tbody>\n",
       "    <tr>\n",
       "      <th>0</th>\n",
       "      <td>0.000000</td>\n",
       "      <td>1.213254</td>\n",
       "      <td>1.213254</td>\n",
       "    </tr>\n",
       "    <tr>\n",
       "      <th>1</th>\n",
       "      <td>33.971118</td>\n",
       "      <td>10.919288</td>\n",
       "      <td>44.890405</td>\n",
       "    </tr>\n",
       "    <tr>\n",
       "      <th>2</th>\n",
       "      <td>20.625321</td>\n",
       "      <td>21.838576</td>\n",
       "      <td>42.463897</td>\n",
       "    </tr>\n",
       "    <tr>\n",
       "      <th>3</th>\n",
       "      <td>12.132542</td>\n",
       "      <td>24.265084</td>\n",
       "      <td>36.397626</td>\n",
       "    </tr>\n",
       "    <tr>\n",
       "      <th>4</th>\n",
       "      <td>18.198813</td>\n",
       "      <td>18.198813</td>\n",
       "      <td>36.397626</td>\n",
       "    </tr>\n",
       "    <tr>\n",
       "      <th>5</th>\n",
       "      <td>16.985559</td>\n",
       "      <td>15.772305</td>\n",
       "      <td>32.757863</td>\n",
       "    </tr>\n",
       "    <tr>\n",
       "      <th>6</th>\n",
       "      <td>27.904847</td>\n",
       "      <td>15.772305</td>\n",
       "      <td>43.677151</td>\n",
       "    </tr>\n",
       "    <tr>\n",
       "      <th>7</th>\n",
       "      <td>12.132542</td>\n",
       "      <td>18.198813</td>\n",
       "      <td>30.331355</td>\n",
       "    </tr>\n",
       "    <tr>\n",
       "      <th>8</th>\n",
       "      <td>23.051830</td>\n",
       "      <td>15.772305</td>\n",
       "      <td>38.824134</td>\n",
       "    </tr>\n",
       "    <tr>\n",
       "      <th>9</th>\n",
       "      <td>18.198813</td>\n",
       "      <td>14.559050</td>\n",
       "      <td>32.757863</td>\n",
       "    </tr>\n",
       "    <tr>\n",
       "      <th>10</th>\n",
       "      <td>14.559050</td>\n",
       "      <td>23.051830</td>\n",
       "      <td>37.610880</td>\n",
       "    </tr>\n",
       "    <tr>\n",
       "      <th>11</th>\n",
       "      <td>15.772305</td>\n",
       "      <td>15.772305</td>\n",
       "      <td>31.544609</td>\n",
       "    </tr>\n",
       "    <tr>\n",
       "      <th>12</th>\n",
       "      <td>16.985559</td>\n",
       "      <td>21.838576</td>\n",
       "      <td>38.824134</td>\n",
       "    </tr>\n",
       "    <tr>\n",
       "      <th>13</th>\n",
       "      <td>10.919288</td>\n",
       "      <td>15.772305</td>\n",
       "      <td>26.691592</td>\n",
       "    </tr>\n",
       "    <tr>\n",
       "      <th>14</th>\n",
       "      <td>13.345796</td>\n",
       "      <td>19.412067</td>\n",
       "      <td>32.757863</td>\n",
       "    </tr>\n",
       "    <tr>\n",
       "      <th>15</th>\n",
       "      <td>10.919288</td>\n",
       "      <td>13.345796</td>\n",
       "      <td>24.265084</td>\n",
       "    </tr>\n",
       "    <tr>\n",
       "      <th>16</th>\n",
       "      <td>13.345796</td>\n",
       "      <td>15.772305</td>\n",
       "      <td>29.118101</td>\n",
       "    </tr>\n",
       "    <tr>\n",
       "      <th>17</th>\n",
       "      <td>12.132542</td>\n",
       "      <td>8.492779</td>\n",
       "      <td>20.625321</td>\n",
       "    </tr>\n",
       "    <tr>\n",
       "      <th>18</th>\n",
       "      <td>0.000000</td>\n",
       "      <td>1.213254</td>\n",
       "      <td>1.213254</td>\n",
       "    </tr>\n",
       "  </tbody>\n",
       "</table>\n",
       "</div>"
      ],
      "text/plain": [
       "    forecasted departure  forecasted arrival  forecasted total\n",
       "0               0.000000            1.213254          1.213254\n",
       "1              33.971118           10.919288         44.890405\n",
       "2              20.625321           21.838576         42.463897\n",
       "3              12.132542           24.265084         36.397626\n",
       "4              18.198813           18.198813         36.397626\n",
       "5              16.985559           15.772305         32.757863\n",
       "6              27.904847           15.772305         43.677151\n",
       "7              12.132542           18.198813         30.331355\n",
       "8              23.051830           15.772305         38.824134\n",
       "9              18.198813           14.559050         32.757863\n",
       "10             14.559050           23.051830         37.610880\n",
       "11             15.772305           15.772305         31.544609\n",
       "12             16.985559           21.838576         38.824134\n",
       "13             10.919288           15.772305         26.691592\n",
       "14             13.345796           19.412067         32.757863\n",
       "15             10.919288           13.345796         24.265084\n",
       "16             13.345796           15.772305         29.118101\n",
       "17             12.132542            8.492779         20.625321\n",
       "18              0.000000            1.213254          1.213254"
      ]
     },
     "execution_count": 106,
     "metadata": {},
     "output_type": "execute_result"
    }
   ],
   "source": [
    "awpm_2013"
   ]
  },
  {
   "cell_type": "code",
   "execution_count": 107,
   "metadata": {},
   "outputs": [
    {
     "data": {
      "text/html": [
       "<div>\n",
       "<style>\n",
       "    .dataframe thead tr:only-child th {\n",
       "        text-align: right;\n",
       "    }\n",
       "\n",
       "    .dataframe thead th {\n",
       "        text-align: left;\n",
       "    }\n",
       "\n",
       "    .dataframe tbody tr th {\n",
       "        vertical-align: top;\n",
       "    }\n",
       "</style>\n",
       "<table border=\"1\" class=\"dataframe\">\n",
       "  <thead>\n",
       "    <tr style=\"text-align: right;\">\n",
       "      <th></th>\n",
       "      <th>forecasted departure</th>\n",
       "      <th>forecasted arrival</th>\n",
       "      <th>forecasted total</th>\n",
       "    </tr>\n",
       "  </thead>\n",
       "  <tbody>\n",
       "    <tr>\n",
       "      <th>0</th>\n",
       "      <td>0.000000</td>\n",
       "      <td>1.213254</td>\n",
       "      <td>1.213254</td>\n",
       "    </tr>\n",
       "    <tr>\n",
       "      <th>1</th>\n",
       "      <td>33.971118</td>\n",
       "      <td>10.919288</td>\n",
       "      <td>44.890405</td>\n",
       "    </tr>\n",
       "    <tr>\n",
       "      <th>2</th>\n",
       "      <td>20.625321</td>\n",
       "      <td>21.838576</td>\n",
       "      <td>42.463897</td>\n",
       "    </tr>\n",
       "    <tr>\n",
       "      <th>3</th>\n",
       "      <td>12.132542</td>\n",
       "      <td>24.265084</td>\n",
       "      <td>36.397626</td>\n",
       "    </tr>\n",
       "    <tr>\n",
       "      <th>4</th>\n",
       "      <td>18.198813</td>\n",
       "      <td>18.198813</td>\n",
       "      <td>36.397626</td>\n",
       "    </tr>\n",
       "    <tr>\n",
       "      <th>5</th>\n",
       "      <td>16.985559</td>\n",
       "      <td>15.772305</td>\n",
       "      <td>32.757863</td>\n",
       "    </tr>\n",
       "    <tr>\n",
       "      <th>6</th>\n",
       "      <td>27.904847</td>\n",
       "      <td>15.772305</td>\n",
       "      <td>43.677151</td>\n",
       "    </tr>\n",
       "    <tr>\n",
       "      <th>7</th>\n",
       "      <td>12.132542</td>\n",
       "      <td>18.198813</td>\n",
       "      <td>30.331355</td>\n",
       "    </tr>\n",
       "    <tr>\n",
       "      <th>8</th>\n",
       "      <td>23.051830</td>\n",
       "      <td>15.772305</td>\n",
       "      <td>38.824134</td>\n",
       "    </tr>\n",
       "    <tr>\n",
       "      <th>9</th>\n",
       "      <td>18.198813</td>\n",
       "      <td>14.559050</td>\n",
       "      <td>32.757863</td>\n",
       "    </tr>\n",
       "    <tr>\n",
       "      <th>10</th>\n",
       "      <td>14.559050</td>\n",
       "      <td>23.051830</td>\n",
       "      <td>37.610880</td>\n",
       "    </tr>\n",
       "    <tr>\n",
       "      <th>11</th>\n",
       "      <td>15.772305</td>\n",
       "      <td>15.772305</td>\n",
       "      <td>31.544609</td>\n",
       "    </tr>\n",
       "    <tr>\n",
       "      <th>12</th>\n",
       "      <td>16.985559</td>\n",
       "      <td>21.838576</td>\n",
       "      <td>38.824134</td>\n",
       "    </tr>\n",
       "    <tr>\n",
       "      <th>13</th>\n",
       "      <td>10.919288</td>\n",
       "      <td>15.772305</td>\n",
       "      <td>26.691592</td>\n",
       "    </tr>\n",
       "    <tr>\n",
       "      <th>14</th>\n",
       "      <td>13.345796</td>\n",
       "      <td>19.412067</td>\n",
       "      <td>32.757863</td>\n",
       "    </tr>\n",
       "    <tr>\n",
       "      <th>15</th>\n",
       "      <td>10.919288</td>\n",
       "      <td>13.345796</td>\n",
       "      <td>24.265084</td>\n",
       "    </tr>\n",
       "    <tr>\n",
       "      <th>16</th>\n",
       "      <td>13.345796</td>\n",
       "      <td>15.772305</td>\n",
       "      <td>29.118101</td>\n",
       "    </tr>\n",
       "    <tr>\n",
       "      <th>17</th>\n",
       "      <td>12.132542</td>\n",
       "      <td>8.492779</td>\n",
       "      <td>20.625321</td>\n",
       "    </tr>\n",
       "    <tr>\n",
       "      <th>18</th>\n",
       "      <td>0.000000</td>\n",
       "      <td>1.213254</td>\n",
       "      <td>1.213254</td>\n",
       "    </tr>\n",
       "  </tbody>\n",
       "</table>\n",
       "</div>"
      ],
      "text/plain": [
       "    forecasted departure  forecasted arrival  forecasted total\n",
       "0               0.000000            1.213254          1.213254\n",
       "1              33.971118           10.919288         44.890405\n",
       "2              20.625321           21.838576         42.463897\n",
       "3              12.132542           24.265084         36.397626\n",
       "4              18.198813           18.198813         36.397626\n",
       "5              16.985559           15.772305         32.757863\n",
       "6              27.904847           15.772305         43.677151\n",
       "7              12.132542           18.198813         30.331355\n",
       "8              23.051830           15.772305         38.824134\n",
       "9              18.198813           14.559050         32.757863\n",
       "10             14.559050           23.051830         37.610880\n",
       "11             15.772305           15.772305         31.544609\n",
       "12             16.985559           21.838576         38.824134\n",
       "13             10.919288           15.772305         26.691592\n",
       "14             13.345796           19.412067         32.757863\n",
       "15             10.919288           13.345796         24.265084\n",
       "16             13.345796           15.772305         29.118101\n",
       "17             12.132542            8.492779         20.625321\n",
       "18              0.000000            1.213254          1.213254"
      ]
     },
     "execution_count": 107,
     "metadata": {},
     "output_type": "execute_result"
    }
   ],
   "source": [
    "awpm_2014"
   ]
  },
  {
   "cell_type": "code",
   "execution_count": 108,
   "metadata": {},
   "outputs": [
    {
     "data": {
      "text/html": [
       "<div>\n",
       "<style>\n",
       "    .dataframe thead tr:only-child th {\n",
       "        text-align: right;\n",
       "    }\n",
       "\n",
       "    .dataframe thead th {\n",
       "        text-align: left;\n",
       "    }\n",
       "\n",
       "    .dataframe tbody tr th {\n",
       "        vertical-align: top;\n",
       "    }\n",
       "</style>\n",
       "<table border=\"1\" class=\"dataframe\">\n",
       "  <thead>\n",
       "    <tr style=\"text-align: right;\">\n",
       "      <th></th>\n",
       "      <th>forecasted departure</th>\n",
       "      <th>forecasted arrival</th>\n",
       "      <th>forecasted total</th>\n",
       "    </tr>\n",
       "  </thead>\n",
       "  <tbody>\n",
       "    <tr>\n",
       "      <th>0</th>\n",
       "      <td>0.000000</td>\n",
       "      <td>1.213254</td>\n",
       "      <td>1.213254</td>\n",
       "    </tr>\n",
       "    <tr>\n",
       "      <th>1</th>\n",
       "      <td>33.971118</td>\n",
       "      <td>10.919288</td>\n",
       "      <td>44.890405</td>\n",
       "    </tr>\n",
       "    <tr>\n",
       "      <th>2</th>\n",
       "      <td>20.625321</td>\n",
       "      <td>21.838576</td>\n",
       "      <td>42.463897</td>\n",
       "    </tr>\n",
       "    <tr>\n",
       "      <th>3</th>\n",
       "      <td>12.132542</td>\n",
       "      <td>24.265084</td>\n",
       "      <td>36.397626</td>\n",
       "    </tr>\n",
       "    <tr>\n",
       "      <th>4</th>\n",
       "      <td>18.198813</td>\n",
       "      <td>18.198813</td>\n",
       "      <td>36.397626</td>\n",
       "    </tr>\n",
       "    <tr>\n",
       "      <th>5</th>\n",
       "      <td>16.985559</td>\n",
       "      <td>15.772305</td>\n",
       "      <td>32.757863</td>\n",
       "    </tr>\n",
       "    <tr>\n",
       "      <th>6</th>\n",
       "      <td>27.904847</td>\n",
       "      <td>15.772305</td>\n",
       "      <td>43.677151</td>\n",
       "    </tr>\n",
       "    <tr>\n",
       "      <th>7</th>\n",
       "      <td>12.132542</td>\n",
       "      <td>18.198813</td>\n",
       "      <td>30.331355</td>\n",
       "    </tr>\n",
       "    <tr>\n",
       "      <th>8</th>\n",
       "      <td>23.051830</td>\n",
       "      <td>15.772305</td>\n",
       "      <td>38.824134</td>\n",
       "    </tr>\n",
       "    <tr>\n",
       "      <th>9</th>\n",
       "      <td>18.198813</td>\n",
       "      <td>14.559050</td>\n",
       "      <td>32.757863</td>\n",
       "    </tr>\n",
       "    <tr>\n",
       "      <th>10</th>\n",
       "      <td>14.559050</td>\n",
       "      <td>23.051830</td>\n",
       "      <td>37.610880</td>\n",
       "    </tr>\n",
       "    <tr>\n",
       "      <th>11</th>\n",
       "      <td>15.772305</td>\n",
       "      <td>15.772305</td>\n",
       "      <td>31.544609</td>\n",
       "    </tr>\n",
       "    <tr>\n",
       "      <th>12</th>\n",
       "      <td>16.985559</td>\n",
       "      <td>21.838576</td>\n",
       "      <td>38.824134</td>\n",
       "    </tr>\n",
       "    <tr>\n",
       "      <th>13</th>\n",
       "      <td>10.919288</td>\n",
       "      <td>15.772305</td>\n",
       "      <td>26.691592</td>\n",
       "    </tr>\n",
       "    <tr>\n",
       "      <th>14</th>\n",
       "      <td>13.345796</td>\n",
       "      <td>19.412067</td>\n",
       "      <td>32.757863</td>\n",
       "    </tr>\n",
       "    <tr>\n",
       "      <th>15</th>\n",
       "      <td>10.919288</td>\n",
       "      <td>13.345796</td>\n",
       "      <td>24.265084</td>\n",
       "    </tr>\n",
       "    <tr>\n",
       "      <th>16</th>\n",
       "      <td>13.345796</td>\n",
       "      <td>15.772305</td>\n",
       "      <td>29.118101</td>\n",
       "    </tr>\n",
       "    <tr>\n",
       "      <th>17</th>\n",
       "      <td>12.132542</td>\n",
       "      <td>8.492779</td>\n",
       "      <td>20.625321</td>\n",
       "    </tr>\n",
       "    <tr>\n",
       "      <th>18</th>\n",
       "      <td>0.000000</td>\n",
       "      <td>1.213254</td>\n",
       "      <td>1.213254</td>\n",
       "    </tr>\n",
       "  </tbody>\n",
       "</table>\n",
       "</div>"
      ],
      "text/plain": [
       "    forecasted departure  forecasted arrival  forecasted total\n",
       "0               0.000000            1.213254          1.213254\n",
       "1              33.971118           10.919288         44.890405\n",
       "2              20.625321           21.838576         42.463897\n",
       "3              12.132542           24.265084         36.397626\n",
       "4              18.198813           18.198813         36.397626\n",
       "5              16.985559           15.772305         32.757863\n",
       "6              27.904847           15.772305         43.677151\n",
       "7              12.132542           18.198813         30.331355\n",
       "8              23.051830           15.772305         38.824134\n",
       "9              18.198813           14.559050         32.757863\n",
       "10             14.559050           23.051830         37.610880\n",
       "11             15.772305           15.772305         31.544609\n",
       "12             16.985559           21.838576         38.824134\n",
       "13             10.919288           15.772305         26.691592\n",
       "14             13.345796           19.412067         32.757863\n",
       "15             10.919288           13.345796         24.265084\n",
       "16             13.345796           15.772305         29.118101\n",
       "17             12.132542            8.492779         20.625321\n",
       "18              0.000000            1.213254          1.213254"
      ]
     },
     "execution_count": 108,
     "metadata": {},
     "output_type": "execute_result"
    }
   ],
   "source": [
    "awpm_2015"
   ]
  },
  {
   "cell_type": "code",
   "execution_count": 109,
   "metadata": {},
   "outputs": [
    {
     "data": {
      "text/html": [
       "<div>\n",
       "<style>\n",
       "    .dataframe thead tr:only-child th {\n",
       "        text-align: right;\n",
       "    }\n",
       "\n",
       "    .dataframe thead th {\n",
       "        text-align: left;\n",
       "    }\n",
       "\n",
       "    .dataframe tbody tr th {\n",
       "        vertical-align: top;\n",
       "    }\n",
       "</style>\n",
       "<table border=\"1\" class=\"dataframe\">\n",
       "  <thead>\n",
       "    <tr style=\"text-align: right;\">\n",
       "      <th></th>\n",
       "      <th>forecasted departure</th>\n",
       "      <th>forecasted arrival</th>\n",
       "      <th>forecasted total</th>\n",
       "    </tr>\n",
       "  </thead>\n",
       "  <tbody>\n",
       "    <tr>\n",
       "      <th>0</th>\n",
       "      <td>0.000000</td>\n",
       "      <td>1.213254</td>\n",
       "      <td>1.213254</td>\n",
       "    </tr>\n",
       "    <tr>\n",
       "      <th>1</th>\n",
       "      <td>33.971118</td>\n",
       "      <td>10.919288</td>\n",
       "      <td>44.890405</td>\n",
       "    </tr>\n",
       "    <tr>\n",
       "      <th>2</th>\n",
       "      <td>20.625321</td>\n",
       "      <td>21.838576</td>\n",
       "      <td>42.463897</td>\n",
       "    </tr>\n",
       "    <tr>\n",
       "      <th>3</th>\n",
       "      <td>12.132542</td>\n",
       "      <td>24.265084</td>\n",
       "      <td>36.397626</td>\n",
       "    </tr>\n",
       "    <tr>\n",
       "      <th>4</th>\n",
       "      <td>18.198813</td>\n",
       "      <td>18.198813</td>\n",
       "      <td>36.397626</td>\n",
       "    </tr>\n",
       "    <tr>\n",
       "      <th>5</th>\n",
       "      <td>16.985559</td>\n",
       "      <td>15.772305</td>\n",
       "      <td>32.757863</td>\n",
       "    </tr>\n",
       "    <tr>\n",
       "      <th>6</th>\n",
       "      <td>27.904847</td>\n",
       "      <td>15.772305</td>\n",
       "      <td>43.677151</td>\n",
       "    </tr>\n",
       "    <tr>\n",
       "      <th>7</th>\n",
       "      <td>12.132542</td>\n",
       "      <td>18.198813</td>\n",
       "      <td>30.331355</td>\n",
       "    </tr>\n",
       "    <tr>\n",
       "      <th>8</th>\n",
       "      <td>23.051830</td>\n",
       "      <td>15.772305</td>\n",
       "      <td>38.824134</td>\n",
       "    </tr>\n",
       "    <tr>\n",
       "      <th>9</th>\n",
       "      <td>18.198813</td>\n",
       "      <td>14.559050</td>\n",
       "      <td>32.757863</td>\n",
       "    </tr>\n",
       "    <tr>\n",
       "      <th>10</th>\n",
       "      <td>14.559050</td>\n",
       "      <td>23.051830</td>\n",
       "      <td>37.610880</td>\n",
       "    </tr>\n",
       "    <tr>\n",
       "      <th>11</th>\n",
       "      <td>15.772305</td>\n",
       "      <td>15.772305</td>\n",
       "      <td>31.544609</td>\n",
       "    </tr>\n",
       "    <tr>\n",
       "      <th>12</th>\n",
       "      <td>16.985559</td>\n",
       "      <td>21.838576</td>\n",
       "      <td>38.824134</td>\n",
       "    </tr>\n",
       "    <tr>\n",
       "      <th>13</th>\n",
       "      <td>10.919288</td>\n",
       "      <td>15.772305</td>\n",
       "      <td>26.691592</td>\n",
       "    </tr>\n",
       "    <tr>\n",
       "      <th>14</th>\n",
       "      <td>13.345796</td>\n",
       "      <td>19.412067</td>\n",
       "      <td>32.757863</td>\n",
       "    </tr>\n",
       "    <tr>\n",
       "      <th>15</th>\n",
       "      <td>10.919288</td>\n",
       "      <td>13.345796</td>\n",
       "      <td>24.265084</td>\n",
       "    </tr>\n",
       "    <tr>\n",
       "      <th>16</th>\n",
       "      <td>13.345796</td>\n",
       "      <td>15.772305</td>\n",
       "      <td>29.118101</td>\n",
       "    </tr>\n",
       "    <tr>\n",
       "      <th>17</th>\n",
       "      <td>12.132542</td>\n",
       "      <td>8.492779</td>\n",
       "      <td>20.625321</td>\n",
       "    </tr>\n",
       "    <tr>\n",
       "      <th>18</th>\n",
       "      <td>0.000000</td>\n",
       "      <td>1.213254</td>\n",
       "      <td>1.213254</td>\n",
       "    </tr>\n",
       "  </tbody>\n",
       "</table>\n",
       "</div>"
      ],
      "text/plain": [
       "    forecasted departure  forecasted arrival  forecasted total\n",
       "0               0.000000            1.213254          1.213254\n",
       "1              33.971118           10.919288         44.890405\n",
       "2              20.625321           21.838576         42.463897\n",
       "3              12.132542           24.265084         36.397626\n",
       "4              18.198813           18.198813         36.397626\n",
       "5              16.985559           15.772305         32.757863\n",
       "6              27.904847           15.772305         43.677151\n",
       "7              12.132542           18.198813         30.331355\n",
       "8              23.051830           15.772305         38.824134\n",
       "9              18.198813           14.559050         32.757863\n",
       "10             14.559050           23.051830         37.610880\n",
       "11             15.772305           15.772305         31.544609\n",
       "12             16.985559           21.838576         38.824134\n",
       "13             10.919288           15.772305         26.691592\n",
       "14             13.345796           19.412067         32.757863\n",
       "15             10.919288           13.345796         24.265084\n",
       "16             13.345796           15.772305         29.118101\n",
       "17             12.132542            8.492779         20.625321\n",
       "18              0.000000            1.213254          1.213254"
      ]
     },
     "execution_count": 109,
     "metadata": {},
     "output_type": "execute_result"
    }
   ],
   "source": [
    "awpm_2016"
   ]
  },
  {
   "cell_type": "code",
   "execution_count": 110,
   "metadata": {},
   "outputs": [
    {
     "data": {
      "text/html": [
       "<div>\n",
       "<style>\n",
       "    .dataframe thead tr:only-child th {\n",
       "        text-align: right;\n",
       "    }\n",
       "\n",
       "    .dataframe thead th {\n",
       "        text-align: left;\n",
       "    }\n",
       "\n",
       "    .dataframe tbody tr th {\n",
       "        vertical-align: top;\n",
       "    }\n",
       "</style>\n",
       "<table border=\"1\" class=\"dataframe\">\n",
       "  <thead>\n",
       "    <tr style=\"text-align: right;\">\n",
       "      <th></th>\n",
       "      <th>forecasted departure</th>\n",
       "      <th>forecasted arrival</th>\n",
       "      <th>forecasted total</th>\n",
       "    </tr>\n",
       "  </thead>\n",
       "  <tbody>\n",
       "    <tr>\n",
       "      <th>0</th>\n",
       "      <td>0.000000</td>\n",
       "      <td>1.213254</td>\n",
       "      <td>1.213254</td>\n",
       "    </tr>\n",
       "    <tr>\n",
       "      <th>1</th>\n",
       "      <td>33.971118</td>\n",
       "      <td>10.919288</td>\n",
       "      <td>44.890405</td>\n",
       "    </tr>\n",
       "    <tr>\n",
       "      <th>2</th>\n",
       "      <td>20.625321</td>\n",
       "      <td>21.838576</td>\n",
       "      <td>42.463897</td>\n",
       "    </tr>\n",
       "    <tr>\n",
       "      <th>3</th>\n",
       "      <td>12.132542</td>\n",
       "      <td>24.265084</td>\n",
       "      <td>36.397626</td>\n",
       "    </tr>\n",
       "    <tr>\n",
       "      <th>4</th>\n",
       "      <td>18.198813</td>\n",
       "      <td>18.198813</td>\n",
       "      <td>36.397626</td>\n",
       "    </tr>\n",
       "    <tr>\n",
       "      <th>5</th>\n",
       "      <td>16.985559</td>\n",
       "      <td>15.772305</td>\n",
       "      <td>32.757863</td>\n",
       "    </tr>\n",
       "    <tr>\n",
       "      <th>6</th>\n",
       "      <td>27.904847</td>\n",
       "      <td>15.772305</td>\n",
       "      <td>43.677151</td>\n",
       "    </tr>\n",
       "    <tr>\n",
       "      <th>7</th>\n",
       "      <td>12.132542</td>\n",
       "      <td>18.198813</td>\n",
       "      <td>30.331355</td>\n",
       "    </tr>\n",
       "    <tr>\n",
       "      <th>8</th>\n",
       "      <td>23.051830</td>\n",
       "      <td>15.772305</td>\n",
       "      <td>38.824134</td>\n",
       "    </tr>\n",
       "    <tr>\n",
       "      <th>9</th>\n",
       "      <td>18.198813</td>\n",
       "      <td>14.559050</td>\n",
       "      <td>32.757863</td>\n",
       "    </tr>\n",
       "    <tr>\n",
       "      <th>10</th>\n",
       "      <td>14.559050</td>\n",
       "      <td>23.051830</td>\n",
       "      <td>37.610880</td>\n",
       "    </tr>\n",
       "    <tr>\n",
       "      <th>11</th>\n",
       "      <td>15.772305</td>\n",
       "      <td>15.772305</td>\n",
       "      <td>31.544609</td>\n",
       "    </tr>\n",
       "    <tr>\n",
       "      <th>12</th>\n",
       "      <td>16.985559</td>\n",
       "      <td>21.838576</td>\n",
       "      <td>38.824134</td>\n",
       "    </tr>\n",
       "    <tr>\n",
       "      <th>13</th>\n",
       "      <td>10.919288</td>\n",
       "      <td>15.772305</td>\n",
       "      <td>26.691592</td>\n",
       "    </tr>\n",
       "    <tr>\n",
       "      <th>14</th>\n",
       "      <td>13.345796</td>\n",
       "      <td>19.412067</td>\n",
       "      <td>32.757863</td>\n",
       "    </tr>\n",
       "    <tr>\n",
       "      <th>15</th>\n",
       "      <td>10.919288</td>\n",
       "      <td>13.345796</td>\n",
       "      <td>24.265084</td>\n",
       "    </tr>\n",
       "    <tr>\n",
       "      <th>16</th>\n",
       "      <td>13.345796</td>\n",
       "      <td>15.772305</td>\n",
       "      <td>29.118101</td>\n",
       "    </tr>\n",
       "    <tr>\n",
       "      <th>17</th>\n",
       "      <td>12.132542</td>\n",
       "      <td>8.492779</td>\n",
       "      <td>20.625321</td>\n",
       "    </tr>\n",
       "    <tr>\n",
       "      <th>18</th>\n",
       "      <td>0.000000</td>\n",
       "      <td>1.213254</td>\n",
       "      <td>1.213254</td>\n",
       "    </tr>\n",
       "  </tbody>\n",
       "</table>\n",
       "</div>"
      ],
      "text/plain": [
       "    forecasted departure  forecasted arrival  forecasted total\n",
       "0               0.000000            1.213254          1.213254\n",
       "1              33.971118           10.919288         44.890405\n",
       "2              20.625321           21.838576         42.463897\n",
       "3              12.132542           24.265084         36.397626\n",
       "4              18.198813           18.198813         36.397626\n",
       "5              16.985559           15.772305         32.757863\n",
       "6              27.904847           15.772305         43.677151\n",
       "7              12.132542           18.198813         30.331355\n",
       "8              23.051830           15.772305         38.824134\n",
       "9              18.198813           14.559050         32.757863\n",
       "10             14.559050           23.051830         37.610880\n",
       "11             15.772305           15.772305         31.544609\n",
       "12             16.985559           21.838576         38.824134\n",
       "13             10.919288           15.772305         26.691592\n",
       "14             13.345796           19.412067         32.757863\n",
       "15             10.919288           13.345796         24.265084\n",
       "16             13.345796           15.772305         29.118101\n",
       "17             12.132542            8.492779         20.625321\n",
       "18              0.000000            1.213254          1.213254"
      ]
     },
     "execution_count": 110,
     "metadata": {},
     "output_type": "execute_result"
    }
   ],
   "source": [
    "awpm_2017"
   ]
  },
  {
   "cell_type": "code",
   "execution_count": 111,
   "metadata": {},
   "outputs": [
    {
     "data": {
      "text/html": [
       "<div>\n",
       "<style>\n",
       "    .dataframe thead tr:only-child th {\n",
       "        text-align: right;\n",
       "    }\n",
       "\n",
       "    .dataframe thead th {\n",
       "        text-align: left;\n",
       "    }\n",
       "\n",
       "    .dataframe tbody tr th {\n",
       "        vertical-align: top;\n",
       "    }\n",
       "</style>\n",
       "<table border=\"1\" class=\"dataframe\">\n",
       "  <thead>\n",
       "    <tr style=\"text-align: right;\">\n",
       "      <th></th>\n",
       "      <th>forecasted departure</th>\n",
       "      <th>forecasted arrival</th>\n",
       "      <th>forecasted total</th>\n",
       "    </tr>\n",
       "  </thead>\n",
       "  <tbody>\n",
       "    <tr>\n",
       "      <th>0</th>\n",
       "      <td>0.000000</td>\n",
       "      <td>1.213254</td>\n",
       "      <td>1.213254</td>\n",
       "    </tr>\n",
       "    <tr>\n",
       "      <th>1</th>\n",
       "      <td>33.971118</td>\n",
       "      <td>10.919288</td>\n",
       "      <td>44.890405</td>\n",
       "    </tr>\n",
       "    <tr>\n",
       "      <th>2</th>\n",
       "      <td>20.625321</td>\n",
       "      <td>21.838576</td>\n",
       "      <td>42.463897</td>\n",
       "    </tr>\n",
       "    <tr>\n",
       "      <th>3</th>\n",
       "      <td>12.132542</td>\n",
       "      <td>24.265084</td>\n",
       "      <td>36.397626</td>\n",
       "    </tr>\n",
       "    <tr>\n",
       "      <th>4</th>\n",
       "      <td>18.198813</td>\n",
       "      <td>18.198813</td>\n",
       "      <td>36.397626</td>\n",
       "    </tr>\n",
       "    <tr>\n",
       "      <th>5</th>\n",
       "      <td>16.985559</td>\n",
       "      <td>15.772305</td>\n",
       "      <td>32.757863</td>\n",
       "    </tr>\n",
       "    <tr>\n",
       "      <th>6</th>\n",
       "      <td>27.904847</td>\n",
       "      <td>15.772305</td>\n",
       "      <td>43.677151</td>\n",
       "    </tr>\n",
       "    <tr>\n",
       "      <th>7</th>\n",
       "      <td>12.132542</td>\n",
       "      <td>18.198813</td>\n",
       "      <td>30.331355</td>\n",
       "    </tr>\n",
       "    <tr>\n",
       "      <th>8</th>\n",
       "      <td>23.051830</td>\n",
       "      <td>15.772305</td>\n",
       "      <td>38.824134</td>\n",
       "    </tr>\n",
       "    <tr>\n",
       "      <th>9</th>\n",
       "      <td>18.198813</td>\n",
       "      <td>14.559050</td>\n",
       "      <td>32.757863</td>\n",
       "    </tr>\n",
       "    <tr>\n",
       "      <th>10</th>\n",
       "      <td>14.559050</td>\n",
       "      <td>23.051830</td>\n",
       "      <td>37.610880</td>\n",
       "    </tr>\n",
       "    <tr>\n",
       "      <th>11</th>\n",
       "      <td>15.772305</td>\n",
       "      <td>15.772305</td>\n",
       "      <td>31.544609</td>\n",
       "    </tr>\n",
       "    <tr>\n",
       "      <th>12</th>\n",
       "      <td>16.985559</td>\n",
       "      <td>21.838576</td>\n",
       "      <td>38.824134</td>\n",
       "    </tr>\n",
       "    <tr>\n",
       "      <th>13</th>\n",
       "      <td>10.919288</td>\n",
       "      <td>15.772305</td>\n",
       "      <td>26.691592</td>\n",
       "    </tr>\n",
       "    <tr>\n",
       "      <th>14</th>\n",
       "      <td>13.345796</td>\n",
       "      <td>19.412067</td>\n",
       "      <td>32.757863</td>\n",
       "    </tr>\n",
       "    <tr>\n",
       "      <th>15</th>\n",
       "      <td>10.919288</td>\n",
       "      <td>13.345796</td>\n",
       "      <td>24.265084</td>\n",
       "    </tr>\n",
       "    <tr>\n",
       "      <th>16</th>\n",
       "      <td>13.345796</td>\n",
       "      <td>15.772305</td>\n",
       "      <td>29.118101</td>\n",
       "    </tr>\n",
       "    <tr>\n",
       "      <th>17</th>\n",
       "      <td>12.132542</td>\n",
       "      <td>8.492779</td>\n",
       "      <td>20.625321</td>\n",
       "    </tr>\n",
       "    <tr>\n",
       "      <th>18</th>\n",
       "      <td>0.000000</td>\n",
       "      <td>1.213254</td>\n",
       "      <td>1.213254</td>\n",
       "    </tr>\n",
       "  </tbody>\n",
       "</table>\n",
       "</div>"
      ],
      "text/plain": [
       "    forecasted departure  forecasted arrival  forecasted total\n",
       "0               0.000000            1.213254          1.213254\n",
       "1              33.971118           10.919288         44.890405\n",
       "2              20.625321           21.838576         42.463897\n",
       "3              12.132542           24.265084         36.397626\n",
       "4              18.198813           18.198813         36.397626\n",
       "5              16.985559           15.772305         32.757863\n",
       "6              27.904847           15.772305         43.677151\n",
       "7              12.132542           18.198813         30.331355\n",
       "8              23.051830           15.772305         38.824134\n",
       "9              18.198813           14.559050         32.757863\n",
       "10             14.559050           23.051830         37.610880\n",
       "11             15.772305           15.772305         31.544609\n",
       "12             16.985559           21.838576         38.824134\n",
       "13             10.919288           15.772305         26.691592\n",
       "14             13.345796           19.412067         32.757863\n",
       "15             10.919288           13.345796         24.265084\n",
       "16             13.345796           15.772305         29.118101\n",
       "17             12.132542            8.492779         20.625321\n",
       "18              0.000000            1.213254          1.213254"
      ]
     },
     "execution_count": 111,
     "metadata": {},
     "output_type": "execute_result"
    }
   ],
   "source": [
    "awpm_2018_f"
   ]
  },
  {
   "cell_type": "markdown",
   "metadata": {},
   "source": [
    "### d)"
   ]
  },
  {
   "cell_type": "code",
   "execution_count": 112,
   "metadata": {
    "collapsed": true
   },
   "outputs": [],
   "source": [
    "base_year_max_dep = max(july_13_daily_summ['departure count'])\n",
    "base_year_max_arr = max(july_13_daily_summ['arrival count'])\n",
    "base_year_max_total = max(july_13_daily_summ['opeartion count'])"
   ]
  },
  {
   "cell_type": "code",
   "execution_count": 113,
   "metadata": {
    "collapsed": true
   },
   "outputs": [],
   "source": [
    "dept_for = []\n",
    "arr_for = []\n",
    "\n",
    "for i in range(len(forcasting)):\n",
    "    multiplier = 1.028 ** i \n",
    "    dept_for = np.append(dept_for, multiplier * base_year_dept)\n",
    "    arr_for = np.append(arr_for, multiplier * base_year_arr)"
   ]
  },
  {
   "cell_type": "code",
   "execution_count": 114,
   "metadata": {
    "collapsed": true
   },
   "outputs": [],
   "source": [
    "forcasting_peak_hour = forcasting"
   ]
  },
  {
   "cell_type": "code",
   "execution_count": 115,
   "metadata": {
    "collapsed": true
   },
   "outputs": [],
   "source": [
    "dept_hour_for = []\n",
    "arr_hour_for = []\n",
    "total_hour_for = []\n",
    "\n",
    "for i in np.arange(0,8):\n",
    "    multiplier = 1.028 ** i \n",
    "    dept_hour_for = np.append(dept_hour_for, multiplier * base_year_max_dep)\n",
    "    arr_hour_for = np.append(arr_hour_for, multiplier * base_year_max_arr)\n",
    "    total_hour_for = np.append(total_hour_for, multiplier * base_year_max_total)"
   ]
  },
  {
   "cell_type": "code",
   "execution_count": 116,
   "metadata": {
    "collapsed": true
   },
   "outputs": [],
   "source": [
    "forcasting_peak_hour['peak departure forecast'] = dept_hour_for \n",
    "forcasting_peak_hour['peak arrival forecast'] = arr_hour_for \n",
    "forcasting_peak_hour['peak total operation forecast'] = total_hour_for"
   ]
  },
  {
   "cell_type": "code",
   "execution_count": 117,
   "metadata": {
    "collapsed": true
   },
   "outputs": [],
   "source": [
    "forcasting_peak_hour = forcasting_peak_hour.iloc[:, [0, 4, 5, 6]]"
   ]
  },
  {
   "cell_type": "code",
   "execution_count": 118,
   "metadata": {},
   "outputs": [
    {
     "data": {
      "text/html": [
       "<div>\n",
       "<style>\n",
       "    .dataframe thead tr:only-child th {\n",
       "        text-align: right;\n",
       "    }\n",
       "\n",
       "    .dataframe thead th {\n",
       "        text-align: left;\n",
       "    }\n",
       "\n",
       "    .dataframe tbody tr th {\n",
       "        vertical-align: top;\n",
       "    }\n",
       "</style>\n",
       "<table border=\"1\" class=\"dataframe\">\n",
       "  <thead>\n",
       "    <tr style=\"text-align: right;\">\n",
       "      <th></th>\n",
       "      <th>Year</th>\n",
       "      <th>peak departure forecast</th>\n",
       "      <th>peak arrival forecast</th>\n",
       "      <th>peak total operation forecast</th>\n",
       "    </tr>\n",
       "  </thead>\n",
       "  <tbody>\n",
       "    <tr>\n",
       "      <th>0</th>\n",
       "      <td>2011</td>\n",
       "      <td>28.000000</td>\n",
       "      <td>20.000000</td>\n",
       "      <td>37.000000</td>\n",
       "    </tr>\n",
       "    <tr>\n",
       "      <th>1</th>\n",
       "      <td>2012</td>\n",
       "      <td>28.784000</td>\n",
       "      <td>20.560000</td>\n",
       "      <td>38.036000</td>\n",
       "    </tr>\n",
       "    <tr>\n",
       "      <th>2</th>\n",
       "      <td>2013</td>\n",
       "      <td>29.589952</td>\n",
       "      <td>21.135680</td>\n",
       "      <td>39.101008</td>\n",
       "    </tr>\n",
       "    <tr>\n",
       "      <th>3</th>\n",
       "      <td>2014</td>\n",
       "      <td>30.418471</td>\n",
       "      <td>21.727479</td>\n",
       "      <td>40.195836</td>\n",
       "    </tr>\n",
       "    <tr>\n",
       "      <th>4</th>\n",
       "      <td>2015</td>\n",
       "      <td>31.270188</td>\n",
       "      <td>22.335848</td>\n",
       "      <td>41.321320</td>\n",
       "    </tr>\n",
       "    <tr>\n",
       "      <th>5</th>\n",
       "      <td>2016</td>\n",
       "      <td>32.145753</td>\n",
       "      <td>22.961252</td>\n",
       "      <td>42.478317</td>\n",
       "    </tr>\n",
       "    <tr>\n",
       "      <th>6</th>\n",
       "      <td>2017</td>\n",
       "      <td>33.045834</td>\n",
       "      <td>23.604167</td>\n",
       "      <td>43.667709</td>\n",
       "    </tr>\n",
       "    <tr>\n",
       "      <th>7</th>\n",
       "      <td>2018</td>\n",
       "      <td>33.971118</td>\n",
       "      <td>24.265084</td>\n",
       "      <td>44.890405</td>\n",
       "    </tr>\n",
       "  </tbody>\n",
       "</table>\n",
       "</div>"
      ],
      "text/plain": [
       "   Year  peak departure forecast  peak arrival forecast  \\\n",
       "0  2011                28.000000              20.000000   \n",
       "1  2012                28.784000              20.560000   \n",
       "2  2013                29.589952              21.135680   \n",
       "3  2014                30.418471              21.727479   \n",
       "4  2015                31.270188              22.335848   \n",
       "5  2016                32.145753              22.961252   \n",
       "6  2017                33.045834              23.604167   \n",
       "7  2018                33.971118              24.265084   \n",
       "\n",
       "   peak total operation forecast  \n",
       "0                      37.000000  \n",
       "1                      38.036000  \n",
       "2                      39.101008  \n",
       "3                      40.195836  \n",
       "4                      41.321320  \n",
       "5                      42.478317  \n",
       "6                      43.667709  \n",
       "7                      44.890405  "
      ]
     },
     "execution_count": 118,
     "metadata": {},
     "output_type": "execute_result"
    }
   ],
   "source": [
    "forcasting_peak_hour"
   ]
  },
  {
   "cell_type": "markdown",
   "metadata": {},
   "source": [
    "### e) "
   ]
  },
  {
   "cell_type": "code",
   "execution_count": 119,
   "metadata": {
    "collapsed": true
   },
   "outputs": [],
   "source": [
    "rolling_hour_forcasting = forcasting_peak_hour"
   ]
  },
  {
   "cell_type": "code",
   "execution_count": 120,
   "metadata": {
    "collapsed": true
   },
   "outputs": [],
   "source": [
    "base_year_max_dep_rh = 31\n",
    "base_year_max_arr_rh = 22\n",
    "base_year_max_total_rh = 40"
   ]
  },
  {
   "cell_type": "code",
   "execution_count": 121,
   "metadata": {
    "collapsed": true
   },
   "outputs": [],
   "source": [
    "dept_hour_for_rh = []\n",
    "arr_hour_for_rh = []\n",
    "total_hour_for_rh = []\n",
    "\n",
    "for i in np.arange(0,8):\n",
    "    multiplier = 1.028 ** i \n",
    "    dept_hour_for_rh = np.append(dept_hour_for_rh, multiplier * base_year_max_dep_rh)\n",
    "    arr_hour_for_rh = np.append(arr_hour_for_rh, multiplier * base_year_max_arr_rh)\n",
    "    total_hour_for_rh = np.append(total_hour_for_rh, multiplier * base_year_max_total_rh)"
   ]
  },
  {
   "cell_type": "code",
   "execution_count": 122,
   "metadata": {},
   "outputs": [
    {
     "name": "stderr",
     "output_type": "stream",
     "text": [
      "/Users/hanzhong/anaconda3/lib/python3.6/site-packages/ipykernel_launcher.py:1: SettingWithCopyWarning: \n",
      "A value is trying to be set on a copy of a slice from a DataFrame.\n",
      "Try using .loc[row_indexer,col_indexer] = value instead\n",
      "\n",
      "See the caveats in the documentation: http://pandas.pydata.org/pandas-docs/stable/indexing.html#indexing-view-versus-copy\n",
      "  \"\"\"Entry point for launching an IPython kernel.\n"
     ]
    }
   ],
   "source": [
    "rolling_hour_forcasting['peak departure (rolling hour)'] = dept_hour_for_rh"
   ]
  },
  {
   "cell_type": "code",
   "execution_count": 123,
   "metadata": {},
   "outputs": [
    {
     "name": "stderr",
     "output_type": "stream",
     "text": [
      "/Users/hanzhong/anaconda3/lib/python3.6/site-packages/ipykernel_launcher.py:1: SettingWithCopyWarning: \n",
      "A value is trying to be set on a copy of a slice from a DataFrame.\n",
      "Try using .loc[row_indexer,col_indexer] = value instead\n",
      "\n",
      "See the caveats in the documentation: http://pandas.pydata.org/pandas-docs/stable/indexing.html#indexing-view-versus-copy\n",
      "  \"\"\"Entry point for launching an IPython kernel.\n"
     ]
    }
   ],
   "source": [
    "rolling_hour_forcasting['peak arrival (rolling hour)'] = arr_hour_for_rh"
   ]
  },
  {
   "cell_type": "code",
   "execution_count": 124,
   "metadata": {
    "collapsed": true
   },
   "outputs": [],
   "source": [
    "rolling_hour_forcasting['peak total (rolling hour)'] = total_hour_for_rh"
   ]
  },
  {
   "cell_type": "code",
   "execution_count": 125,
   "metadata": {
    "collapsed": true
   },
   "outputs": [],
   "source": [
    "rolling_hour_forcasting = rolling_hour_forcasting.iloc[:, [0, 4, 5, 6]] "
   ]
  },
  {
   "cell_type": "code",
   "execution_count": 126,
   "metadata": {},
   "outputs": [
    {
     "data": {
      "text/html": [
       "<div>\n",
       "<style>\n",
       "    .dataframe thead tr:only-child th {\n",
       "        text-align: right;\n",
       "    }\n",
       "\n",
       "    .dataframe thead th {\n",
       "        text-align: left;\n",
       "    }\n",
       "\n",
       "    .dataframe tbody tr th {\n",
       "        vertical-align: top;\n",
       "    }\n",
       "</style>\n",
       "<table border=\"1\" class=\"dataframe\">\n",
       "  <thead>\n",
       "    <tr style=\"text-align: right;\">\n",
       "      <th></th>\n",
       "      <th>Year</th>\n",
       "      <th>peak departure (rolling hour)</th>\n",
       "      <th>peak arrival (rolling hour)</th>\n",
       "      <th>peak total (rolling hour)</th>\n",
       "    </tr>\n",
       "  </thead>\n",
       "  <tbody>\n",
       "    <tr>\n",
       "      <th>0</th>\n",
       "      <td>2011</td>\n",
       "      <td>31.000000</td>\n",
       "      <td>22.000000</td>\n",
       "      <td>40.000000</td>\n",
       "    </tr>\n",
       "    <tr>\n",
       "      <th>1</th>\n",
       "      <td>2012</td>\n",
       "      <td>31.868000</td>\n",
       "      <td>22.616000</td>\n",
       "      <td>41.120000</td>\n",
       "    </tr>\n",
       "    <tr>\n",
       "      <th>2</th>\n",
       "      <td>2013</td>\n",
       "      <td>32.760304</td>\n",
       "      <td>23.249248</td>\n",
       "      <td>42.271360</td>\n",
       "    </tr>\n",
       "    <tr>\n",
       "      <th>3</th>\n",
       "      <td>2014</td>\n",
       "      <td>33.677593</td>\n",
       "      <td>23.900227</td>\n",
       "      <td>43.454958</td>\n",
       "    </tr>\n",
       "    <tr>\n",
       "      <th>4</th>\n",
       "      <td>2015</td>\n",
       "      <td>34.620565</td>\n",
       "      <td>24.569433</td>\n",
       "      <td>44.671697</td>\n",
       "    </tr>\n",
       "    <tr>\n",
       "      <th>5</th>\n",
       "      <td>2016</td>\n",
       "      <td>35.589941</td>\n",
       "      <td>25.257377</td>\n",
       "      <td>45.922504</td>\n",
       "    </tr>\n",
       "    <tr>\n",
       "      <th>6</th>\n",
       "      <td>2017</td>\n",
       "      <td>36.586459</td>\n",
       "      <td>25.964584</td>\n",
       "      <td>47.208335</td>\n",
       "    </tr>\n",
       "    <tr>\n",
       "      <th>7</th>\n",
       "      <td>2018</td>\n",
       "      <td>37.610880</td>\n",
       "      <td>26.691592</td>\n",
       "      <td>48.530168</td>\n",
       "    </tr>\n",
       "  </tbody>\n",
       "</table>\n",
       "</div>"
      ],
      "text/plain": [
       "   Year  peak departure (rolling hour)  peak arrival (rolling hour)  \\\n",
       "0  2011                      31.000000                    22.000000   \n",
       "1  2012                      31.868000                    22.616000   \n",
       "2  2013                      32.760304                    23.249248   \n",
       "3  2014                      33.677593                    23.900227   \n",
       "4  2015                      34.620565                    24.569433   \n",
       "5  2016                      35.589941                    25.257377   \n",
       "6  2017                      36.586459                    25.964584   \n",
       "7  2018                      37.610880                    26.691592   \n",
       "\n",
       "   peak total (rolling hour)  \n",
       "0                  40.000000  \n",
       "1                  41.120000  \n",
       "2                  42.271360  \n",
       "3                  43.454958  \n",
       "4                  44.671697  \n",
       "5                  45.922504  \n",
       "6                  47.208335  \n",
       "7                  48.530168  "
      ]
     },
     "execution_count": 126,
     "metadata": {},
     "output_type": "execute_result"
    }
   ],
   "source": [
    "rolling_hour_forcasting"
   ]
  },
  {
   "cell_type": "markdown",
   "metadata": {},
   "source": [
    "---\n",
    "## Part VI Evaluate the actual 2018 SAN Schedule"
   ]
  },
  {
   "cell_type": "markdown",
   "metadata": {},
   "source": [
    "### 17. 2018 SAN Schedule"
   ]
  },
  {
   "cell_type": "code",
   "execution_count": 127,
   "metadata": {
    "collapsed": true
   },
   "outputs": [],
   "source": [
    "san_new['dt'] = pd.to_datetime(san_new['Dep_Date'] + \" \" + san_new['Dep_Time'])\n",
    "san_new['at'] = pd.to_datetime(san_new['Arr_Date'] + \" \" + san_new['Arr_Time'])"
   ]
  },
  {
   "cell_type": "code",
   "execution_count": 128,
   "metadata": {},
   "outputs": [
    {
     "data": {
      "text/plain": [
       "100127"
      ]
     },
     "execution_count": 128,
     "metadata": {},
     "output_type": "execute_result"
    }
   ],
   "source": [
    "len(san_new[san_new['Dep Airport Code'] == 'SAN'])"
   ]
  },
  {
   "cell_type": "code",
   "execution_count": 129,
   "metadata": {},
   "outputs": [
    {
     "data": {
      "text/plain": [
       "100102"
      ]
     },
     "execution_count": 129,
     "metadata": {},
     "output_type": "execute_result"
    }
   ],
   "source": [
    "len(san_new[san_new['Arr Airport Code'] == 'SAN'])"
   ]
  },
  {
   "cell_type": "markdown",
   "metadata": {},
   "source": [
    "There are **100127** departures, **100102** arrivals and **200229** total operations in 2018"
   ]
  },
  {
   "cell_type": "markdown",
   "metadata": {},
   "source": [
    "### 18. Design Aircraft (2018) "
   ]
  },
  {
   "cell_type": "code",
   "execution_count": 130,
   "metadata": {},
   "outputs": [
    {
     "data": {
      "text/html": [
       "<div>\n",
       "<style>\n",
       "    .dataframe thead tr:only-child th {\n",
       "        text-align: right;\n",
       "    }\n",
       "\n",
       "    .dataframe thead th {\n",
       "        text-align: left;\n",
       "    }\n",
       "\n",
       "    .dataframe tbody tr th {\n",
       "        vertical-align: top;\n",
       "    }\n",
       "</style>\n",
       "<table border=\"1\" class=\"dataframe\">\n",
       "  <thead>\n",
       "    <tr style=\"text-align: right;\">\n",
       "      <th></th>\n",
       "      <th>Aircraft Type</th>\n",
       "      <th>Count</th>\n",
       "    </tr>\n",
       "  </thead>\n",
       "  <tbody>\n",
       "    <tr>\n",
       "      <th>0</th>\n",
       "      <td>Boeing 737-700 (winglets) Passenger</td>\n",
       "      <td>58576</td>\n",
       "    </tr>\n",
       "    <tr>\n",
       "      <th>1</th>\n",
       "      <td>Boeing 737-800 (winglets) Passenger</td>\n",
       "      <td>23467</td>\n",
       "    </tr>\n",
       "    <tr>\n",
       "      <th>2</th>\n",
       "      <td>Embraer 175</td>\n",
       "      <td>22294</td>\n",
       "    </tr>\n",
       "    <tr>\n",
       "      <th>3</th>\n",
       "      <td>Boeing 737-800 Passenger</td>\n",
       "      <td>15998</td>\n",
       "    </tr>\n",
       "    <tr>\n",
       "      <th>4</th>\n",
       "      <td>Airbus A321</td>\n",
       "      <td>12865</td>\n",
       "    </tr>\n",
       "    <tr>\n",
       "      <th>5</th>\n",
       "      <td>Airbus A320</td>\n",
       "      <td>12136</td>\n",
       "    </tr>\n",
       "    <tr>\n",
       "      <th>6</th>\n",
       "      <td>Boeing 737-900 Passenger</td>\n",
       "      <td>11470</td>\n",
       "    </tr>\n",
       "    <tr>\n",
       "      <th>7</th>\n",
       "      <td>Boeing 737-900 (winglets) Passenger</td>\n",
       "      <td>6768</td>\n",
       "    </tr>\n",
       "    <tr>\n",
       "      <th>8</th>\n",
       "      <td>Airbus A321 (Sharklets)</td>\n",
       "      <td>5768</td>\n",
       "    </tr>\n",
       "    <tr>\n",
       "      <th>9</th>\n",
       "      <td>Airbus A319</td>\n",
       "      <td>4904</td>\n",
       "    </tr>\n",
       "    <tr>\n",
       "      <th>10</th>\n",
       "      <td>Canadair Regional Jet 700</td>\n",
       "      <td>3224</td>\n",
       "    </tr>\n",
       "    <tr>\n",
       "      <th>11</th>\n",
       "      <td>Airbus A318/319/320/321</td>\n",
       "      <td>3066</td>\n",
       "    </tr>\n",
       "    <tr>\n",
       "      <th>12</th>\n",
       "      <td>Airbus A320 (Sharklets)</td>\n",
       "      <td>2381</td>\n",
       "    </tr>\n",
       "    <tr>\n",
       "      <th>13</th>\n",
       "      <td>Embraer 175 (Enhanced Winglets)</td>\n",
       "      <td>2305</td>\n",
       "    </tr>\n",
       "    <tr>\n",
       "      <th>14</th>\n",
       "      <td>Canadair Regional Jet 900</td>\n",
       "      <td>2053</td>\n",
       "    </tr>\n",
       "    <tr>\n",
       "      <th>15</th>\n",
       "      <td>Boeing 717-200</td>\n",
       "      <td>1577</td>\n",
       "    </tr>\n",
       "    <tr>\n",
       "      <th>16</th>\n",
       "      <td>Boeing 757-200 Passenger</td>\n",
       "      <td>1515</td>\n",
       "    </tr>\n",
       "    <tr>\n",
       "      <th>17</th>\n",
       "      <td>Canadair Regional Jet</td>\n",
       "      <td>1372</td>\n",
       "    </tr>\n",
       "    <tr>\n",
       "      <th>18</th>\n",
       "      <td>Boeing 737MAX 8 Passenger</td>\n",
       "      <td>1182</td>\n",
       "    </tr>\n",
       "    <tr>\n",
       "      <th>19</th>\n",
       "      <td>Boeing 757 (Passenger)</td>\n",
       "      <td>817</td>\n",
       "    </tr>\n",
       "    <tr>\n",
       "      <th>20</th>\n",
       "      <td>Boeing 737-700 Passenger</td>\n",
       "      <td>787</td>\n",
       "    </tr>\n",
       "    <tr>\n",
       "      <th>21</th>\n",
       "      <td>Boeing 787-8</td>\n",
       "      <td>730</td>\n",
       "    </tr>\n",
       "    <tr>\n",
       "      <th>22</th>\n",
       "      <td>Airbus A330-200</td>\n",
       "      <td>728</td>\n",
       "    </tr>\n",
       "    <tr>\n",
       "      <th>23</th>\n",
       "      <td>DHvilld-Bombardier DHC8 Dsh 8-400/8Q</td>\n",
       "      <td>710</td>\n",
       "    </tr>\n",
       "    <tr>\n",
       "      <th>24</th>\n",
       "      <td>Boeing 757-200 (winglets) Passenger</td>\n",
       "      <td>688</td>\n",
       "    </tr>\n",
       "    <tr>\n",
       "      <th>25</th>\n",
       "      <td>Boeing 757-300 Passenger</td>\n",
       "      <td>686</td>\n",
       "    </tr>\n",
       "    <tr>\n",
       "      <th>26</th>\n",
       "      <td>Airbus A340-300</td>\n",
       "      <td>490</td>\n",
       "    </tr>\n",
       "    <tr>\n",
       "      <th>27</th>\n",
       "      <td>Boeing 777 Passenger</td>\n",
       "      <td>432</td>\n",
       "    </tr>\n",
       "    <tr>\n",
       "      <th>28</th>\n",
       "      <td>Boeing 737MAX 9 Passenger</td>\n",
       "      <td>338</td>\n",
       "    </tr>\n",
       "    <tr>\n",
       "      <th>29</th>\n",
       "      <td>Boeing 747-400 (Passenger)</td>\n",
       "      <td>292</td>\n",
       "    </tr>\n",
       "    <tr>\n",
       "      <th>30</th>\n",
       "      <td>Boeing (douglas) MD-90</td>\n",
       "      <td>263</td>\n",
       "    </tr>\n",
       "    <tr>\n",
       "      <th>31</th>\n",
       "      <td>Boeing 767-300 Passenger</td>\n",
       "      <td>148</td>\n",
       "    </tr>\n",
       "    <tr>\n",
       "      <th>32</th>\n",
       "      <td>Canadair CRJ Series 705</td>\n",
       "      <td>119</td>\n",
       "    </tr>\n",
       "    <tr>\n",
       "      <th>33</th>\n",
       "      <td>Boeing 737-600 Passenger</td>\n",
       "      <td>34</td>\n",
       "    </tr>\n",
       "    <tr>\n",
       "      <th>34</th>\n",
       "      <td>Boeing (douglas) MD-80</td>\n",
       "      <td>24</td>\n",
       "    </tr>\n",
       "    <tr>\n",
       "      <th>35</th>\n",
       "      <td>Boeing 767-400 Passenger</td>\n",
       "      <td>14</td>\n",
       "    </tr>\n",
       "    <tr>\n",
       "      <th>36</th>\n",
       "      <td>Airbus A340-600</td>\n",
       "      <td>4</td>\n",
       "    </tr>\n",
       "    <tr>\n",
       "      <th>37</th>\n",
       "      <td>Boeing 777-300ER Passenger</td>\n",
       "      <td>4</td>\n",
       "    </tr>\n",
       "  </tbody>\n",
       "</table>\n",
       "</div>"
      ],
      "text/plain": [
       "                           Aircraft Type  Count\n",
       "0    Boeing 737-700 (winglets) Passenger  58576\n",
       "1    Boeing 737-800 (winglets) Passenger  23467\n",
       "2                            Embraer 175  22294\n",
       "3               Boeing 737-800 Passenger  15998\n",
       "4                            Airbus A321  12865\n",
       "5                            Airbus A320  12136\n",
       "6               Boeing 737-900 Passenger  11470\n",
       "7    Boeing 737-900 (winglets) Passenger   6768\n",
       "8                Airbus A321 (Sharklets)   5768\n",
       "9                            Airbus A319   4904\n",
       "10             Canadair Regional Jet 700   3224\n",
       "11               Airbus A318/319/320/321   3066\n",
       "12               Airbus A320 (Sharklets)   2381\n",
       "13       Embraer 175 (Enhanced Winglets)   2305\n",
       "14             Canadair Regional Jet 900   2053\n",
       "15                        Boeing 717-200   1577\n",
       "16              Boeing 757-200 Passenger   1515\n",
       "17                 Canadair Regional Jet   1372\n",
       "18             Boeing 737MAX 8 Passenger   1182\n",
       "19                Boeing 757 (Passenger)    817\n",
       "20              Boeing 737-700 Passenger    787\n",
       "21                          Boeing 787-8    730\n",
       "22                       Airbus A330-200    728\n",
       "23  DHvilld-Bombardier DHC8 Dsh 8-400/8Q    710\n",
       "24   Boeing 757-200 (winglets) Passenger    688\n",
       "25              Boeing 757-300 Passenger    686\n",
       "26                       Airbus A340-300    490\n",
       "27                  Boeing 777 Passenger    432\n",
       "28             Boeing 737MAX 9 Passenger    338\n",
       "29            Boeing 747-400 (Passenger)    292\n",
       "30                Boeing (douglas) MD-90    263\n",
       "31              Boeing 767-300 Passenger    148\n",
       "32               Canadair CRJ Series 705    119\n",
       "33              Boeing 737-600 Passenger     34\n",
       "34                Boeing (douglas) MD-80     24\n",
       "35              Boeing 767-400 Passenger     14\n",
       "36                       Airbus A340-600      4\n",
       "37            Boeing 777-300ER Passenger      4"
      ]
     },
     "execution_count": 130,
     "metadata": {},
     "output_type": "execute_result"
    }
   ],
   "source": [
    "san_18_actype = san_18_actype.rename(columns = {'Unnamed: 0': 'Aircraft Type'})\n",
    "san_18_actype"
   ]
  },
  {
   "cell_type": "code",
   "execution_count": 131,
   "metadata": {},
   "outputs": [
    {
     "data": {
      "image/png": "[encoded data removed]",
      "text/plain": [
       "<matplotlib.figure.Figure at 0x10d79be10>"
      ]
     },
     "metadata": {},
     "output_type": "display_data"
    }
   ],
   "source": [
    "san_new_by_seats[['Seats']].hist()\n",
    "plt.xlabel('Number of Seats')\n",
    "plt.ylabel('Anual Operation Counts')\n",
    "plt.title('Distribution of Number of Seats, SAN 2018')\n",
    "plt.show()"
   ]
  },
  {
   "cell_type": "markdown",
   "metadata": {},
   "source": [
    "If we focus on the aircrafts with more than 270 seats: \n"
   ]
  },
  {
   "cell_type": "code",
   "execution_count": 132,
   "metadata": {},
   "outputs": [
    {
     "data": {
      "text/html": [
       "<div>\n",
       "<style>\n",
       "    .dataframe thead tr:only-child th {\n",
       "        text-align: right;\n",
       "    }\n",
       "\n",
       "    .dataframe thead th {\n",
       "        text-align: left;\n",
       "    }\n",
       "\n",
       "    .dataframe tbody tr th {\n",
       "        vertical-align: top;\n",
       "    }\n",
       "</style>\n",
       "<table border=\"1\" class=\"dataframe\">\n",
       "  <thead>\n",
       "    <tr style=\"text-align: right;\">\n",
       "      <th></th>\n",
       "      <th>Seats</th>\n",
       "      <th>Specific Aircraft Name</th>\n",
       "      <th>count</th>\n",
       "    </tr>\n",
       "  </thead>\n",
       "  <tbody>\n",
       "    <tr>\n",
       "      <th>76</th>\n",
       "      <td>275</td>\n",
       "      <td>Boeing 747-400 (Passenger)</td>\n",
       "      <td>288</td>\n",
       "    </tr>\n",
       "    <tr>\n",
       "      <th>77</th>\n",
       "      <td>278</td>\n",
       "      <td>Airbus A330-200</td>\n",
       "      <td>728</td>\n",
       "    </tr>\n",
       "    <tr>\n",
       "      <th>78</th>\n",
       "      <td>279</td>\n",
       "      <td>Airbus A340-300</td>\n",
       "      <td>390</td>\n",
       "    </tr>\n",
       "    <tr>\n",
       "      <th>79</th>\n",
       "      <td>281</td>\n",
       "      <td>Airbus A340-600</td>\n",
       "      <td>4</td>\n",
       "    </tr>\n",
       "    <tr>\n",
       "      <th>80</th>\n",
       "      <td>296</td>\n",
       "      <td>Boeing 777-300ER Passenger</td>\n",
       "      <td>4</td>\n",
       "    </tr>\n",
       "    <tr>\n",
       "      <th>81</th>\n",
       "      <td>297</td>\n",
       "      <td>Boeing 777 Passenger</td>\n",
       "      <td>430</td>\n",
       "    </tr>\n",
       "    <tr>\n",
       "      <th>82</th>\n",
       "      <td>314</td>\n",
       "      <td>Airbus A340-300</td>\n",
       "      <td>100</td>\n",
       "    </tr>\n",
       "    <tr>\n",
       "      <th>83</th>\n",
       "      <td>337</td>\n",
       "      <td>Boeing 747-400 (Passenger)</td>\n",
       "      <td>4</td>\n",
       "    </tr>\n",
       "  </tbody>\n",
       "</table>\n",
       "</div>"
      ],
      "text/plain": [
       "    Seats      Specific Aircraft Name  count\n",
       "76    275  Boeing 747-400 (Passenger)    288\n",
       "77    278             Airbus A330-200    728\n",
       "78    279             Airbus A340-300    390\n",
       "79    281             Airbus A340-600      4\n",
       "80    296  Boeing 777-300ER Passenger      4\n",
       "81    297        Boeing 777 Passenger    430\n",
       "82    314             Airbus A340-300    100\n",
       "83    337  Boeing 747-400 (Passenger)      4"
      ]
     },
     "execution_count": 132,
     "metadata": {},
     "output_type": "execute_result"
    }
   ],
   "source": [
    "large_aircraft = san_new_by_seats[san_new_by_seats['Seats'] > 270]\n",
    "large_aircraft"
   ]
  },
  {
   "cell_type": "markdown",
   "metadata": {},
   "source": [
    "Although only A330-200 achieves an annual operation number more than 500, grouping all the aircraft with more than 270 seats together, they achieve a total annual operation more than 500.  \n",
    "**Motivation for grouping: ** according to [the ADG Group by Airbus](https://www.airbus.com/content/dam/corporate-topics/publications/backgrounders/techdata/general-information/Airbus-Commercial-Aircraft-ICAO-ARC-FAA-ADG-App-Cat.pdf) and [by Boeing](http://www.boeing.com/assets/pdf/commercial/airports/faqs/aircraftdesigngroup.pdf), all the aircrafts with more than 270 seats belong to ADG Group **V** (by FAA) or **E** (by ICAO). "
   ]
  },
  {
   "cell_type": "markdown",
   "metadata": {},
   "source": [
    "**The design aircraft changes **in 2018.   \n",
    "\n",
    "Take a closer look at the change, copared to 2011, the chagne is due to the Lufthansa's new commercial flight between **FRA** and **SAN**, which mostly use **Airbus A340-300 and A340-600**; Edelweiss's flight to **ZRH** using **Airbus A340-300**;and British Airways' use of **747-400** in the flight between **LHR** and **SAN**. "
   ]
  },
  {
   "cell_type": "markdown",
   "metadata": {},
   "source": [
    "It is meaningful to ensure the opeartion requirements for the new design aircraft type. Lufthansa makes a total number of 394 operations,British Airways makes 724 operations and Edelweiss, 100, during 2018.\n",
    "Indeed, **FRA**, **LHR** and **ZRH** are the only three non-stop European destinations. "
   ]
  },
  {
   "cell_type": "code",
   "execution_count": 133,
   "metadata": {},
   "outputs": [
    {
     "data": {
      "text/plain": [
       "100"
      ]
     },
     "execution_count": 133,
     "metadata": {},
     "output_type": "execute_result"
    }
   ],
   "source": [
    "len(san_new[san_new['Carrier Code'] == 'WK'])"
   ]
  },
  {
   "cell_type": "code",
   "execution_count": 134,
   "metadata": {},
   "outputs": [
    {
     "data": {
      "text/plain": [
       "724"
      ]
     },
     "execution_count": 134,
     "metadata": {},
     "output_type": "execute_result"
    }
   ],
   "source": [
    "len(san_new[san_new['Carrier Code'] == 'BA'])"
   ]
  },
  {
   "cell_type": "code",
   "execution_count": 135,
   "metadata": {},
   "outputs": [
    {
     "data": {
      "text/plain": [
       "394"
      ]
     },
     "execution_count": 135,
     "metadata": {},
     "output_type": "execute_result"
    }
   ],
   "source": [
    "len(san_new[san_new['Carrier Code'] == 'LH'])"
   ]
  },
  {
   "cell_type": "markdown",
   "metadata": {},
   "source": [
    "Looking at the dimensions for all the aircrafts in the group with 270 and more seats, **Boeing 747-400 has the maximal tail height (19.59 m / 64 ft 3 in) and wheel span (11 m / 36 ft 1 in), while Boeing 777-300ER has the greatest length (73.08 m / 239 ft 4 in) and wingspan (64.80 m / 212 ft 7 in).** However, **A340-600** has the maximal runway length requirement at the sea level (where SAN is located), maximal take off weight on a standard day.  \n",
    "\n",
    "Therefore, when tail height and wheel span are needed for design, **Boeing 747-400** should be the design aircraft.  \n",
    "\n",
    "When length and wingspan needed for design, **Boeing 777-300ER** should be considered the design aircraft.  \n",
    "\n",
    "When planning for runway, **Boeing 777-300ER and Boeing 747-400** should be the design aircraft (because they have similar runway length requirement at their MTOW)"
   ]
  },
  {
   "cell_type": "markdown",
   "metadata": {},
   "source": [
    "#### Calculating New Runway Length"
   ]
  },
  {
   "cell_type": "markdown",
   "metadata": {},
   "source": [
    "Because **SAN** is roughly at sea level, when taking look at the Payload chart for **Runway Length Requirement** at Maximum Take Off Weight, the 777-300ER variant with the greatest runway length requirement is roughly 3200 m (10,500 ft). The 747-400 variant with the greatest runway length requirement at the Maximum Take Off Weight is also around 3200 m (10,500 ft).  "
   ]
  },
  {
   "cell_type": "markdown",
   "metadata": {},
   "source": [
    "Although we have to take into consideration of new design aircraft for runway length, the calculated runway length does not change. It reamins the **same**."
   ]
  },
  {
   "cell_type": "markdown",
   "metadata": {},
   "source": [
    "### 19. Performance Summary"
   ]
  },
  {
   "cell_type": "code",
   "execution_count": 136,
   "metadata": {
    "collapsed": true
   },
   "outputs": [],
   "source": [
    "days = np.array([31, 28, 31, 30, 31, 30, 31, 31, 30, 31, 30, 31])"
   ]
  },
  {
   "cell_type": "code",
   "execution_count": 137,
   "metadata": {
    "collapsed": true
   },
   "outputs": [],
   "source": [
    "san_new_summ['Average Daily Arrival Count'] = san_new_summ['Arrival Count']/days"
   ]
  },
  {
   "cell_type": "code",
   "execution_count": 138,
   "metadata": {
    "collapsed": true
   },
   "outputs": [],
   "source": [
    "san_new_summ['Average Daily Departure Count'] = san_new_summ['Departure Count']/days"
   ]
  },
  {
   "cell_type": "code",
   "execution_count": 139,
   "metadata": {
    "collapsed": true
   },
   "outputs": [],
   "source": [
    "san_new_summ['Average Daily Operation Count'] = san_new_summ['Total Operation Count']/days"
   ]
  },
  {
   "cell_type": "code",
   "execution_count": 140,
   "metadata": {},
   "outputs": [
    {
     "data": {
      "text/html": [
       "<div>\n",
       "<style>\n",
       "    .dataframe thead tr:only-child th {\n",
       "        text-align: right;\n",
       "    }\n",
       "\n",
       "    .dataframe thead th {\n",
       "        text-align: left;\n",
       "    }\n",
       "\n",
       "    .dataframe tbody tr th {\n",
       "        vertical-align: top;\n",
       "    }\n",
       "</style>\n",
       "<table border=\"1\" class=\"dataframe\">\n",
       "  <thead>\n",
       "    <tr style=\"text-align: right;\">\n",
       "      <th></th>\n",
       "      <th>Month</th>\n",
       "      <th>Arrival Count</th>\n",
       "      <th>Departure Count</th>\n",
       "      <th>Total Operation Count</th>\n",
       "      <th>Average Daily Arrival Count</th>\n",
       "      <th>Average Daily Departure Count</th>\n",
       "      <th>Average Daily Operation Count</th>\n",
       "    </tr>\n",
       "  </thead>\n",
       "  <tbody>\n",
       "    <tr>\n",
       "      <th>0</th>\n",
       "      <td>1</td>\n",
       "      <td>7836</td>\n",
       "      <td>7836</td>\n",
       "      <td>15672</td>\n",
       "      <td>252.774194</td>\n",
       "      <td>252.774194</td>\n",
       "      <td>505.548387</td>\n",
       "    </tr>\n",
       "    <tr>\n",
       "      <th>1</th>\n",
       "      <td>2</td>\n",
       "      <td>7023</td>\n",
       "      <td>7023</td>\n",
       "      <td>14046</td>\n",
       "      <td>250.821429</td>\n",
       "      <td>250.821429</td>\n",
       "      <td>501.642857</td>\n",
       "    </tr>\n",
       "    <tr>\n",
       "      <th>2</th>\n",
       "      <td>3</td>\n",
       "      <td>8213</td>\n",
       "      <td>8213</td>\n",
       "      <td>16426</td>\n",
       "      <td>264.935484</td>\n",
       "      <td>264.935484</td>\n",
       "      <td>529.870968</td>\n",
       "    </tr>\n",
       "    <tr>\n",
       "      <th>3</th>\n",
       "      <td>4</td>\n",
       "      <td>8188</td>\n",
       "      <td>8192</td>\n",
       "      <td>16380</td>\n",
       "      <td>272.933333</td>\n",
       "      <td>273.066667</td>\n",
       "      <td>546.000000</td>\n",
       "    </tr>\n",
       "    <tr>\n",
       "      <th>4</th>\n",
       "      <td>5</td>\n",
       "      <td>8568</td>\n",
       "      <td>8568</td>\n",
       "      <td>17136</td>\n",
       "      <td>276.387097</td>\n",
       "      <td>276.387097</td>\n",
       "      <td>552.774194</td>\n",
       "    </tr>\n",
       "    <tr>\n",
       "      <th>5</th>\n",
       "      <td>6</td>\n",
       "      <td>8759</td>\n",
       "      <td>8761</td>\n",
       "      <td>17520</td>\n",
       "      <td>291.966667</td>\n",
       "      <td>292.033333</td>\n",
       "      <td>584.000000</td>\n",
       "    </tr>\n",
       "    <tr>\n",
       "      <th>6</th>\n",
       "      <td>7</td>\n",
       "      <td>9159</td>\n",
       "      <td>9159</td>\n",
       "      <td>18318</td>\n",
       "      <td>295.451613</td>\n",
       "      <td>295.451613</td>\n",
       "      <td>590.903226</td>\n",
       "    </tr>\n",
       "    <tr>\n",
       "      <th>7</th>\n",
       "      <td>8</td>\n",
       "      <td>9033</td>\n",
       "      <td>9035</td>\n",
       "      <td>18068</td>\n",
       "      <td>291.387097</td>\n",
       "      <td>291.451613</td>\n",
       "      <td>582.838710</td>\n",
       "    </tr>\n",
       "    <tr>\n",
       "      <th>8</th>\n",
       "      <td>9</td>\n",
       "      <td>8248</td>\n",
       "      <td>8251</td>\n",
       "      <td>16499</td>\n",
       "      <td>274.933333</td>\n",
       "      <td>275.033333</td>\n",
       "      <td>549.966667</td>\n",
       "    </tr>\n",
       "    <tr>\n",
       "      <th>9</th>\n",
       "      <td>10</td>\n",
       "      <td>8548</td>\n",
       "      <td>8545</td>\n",
       "      <td>17093</td>\n",
       "      <td>275.741935</td>\n",
       "      <td>275.645161</td>\n",
       "      <td>551.387097</td>\n",
       "    </tr>\n",
       "    <tr>\n",
       "      <th>10</th>\n",
       "      <td>11</td>\n",
       "      <td>8172</td>\n",
       "      <td>8171</td>\n",
       "      <td>16343</td>\n",
       "      <td>272.400000</td>\n",
       "      <td>272.366667</td>\n",
       "      <td>544.766667</td>\n",
       "    </tr>\n",
       "    <tr>\n",
       "      <th>11</th>\n",
       "      <td>12</td>\n",
       "      <td>8380</td>\n",
       "      <td>8348</td>\n",
       "      <td>16728</td>\n",
       "      <td>270.322581</td>\n",
       "      <td>269.290323</td>\n",
       "      <td>539.612903</td>\n",
       "    </tr>\n",
       "  </tbody>\n",
       "</table>\n",
       "</div>"
      ],
      "text/plain": [
       "    Month  Arrival Count  Departure Count  Total Operation Count  \\\n",
       "0       1           7836             7836                  15672   \n",
       "1       2           7023             7023                  14046   \n",
       "2       3           8213             8213                  16426   \n",
       "3       4           8188             8192                  16380   \n",
       "4       5           8568             8568                  17136   \n",
       "5       6           8759             8761                  17520   \n",
       "6       7           9159             9159                  18318   \n",
       "7       8           9033             9035                  18068   \n",
       "8       9           8248             8251                  16499   \n",
       "9      10           8548             8545                  17093   \n",
       "10     11           8172             8171                  16343   \n",
       "11     12           8380             8348                  16728   \n",
       "\n",
       "    Average Daily Arrival Count  Average Daily Departure Count  \\\n",
       "0                    252.774194                     252.774194   \n",
       "1                    250.821429                     250.821429   \n",
       "2                    264.935484                     264.935484   \n",
       "3                    272.933333                     273.066667   \n",
       "4                    276.387097                     276.387097   \n",
       "5                    291.966667                     292.033333   \n",
       "6                    295.451613                     295.451613   \n",
       "7                    291.387097                     291.451613   \n",
       "8                    274.933333                     275.033333   \n",
       "9                    275.741935                     275.645161   \n",
       "10                   272.400000                     272.366667   \n",
       "11                   270.322581                     269.290323   \n",
       "\n",
       "    Average Daily Operation Count  \n",
       "0                      505.548387  \n",
       "1                      501.642857  \n",
       "2                      529.870968  \n",
       "3                      546.000000  \n",
       "4                      552.774194  \n",
       "5                      584.000000  \n",
       "6                      590.903226  \n",
       "7                      582.838710  \n",
       "8                      549.966667  \n",
       "9                      551.387097  \n",
       "10                     544.766667  \n",
       "11                     539.612903  "
      ]
     },
     "execution_count": 140,
     "metadata": {},
     "output_type": "execute_result"
    }
   ],
   "source": [
    "san_new_summ"
   ]
  },
  {
   "cell_type": "markdown",
   "metadata": {},
   "source": [
    "Therefore, the **PEAK MONTH** is **JULY** for 2018.   \n",
    "Take a look at the July data. "
   ]
  },
  {
   "cell_type": "code",
   "execution_count": 141,
   "metadata": {
    "collapsed": true
   },
   "outputs": [],
   "source": [
    "san_17_dept = san_new[san_new['Dep Airport Code'] == 'SAN']\n",
    "san_17_arr = san_new[san_new['Arr Airport Code'] == 'SAN']"
   ]
  },
  {
   "cell_type": "code",
   "execution_count": 142,
   "metadata": {
    "collapsed": true
   },
   "outputs": [],
   "source": [
    "san_17_dept_july = san_17_dept[san_17_dept['dt'].dt.month == 7]\n",
    "san_17_arr_july = san_17_arr[san_17_arr['at'].dt.month == 7]"
   ]
  },
  {
   "cell_type": "code",
   "execution_count": 143,
   "metadata": {},
   "outputs": [
    {
     "name": "stderr",
     "output_type": "stream",
     "text": [
      "/Users/hanzhong/anaconda3/lib/python3.6/site-packages/ipykernel_launcher.py:1: SettingWithCopyWarning: \n",
      "A value is trying to be set on a copy of a slice from a DataFrame.\n",
      "Try using .loc[row_indexer,col_indexer] = value instead\n",
      "\n",
      "See the caveats in the documentation: http://pandas.pydata.org/pandas-docs/stable/indexing.html#indexing-view-versus-copy\n",
      "  \"\"\"Entry point for launching an IPython kernel.\n",
      "/Users/hanzhong/anaconda3/lib/python3.6/site-packages/ipykernel_launcher.py:2: SettingWithCopyWarning: \n",
      "A value is trying to be set on a copy of a slice from a DataFrame.\n",
      "Try using .loc[row_indexer,col_indexer] = value instead\n",
      "\n",
      "See the caveats in the documentation: http://pandas.pydata.org/pandas-docs/stable/indexing.html#indexing-view-versus-copy\n",
      "  \n"
     ]
    }
   ],
   "source": [
    "san_17_dept_july['weekday'] = san_17_dept_july['dt'].dt.weekday\n",
    "san_17_arr_july['weekday'] = san_17_arr_july['at'].dt.weekday"
   ]
  },
  {
   "cell_type": "markdown",
   "metadata": {},
   "source": [
    "**Average number of arrivals, departures and total operations for weekdays in July, 2018**"
   ]
  },
  {
   "cell_type": "code",
   "execution_count": 144,
   "metadata": {},
   "outputs": [
    {
     "data": {
      "text/plain": [
       "20    308\n",
       "13    308\n",
       "30    307\n",
       "23    306\n",
       "16    306\n",
       "19    305\n",
       "12    305\n",
       "26    305\n",
       "9     305\n",
       "27    305\n",
       "11    301\n",
       "24    300\n",
       "10    300\n",
       "25    300\n",
       "18    300\n",
       "17    298\n",
       "31    298\n",
       "6     296\n",
       "5     291\n",
       "2     288\n",
       "3     265\n",
       "4     253\n",
       "Name: dt, dtype: int64"
      ]
     },
     "execution_count": 144,
     "metadata": {},
     "output_type": "execute_result"
    }
   ],
   "source": [
    "san_17_dept_july[san_17_dept_july['weekday']<5]['dt'].dt.day.value_counts()"
   ]
  },
  {
   "cell_type": "markdown",
   "metadata": {},
   "source": [
    "The **average weekday arrivals** is: "
   ]
  },
  {
   "cell_type": "code",
   "execution_count": 145,
   "metadata": {},
   "outputs": [
    {
     "data": {
      "text/plain": [
       "297.72727272727275"
      ]
     },
     "execution_count": 145,
     "metadata": {},
     "output_type": "execute_result"
    }
   ],
   "source": [
    "np.mean(san_17_dept_july[san_17_dept_july['weekday']<5]['dt'].dt.day.value_counts())"
   ]
  },
  {
   "cell_type": "markdown",
   "metadata": {},
   "source": [
    "The **average weekday departures** is: "
   ]
  },
  {
   "cell_type": "code",
   "execution_count": 146,
   "metadata": {},
   "outputs": [
    {
     "data": {
      "text/plain": [
       "297.6363636363636"
      ]
     },
     "execution_count": 146,
     "metadata": {},
     "output_type": "execute_result"
    }
   ],
   "source": [
    "np.mean(san_17_arr_july[san_17_arr_july['weekday']<5]['at'].dt.day.value_counts())"
   ]
  },
  {
   "cell_type": "markdown",
   "metadata": {},
   "source": [
    "Therefore, the **average daily total operation is: **595"
   ]
  },
  {
   "cell_type": "markdown",
   "metadata": {},
   "source": [
    "Because according to the data summary, **July 17, 2018** has similar daily number of arrivals, departures and total operation for average weekday counts, therefore, we choose **July 17, 2018** as the **average weekday**."
   ]
  },
  {
   "cell_type": "code",
   "execution_count": 147,
   "metadata": {},
   "outputs": [
    {
     "data": {
      "text/plain": [
       "298"
      ]
     },
     "execution_count": 147,
     "metadata": {},
     "output_type": "execute_result"
    }
   ],
   "source": [
    "len(san_17_dept_july[san_17_dept_july['dt'].dt.day == 17])"
   ]
  },
  {
   "cell_type": "code",
   "execution_count": 148,
   "metadata": {},
   "outputs": [
    {
     "data": {
      "text/plain": [
       "299"
      ]
     },
     "execution_count": 148,
     "metadata": {},
     "output_type": "execute_result"
    }
   ],
   "source": [
    "len(san_17_arr_july[san_17_arr_july['at'].dt.day == 17])"
   ]
  },
  {
   "cell_type": "markdown",
   "metadata": {},
   "source": [
    "Therefore, on **AWPM** (July 17), there are **298 departures, 299 arrivals, and 597 total operations**. "
   ]
  },
  {
   "cell_type": "markdown",
   "metadata": {},
   "source": [
    "### 20. Hour Count for AWPM "
   ]
  },
  {
   "cell_type": "code",
   "execution_count": 149,
   "metadata": {
    "collapsed": true
   },
   "outputs": [],
   "source": [
    "dept_awpm = san_17_dept_july[san_17_dept_july['dt'].dt.day == 17]"
   ]
  },
  {
   "cell_type": "code",
   "execution_count": 150,
   "metadata": {
    "collapsed": true
   },
   "outputs": [],
   "source": [
    "arr_awpm = san_17_arr_july[san_17_arr_july['at'].dt.day == 17]"
   ]
  },
  {
   "cell_type": "code",
   "execution_count": 151,
   "metadata": {
    "collapsed": true
   },
   "outputs": [],
   "source": [
    "dept_17_hour = dept_awpm['dt'].dt.hour.value_counts().to_frame().reset_index().rename(columns = {'index':'hour', 'dt':'dept count'})"
   ]
  },
  {
   "cell_type": "code",
   "execution_count": 152,
   "metadata": {
    "collapsed": true
   },
   "outputs": [],
   "source": [
    "arr_17_hour = arr_awpm['at'].dt.hour.value_counts().to_frame().reset_index().rename(columns = {'index':'hour', 'at':'arr count'})"
   ]
  },
  {
   "cell_type": "markdown",
   "metadata": {},
   "source": [
    "**Maximum Arrivals Hour:**"
   ]
  },
  {
   "cell_type": "code",
   "execution_count": 153,
   "metadata": {},
   "outputs": [
    {
     "data": {
      "text/html": [
       "<div>\n",
       "<style>\n",
       "    .dataframe thead tr:only-child th {\n",
       "        text-align: right;\n",
       "    }\n",
       "\n",
       "    .dataframe thead th {\n",
       "        text-align: left;\n",
       "    }\n",
       "\n",
       "    .dataframe tbody tr th {\n",
       "        vertical-align: top;\n",
       "    }\n",
       "</style>\n",
       "<table border=\"1\" class=\"dataframe\">\n",
       "  <thead>\n",
       "    <tr style=\"text-align: right;\">\n",
       "      <th></th>\n",
       "      <th>hour</th>\n",
       "      <th>dept count</th>\n",
       "      <th>arr count</th>\n",
       "      <th>total operation count</th>\n",
       "    </tr>\n",
       "  </thead>\n",
       "  <tbody>\n",
       "    <tr>\n",
       "      <th>11</th>\n",
       "      <td>22</td>\n",
       "      <td>15</td>\n",
       "      <td>25</td>\n",
       "      <td>40</td>\n",
       "    </tr>\n",
       "  </tbody>\n",
       "</table>\n",
       "</div>"
      ],
      "text/plain": [
       "    hour  dept count  arr count  total operation count\n",
       "11    22          15         25                     40"
      ]
     },
     "execution_count": 153,
     "metadata": {},
     "output_type": "execute_result"
    }
   ],
   "source": [
    "awpm_17_summ[awpm_17_summ['arr count'] == max(awpm_17_summ['arr count'])]"
   ]
  },
  {
   "cell_type": "markdown",
   "metadata": {},
   "source": [
    "The **peak hour for arrivals on AWPM is 22** count: 25"
   ]
  },
  {
   "cell_type": "markdown",
   "metadata": {},
   "source": [
    "**Maximum Departure Hour:**"
   ]
  },
  {
   "cell_type": "code",
   "execution_count": 154,
   "metadata": {},
   "outputs": [
    {
     "data": {
      "text/html": [
       "<div>\n",
       "<style>\n",
       "    .dataframe thead tr:only-child th {\n",
       "        text-align: right;\n",
       "    }\n",
       "\n",
       "    .dataframe thead th {\n",
       "        text-align: left;\n",
       "    }\n",
       "\n",
       "    .dataframe tbody tr th {\n",
       "        vertical-align: top;\n",
       "    }\n",
       "</style>\n",
       "<table border=\"1\" class=\"dataframe\">\n",
       "  <thead>\n",
       "    <tr style=\"text-align: right;\">\n",
       "      <th></th>\n",
       "      <th>hour</th>\n",
       "      <th>dept count</th>\n",
       "      <th>arr count</th>\n",
       "      <th>total operation count</th>\n",
       "    </tr>\n",
       "  </thead>\n",
       "  <tbody>\n",
       "    <tr>\n",
       "      <th>0</th>\n",
       "      <td>7</td>\n",
       "      <td>28</td>\n",
       "      <td>12</td>\n",
       "      <td>40</td>\n",
       "    </tr>\n",
       "  </tbody>\n",
       "</table>\n",
       "</div>"
      ],
      "text/plain": [
       "   hour  dept count  arr count  total operation count\n",
       "0     7          28         12                     40"
      ]
     },
     "execution_count": 154,
     "metadata": {},
     "output_type": "execute_result"
    }
   ],
   "source": [
    "awpm_17_summ[awpm_17_summ['dept count'] == max(awpm_17_summ['dept count'])]"
   ]
  },
  {
   "cell_type": "markdown",
   "metadata": {},
   "source": [
    "The **peak hour for departures on AWPM is 7** count: 28"
   ]
  },
  {
   "cell_type": "markdown",
   "metadata": {},
   "source": [
    "**Maximum Total Operation Hour:**"
   ]
  },
  {
   "cell_type": "code",
   "execution_count": 155,
   "metadata": {},
   "outputs": [
    {
     "data": {
      "text/html": [
       "<div>\n",
       "<style>\n",
       "    .dataframe thead tr:only-child th {\n",
       "        text-align: right;\n",
       "    }\n",
       "\n",
       "    .dataframe thead th {\n",
       "        text-align: left;\n",
       "    }\n",
       "\n",
       "    .dataframe tbody tr th {\n",
       "        vertical-align: top;\n",
       "    }\n",
       "</style>\n",
       "<table border=\"1\" class=\"dataframe\">\n",
       "  <thead>\n",
       "    <tr style=\"text-align: right;\">\n",
       "      <th></th>\n",
       "      <th>hour</th>\n",
       "      <th>dept count</th>\n",
       "      <th>arr count</th>\n",
       "      <th>total operation count</th>\n",
       "    </tr>\n",
       "  </thead>\n",
       "  <tbody>\n",
       "    <tr>\n",
       "      <th>8</th>\n",
       "      <td>10</td>\n",
       "      <td>17</td>\n",
       "      <td>24</td>\n",
       "      <td>41</td>\n",
       "    </tr>\n",
       "  </tbody>\n",
       "</table>\n",
       "</div>"
      ],
      "text/plain": [
       "   hour  dept count  arr count  total operation count\n",
       "8    10          17         24                     41"
      ]
     },
     "execution_count": 155,
     "metadata": {},
     "output_type": "execute_result"
    }
   ],
   "source": [
    "awpm_17_summ[awpm_17_summ['total operation count'] == max(awpm_17_summ['total operation count'])]"
   ]
  },
  {
   "cell_type": "markdown",
   "metadata": {},
   "source": [
    "The **peak hour for total operation on AWPM is 10** count: 41"
   ]
  },
  {
   "cell_type": "markdown",
   "metadata": {},
   "source": [
    "### 21. AWPM Analysis"
   ]
  },
  {
   "cell_type": "code",
   "execution_count": 156,
   "metadata": {
    "collapsed": true
   },
   "outputs": [],
   "source": [
    "dtobj = []\n",
    "for i in range(len(rolling)):\n",
    "    dth = hour[i]\n",
    "    dtm = minute[i]\n",
    "    dtobject = datetime.timedelta(minutes = dtm, hours = dth)\n",
    "    dtobj = np.append(dtobj, dtobject)"
   ]
  },
  {
   "cell_type": "code",
   "execution_count": 157,
   "metadata": {
    "collapsed": true
   },
   "outputs": [],
   "source": [
    "rolling_18['time'] = dtobj"
   ]
  },
  {
   "cell_type": "code",
   "execution_count": 158,
   "metadata": {},
   "outputs": [
    {
     "name": "stderr",
     "output_type": "stream",
     "text": [
      "/Users/hanzhong/anaconda3/lib/python3.6/site-packages/ipykernel_launcher.py:1: SettingWithCopyWarning: \n",
      "A value is trying to be set on a copy of a slice from a DataFrame.\n",
      "Try using .loc[row_indexer,col_indexer] = value instead\n",
      "\n",
      "See the caveats in the documentation: http://pandas.pydata.org/pandas-docs/stable/indexing.html#indexing-view-versus-copy\n",
      "  \"\"\"Entry point for launching an IPython kernel.\n"
     ]
    }
   ],
   "source": [
    "arr_awpm['xiaoshi'] = arr_awpm['at'].dt.hour"
   ]
  },
  {
   "cell_type": "code",
   "execution_count": 159,
   "metadata": {},
   "outputs": [
    {
     "name": "stderr",
     "output_type": "stream",
     "text": [
      "/Users/hanzhong/anaconda3/lib/python3.6/site-packages/ipykernel_launcher.py:1: SettingWithCopyWarning: \n",
      "A value is trying to be set on a copy of a slice from a DataFrame.\n",
      "Try using .loc[row_indexer,col_indexer] = value instead\n",
      "\n",
      "See the caveats in the documentation: http://pandas.pydata.org/pandas-docs/stable/indexing.html#indexing-view-versus-copy\n",
      "  \"\"\"Entry point for launching an IPython kernel.\n"
     ]
    }
   ],
   "source": [
    "arr_awpm['fenzhong'] = arr_awpm['at'].dt.minute"
   ]
  },
  {
   "cell_type": "code",
   "execution_count": 168,
   "metadata": {},
   "outputs": [
    {
     "name": "stderr",
     "output_type": "stream",
     "text": [
      "/Users/hanzhong/anaconda3/lib/python3.6/site-packages/ipykernel_launcher.py:1: SettingWithCopyWarning: \n",
      "A value is trying to be set on a copy of a slice from a DataFrame.\n",
      "Try using .loc[row_indexer,col_indexer] = value instead\n",
      "\n",
      "See the caveats in the documentation: http://pandas.pydata.org/pandas-docs/stable/indexing.html#indexing-view-versus-copy\n",
      "  \"\"\"Entry point for launching an IPython kernel.\n",
      "/Users/hanzhong/anaconda3/lib/python3.6/site-packages/ipykernel_launcher.py:2: SettingWithCopyWarning: \n",
      "A value is trying to be set on a copy of a slice from a DataFrame.\n",
      "Try using .loc[row_indexer,col_indexer] = value instead\n",
      "\n",
      "See the caveats in the documentation: http://pandas.pydata.org/pandas-docs/stable/indexing.html#indexing-view-versus-copy\n",
      "  \n"
     ]
    }
   ],
   "source": [
    "dept_awpm['xiaoshi'] = dept_awpm['dt'].dt.hour\n",
    "dept_awpm['fenzhong'] = dept_awpm['dt'].dt.minute"
   ]
  },
  {
   "cell_type": "code",
   "execution_count": 170,
   "metadata": {
    "collapsed": true
   },
   "outputs": [],
   "source": [
    "dept_c = []\n",
    "for i in range(len(rolling_18['h'])):\n",
    "    dept_count = 0 \n",
    "    xiaoshi = rolling_18.iloc[i, 0]\n",
    "    fenzhong = rolling_18.iloc[i, 1]\n",
    "    for j in range(len(dept_awpm)):\n",
    "        xs = dept_awpm.iloc[j, 13]\n",
    "        fz = dept_awpm.iloc[j, 14]\n",
    "        diff = 60 * (xiaoshi-xs) + (fenzhong - fz)\n",
    "        if diff > 0:\n",
    "            if diff < 60: \n",
    "                dept_count = dept_count + 1\n",
    "    dept_c = np.append(dept_c, dept_count)"
   ]
  },
  {
   "cell_type": "code",
   "execution_count": 171,
   "metadata": {
    "collapsed": true
   },
   "outputs": [],
   "source": [
    "arr_c = []\n",
    "for i in range(len(rolling_18)):\n",
    "    arr_count = 0 \n",
    "    xiaoshi = rolling_18.iloc[i, 0]\n",
    "    fenzhong = rolling_18.iloc[i, 1]\n",
    "    for j in range(len(arr_awpm)):\n",
    "        xs = arr_awpm.iloc[j, 13]\n",
    "        fz = arr_awpm.iloc[j, 14]\n",
    "        diff = 60 * (xiaoshi-xs) + (fenzhong - fz)\n",
    "        if diff > 0:\n",
    "            if diff < 60: \n",
    "                arr_count = arr_count + 1\n",
    "    arr_c = np.append(arr_c, arr_count)"
   ]
  },
  {
   "cell_type": "code",
   "execution_count": 172,
   "metadata": {
    "collapsed": true
   },
   "outputs": [],
   "source": [
    "rolling_18['departure count'] = dept_c.astype(int)"
   ]
  },
  {
   "cell_type": "code",
   "execution_count": 173,
   "metadata": {
    "collapsed": true
   },
   "outputs": [],
   "source": [
    "rolling_18['arrival count'] = arr_c.astype(int)"
   ]
  },
  {
   "cell_type": "code",
   "execution_count": 174,
   "metadata": {
    "collapsed": true
   },
   "outputs": [],
   "source": [
    "rolling_18['total operation'] = rolling_18['departure count'] + rolling_18['arrival count']"
   ]
  },
  {
   "cell_type": "markdown",
   "metadata": {},
   "source": [
    "**The maximum departure rolling hour:** "
   ]
  },
  {
   "cell_type": "code",
   "execution_count": 175,
   "metadata": {},
   "outputs": [
    {
     "data": {
      "text/html": [
       "<div>\n",
       "<style>\n",
       "    .dataframe thead tr:only-child th {\n",
       "        text-align: right;\n",
       "    }\n",
       "\n",
       "    .dataframe thead th {\n",
       "        text-align: left;\n",
       "    }\n",
       "\n",
       "    .dataframe tbody tr th {\n",
       "        vertical-align: top;\n",
       "    }\n",
       "</style>\n",
       "<table border=\"1\" class=\"dataframe\">\n",
       "  <thead>\n",
       "    <tr style=\"text-align: right;\">\n",
       "      <th></th>\n",
       "      <th>h</th>\n",
       "      <th>min</th>\n",
       "      <th>time</th>\n",
       "      <th>departure count</th>\n",
       "      <th>arrival count</th>\n",
       "      <th>total operation</th>\n",
       "    </tr>\n",
       "  </thead>\n",
       "  <tbody>\n",
       "    <tr>\n",
       "      <th>433</th>\n",
       "      <td>7</td>\n",
       "      <td>13</td>\n",
       "      <td>07:13:00</td>\n",
       "      <td>36</td>\n",
       "      <td>7</td>\n",
       "      <td>43</td>\n",
       "    </tr>\n",
       "    <tr>\n",
       "      <th>434</th>\n",
       "      <td>7</td>\n",
       "      <td>14</td>\n",
       "      <td>07:14:00</td>\n",
       "      <td>36</td>\n",
       "      <td>7</td>\n",
       "      <td>43</td>\n",
       "    </tr>\n",
       "  </tbody>\n",
       "</table>\n",
       "</div>"
      ],
      "text/plain": [
       "     h  min     time  departure count  arrival count  total operation\n",
       "433  7   13 07:13:00               36              7               43\n",
       "434  7   14 07:14:00               36              7               43"
      ]
     },
     "execution_count": 175,
     "metadata": {},
     "output_type": "execute_result"
    }
   ],
   "source": [
    "rolling_18[rolling_18['departure count'] == max(rolling_18['departure count'])]"
   ]
  },
  {
   "cell_type": "markdown",
   "metadata": {},
   "source": [
    "**The maximum arrival rolling hour:** "
   ]
  },
  {
   "cell_type": "code",
   "execution_count": 176,
   "metadata": {},
   "outputs": [
    {
     "data": {
      "text/html": [
       "<div>\n",
       "<style>\n",
       "    .dataframe thead tr:only-child th {\n",
       "        text-align: right;\n",
       "    }\n",
       "\n",
       "    .dataframe thead th {\n",
       "        text-align: left;\n",
       "    }\n",
       "\n",
       "    .dataframe tbody tr th {\n",
       "        vertical-align: top;\n",
       "    }\n",
       "</style>\n",
       "<table border=\"1\" class=\"dataframe\">\n",
       "  <thead>\n",
       "    <tr style=\"text-align: right;\">\n",
       "      <th></th>\n",
       "      <th>h</th>\n",
       "      <th>min</th>\n",
       "      <th>time</th>\n",
       "      <th>departure count</th>\n",
       "      <th>arrival count</th>\n",
       "      <th>total operation</th>\n",
       "    </tr>\n",
       "  </thead>\n",
       "  <tbody>\n",
       "    <tr>\n",
       "      <th>1407</th>\n",
       "      <td>23</td>\n",
       "      <td>27</td>\n",
       "      <td>23:27:00</td>\n",
       "      <td>9</td>\n",
       "      <td>32</td>\n",
       "      <td>41</td>\n",
       "    </tr>\n",
       "  </tbody>\n",
       "</table>\n",
       "</div>"
      ],
      "text/plain": [
       "       h  min     time  departure count  arrival count  total operation\n",
       "1407  23   27 23:27:00                9             32               41"
      ]
     },
     "execution_count": 176,
     "metadata": {},
     "output_type": "execute_result"
    }
   ],
   "source": [
    "rolling_18[rolling_18['arrival count'] == max(rolling_18['arrival count'])]"
   ]
  },
  {
   "cell_type": "markdown",
   "metadata": {},
   "source": [
    "**The maximum operation rolling hour:** "
   ]
  },
  {
   "cell_type": "code",
   "execution_count": 177,
   "metadata": {},
   "outputs": [
    {
     "data": {
      "text/html": [
       "<div>\n",
       "<style>\n",
       "    .dataframe thead tr:only-child th {\n",
       "        text-align: right;\n",
       "    }\n",
       "\n",
       "    .dataframe thead th {\n",
       "        text-align: left;\n",
       "    }\n",
       "\n",
       "    .dataframe tbody tr th {\n",
       "        vertical-align: top;\n",
       "    }\n",
       "</style>\n",
       "<table border=\"1\" class=\"dataframe\">\n",
       "  <thead>\n",
       "    <tr style=\"text-align: right;\">\n",
       "      <th></th>\n",
       "      <th>h</th>\n",
       "      <th>min</th>\n",
       "      <th>time</th>\n",
       "      <th>departure count</th>\n",
       "      <th>arrival count</th>\n",
       "      <th>total operation</th>\n",
       "    </tr>\n",
       "  </thead>\n",
       "  <tbody>\n",
       "    <tr>\n",
       "      <th>643</th>\n",
       "      <td>10</td>\n",
       "      <td>43</td>\n",
       "      <td>10:43:00</td>\n",
       "      <td>19</td>\n",
       "      <td>26</td>\n",
       "      <td>45</td>\n",
       "    </tr>\n",
       "    <tr>\n",
       "      <th>651</th>\n",
       "      <td>10</td>\n",
       "      <td>51</td>\n",
       "      <td>10:51:00</td>\n",
       "      <td>20</td>\n",
       "      <td>25</td>\n",
       "      <td>45</td>\n",
       "    </tr>\n",
       "  </tbody>\n",
       "</table>\n",
       "</div>"
      ],
      "text/plain": [
       "      h  min     time  departure count  arrival count  total operation\n",
       "643  10   43 10:43:00               19             26               45\n",
       "651  10   51 10:51:00               20             25               45"
      ]
     },
     "execution_count": 177,
     "metadata": {},
     "output_type": "execute_result"
    }
   ],
   "source": [
    "rolling_18[rolling_18['total operation'] == max(rolling_18['total operation'])]"
   ]
  },
  {
   "cell_type": "code",
   "execution_count": 178,
   "metadata": {
    "scrolled": true
   },
   "outputs": [
    {
     "data": {
      "image/png": "[encoded data removed]",
      "text/plain": [
       "<matplotlib.figure.Figure at 0x1a15a1ce48>"
      ]
     },
     "metadata": {},
     "output_type": "display_data"
    }
   ],
   "source": [
    "plt.plot(rolling_18['time'], rolling_18['total operation'], label = 'Total Operation')\n",
    "plt.plot(rolling_18['time'], rolling_18['arrival count'], label = 'Arrival')\n",
    "plt.plot(rolling_18['time'], rolling_18['departure count'], label = 'Departure')\n",
    "plt.xticks([])\n",
    "plt.title('Rolling Hour Count for July 17, 2018')\n",
    "plt.ylabel('Count')\n",
    "plt.xlabel('Time')\n",
    "plt.legend()\n",
    "plt.show()"
   ]
  },
  {
   "cell_type": "markdown",
   "metadata": {},
   "source": [
    "---\n",
    "## Part VII Discussion Questions"
   ]
  },
  {
   "cell_type": "markdown",
   "metadata": {},
   "source": [
    "### 22. Operation Summary"
   ]
  },
  {
   "cell_type": "markdown",
   "metadata": {},
   "source": [
    "#### a) Operations "
   ]
  },
  {
   "cell_type": "code",
   "execution_count": 180,
   "metadata": {},
   "outputs": [
    {
     "data": {
      "text/html": [
       "<div>\n",
       "<style>\n",
       "    .dataframe thead tr:only-child th {\n",
       "        text-align: right;\n",
       "    }\n",
       "\n",
       "    .dataframe thead th {\n",
       "        text-align: left;\n",
       "    }\n",
       "\n",
       "    .dataframe tbody tr th {\n",
       "        vertical-align: top;\n",
       "    }\n",
       "</style>\n",
       "<table border=\"1\" class=\"dataframe\">\n",
       "  <thead>\n",
       "    <tr style=\"text-align: right;\">\n",
       "      <th></th>\n",
       "      <th>Year</th>\n",
       "      <th>departure forecasting</th>\n",
       "      <th>arrival forecasting</th>\n",
       "      <th>total operation forecasting</th>\n",
       "      <th>peak departure forecast</th>\n",
       "      <th>peak arrival forecast</th>\n",
       "      <th>peak total operation forecast</th>\n",
       "    </tr>\n",
       "  </thead>\n",
       "  <tbody>\n",
       "    <tr>\n",
       "      <th>0</th>\n",
       "      <td>2011</td>\n",
       "      <td>80580.000000</td>\n",
       "      <td>80584.000000</td>\n",
       "      <td>161164.000000</td>\n",
       "      <td>28.000000</td>\n",
       "      <td>20.000000</td>\n",
       "      <td>37.000000</td>\n",
       "    </tr>\n",
       "    <tr>\n",
       "      <th>1</th>\n",
       "      <td>2012</td>\n",
       "      <td>82836.240000</td>\n",
       "      <td>82840.352000</td>\n",
       "      <td>165676.592000</td>\n",
       "      <td>28.784000</td>\n",
       "      <td>20.560000</td>\n",
       "      <td>38.036000</td>\n",
       "    </tr>\n",
       "    <tr>\n",
       "      <th>2</th>\n",
       "      <td>2013</td>\n",
       "      <td>85155.654720</td>\n",
       "      <td>85159.881856</td>\n",
       "      <td>170315.536576</td>\n",
       "      <td>29.589952</td>\n",
       "      <td>21.135680</td>\n",
       "      <td>39.101008</td>\n",
       "    </tr>\n",
       "    <tr>\n",
       "      <th>3</th>\n",
       "      <td>2014</td>\n",
       "      <td>87540.013052</td>\n",
       "      <td>87544.358548</td>\n",
       "      <td>175084.371600</td>\n",
       "      <td>30.418471</td>\n",
       "      <td>21.727479</td>\n",
       "      <td>40.195836</td>\n",
       "    </tr>\n",
       "    <tr>\n",
       "      <th>4</th>\n",
       "      <td>2015</td>\n",
       "      <td>89991.133418</td>\n",
       "      <td>89995.600587</td>\n",
       "      <td>179986.734005</td>\n",
       "      <td>31.270188</td>\n",
       "      <td>22.335848</td>\n",
       "      <td>41.321320</td>\n",
       "    </tr>\n",
       "    <tr>\n",
       "      <th>5</th>\n",
       "      <td>2016</td>\n",
       "      <td>92510.885153</td>\n",
       "      <td>92515.477404</td>\n",
       "      <td>185026.362557</td>\n",
       "      <td>32.145753</td>\n",
       "      <td>22.961252</td>\n",
       "      <td>42.478317</td>\n",
       "    </tr>\n",
       "    <tr>\n",
       "      <th>6</th>\n",
       "      <td>2017</td>\n",
       "      <td>95101.189938</td>\n",
       "      <td>95105.910771</td>\n",
       "      <td>190207.100709</td>\n",
       "      <td>33.045834</td>\n",
       "      <td>23.604167</td>\n",
       "      <td>43.667709</td>\n",
       "    </tr>\n",
       "    <tr>\n",
       "      <th>7</th>\n",
       "      <td>2018</td>\n",
       "      <td>97764.023256</td>\n",
       "      <td>97768.876273</td>\n",
       "      <td>195532.899529</td>\n",
       "      <td>33.971118</td>\n",
       "      <td>24.265084</td>\n",
       "      <td>44.890405</td>\n",
       "    </tr>\n",
       "  </tbody>\n",
       "</table>\n",
       "</div>"
      ],
      "text/plain": [
       "   Year  departure forecasting  arrival forecasting  \\\n",
       "0  2011           80580.000000         80584.000000   \n",
       "1  2012           82836.240000         82840.352000   \n",
       "2  2013           85155.654720         85159.881856   \n",
       "3  2014           87540.013052         87544.358548   \n",
       "4  2015           89991.133418         89995.600587   \n",
       "5  2016           92510.885153         92515.477404   \n",
       "6  2017           95101.189938         95105.910771   \n",
       "7  2018           97764.023256         97768.876273   \n",
       "\n",
       "   total operation forecasting  peak departure forecast  \\\n",
       "0                161164.000000                28.000000   \n",
       "1                165676.592000                28.784000   \n",
       "2                170315.536576                29.589952   \n",
       "3                175084.371600                30.418471   \n",
       "4                179986.734005                31.270188   \n",
       "5                185026.362557                32.145753   \n",
       "6                190207.100709                33.045834   \n",
       "7                195532.899529                33.971118   \n",
       "\n",
       "   peak arrival forecast  peak total operation forecast  \n",
       "0              20.000000                      37.000000  \n",
       "1              20.560000                      38.036000  \n",
       "2              21.135680                      39.101008  \n",
       "3              21.727479                      40.195836  \n",
       "4              22.335848                      41.321320  \n",
       "5              22.961252                      42.478317  \n",
       "6              23.604167                      43.667709  \n",
       "7              24.265084                      44.890405  "
      ]
     },
     "execution_count": 180,
     "metadata": {},
     "output_type": "execute_result"
    }
   ],
   "source": [
    "forcasting"
   ]
  },
  {
   "cell_type": "markdown",
   "metadata": {},
   "source": [
    "There are **100127** departures, **100102** arrivals and **200229** total operations in 2018.   \n",
    "According to the forecasting, there are **97764** departures and **97764** arrivals, which is very close to the true counts of operations. "
   ]
  },
  {
   "cell_type": "markdown",
   "metadata": {},
   "source": [
    "#### b) Design Aircraft "
   ]
  },
  {
   "cell_type": "markdown",
   "metadata": {},
   "source": [
    "(1)The design aircraft by forecasting is Boeing 777. In fact, the design aircraft is Boeing 777 and Boeing 747.  \n",
    "(2)The forecasting does not consider the introduction of the new aircraft type.  \n",
    "(3)However, the forecasting is still effective because it still consider Boeing 777 as its design aircraft, which would give the same result for runway length requirement. "
   ]
  },
  {
   "cell_type": "markdown",
   "metadata": {},
   "source": [
    "#### c) Peak Hour  AWPM"
   ]
  },
  {
   "cell_type": "markdown",
   "metadata": {},
   "source": [
    "According to the forecasting, the max hour departure is 34, arrival is 24 and total operation is 44 on AWPM. \n",
    "In fact, max hour departure is 28, arrival is 25 and total operation is 41 on AWPM.  \n",
    "The forecasting overestimate the max departure by around 20%, but almost correctly predict the max hourly arrivals and total operations.  \n",
    "Therefore, the result of the forecasting is reasonably reliable. "
   ]
  },
  {
   "cell_type": "markdown",
   "metadata": {},
   "source": [
    "#### d) Peak Rolling Hour AWPM"
   ]
  },
  {
   "cell_type": "markdown",
   "metadata": {},
   "source": [
    "37 26 48\n",
    "According to the forecasting, the max rolling hour departure is 37, arrival is 26 and total operation is 48 on AWPM. \n",
    "In fact, max hour departure is 36, arrival is 32 and total operation is 45 on AWPM.  \n",
    "The forecasting underestimates the max rolling hour arrivals by around 27%, but almost correctly predict the max rolling hour arrivals and total operations.  \n",
    "Therefore, the result of the forecasting is reasonably reliable. "
   ]
  },
  {
   "cell_type": "markdown",
   "metadata": {},
   "source": [
    "### 23. Under Built "
   ]
  },
  {
   "cell_type": "markdown",
   "metadata": {},
   "source": [
    "According to the data summary in 22, while the forecasting almost correctly predict the total operations, with slightly underestimation, it overestimates the max hourly departures on AWPM and underestimates the max rolling hour arrivals.   \n",
    "While other forecasting is precise, if I built an airport based on forecasting, it will be slightly **under built**. "
   ]
  },
  {
   "cell_type": "markdown",
   "metadata": {},
   "source": [
    "### 24. Perspectives"
   ]
  },
  {
   "cell_type": "markdown",
   "metadata": {},
   "source": [
    "**Passenger perspective:**  \n",
    "1. The airport has seen a growth of operations from around 8000 departures, 8000 arrivals and 16,000 total operations to 10,000 departures, 10,000 arrivals and 20,000 total operations. The growth of operations would mean more choices of flights to passengers. To be more specific, **more time flexibility and more destinations** choices. For example, while in 2011 there were only 1 intercontinental flight, from SAN to LHR, in 2018, there are three non-stop routes to Europe.  \n",
    "2. However, the airport is more crowded. While there is a growth in operations, the runway remains the same. Therefore, the passengers would reasonably expect more traffic and crowd. This would means possibly more delays, more crowded waiting rooms and more waiting time etc.   \n",
    "\n",
    "**Airline perspective:**  \n",
    "1. The airport has seen and increase in operations. Therefore, the airline would expect **more passengers**. Moreover, more operations might influence the pricing strategies, aircraft type choices and adjustment for scheduling etc.   \n",
    "2. The airport might encounter increased burden during the peak rolling hour. Therefore, the airlines should be prepared.\n",
    "\n",
    "**FAA perspective:** \n",
    "1. The biggest challenge for FAA is to make sure the safety of the airport operations. More operations in the airport while the runway remains the same require more coordination  from ATC.  \n",
    "2. According to the growth, the airport might be under built in the future. Therefore, FAA might consider the future expansion and construction. "
   ]
  },
  {
   "cell_type": "code",
   "execution_count": null,
   "metadata": {
    "collapsed": true
   },
   "outputs": [],
   "source": []
  }
 ],
 "metadata": {
  "kernelspec": {
   "display_name": "Python 3",
   "language": "python",
   "name": "python3"
  },
  "language_info": {
   "codemirror_mode": {
    "name": "ipython",
    "version": 3
   },
   "file_extension": ".py",
   "mimetype": "text/x-python",
   "name": "python",
   "nbconvert_exporter": "python",
   "pygments_lexer": "ipython3",
   "version": "3.6.2"
  }
 },
 "nbformat": 4,
 "nbformat_minor": 2
}
